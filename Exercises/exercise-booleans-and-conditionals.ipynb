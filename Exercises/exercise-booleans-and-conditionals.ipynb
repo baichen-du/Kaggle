{
 "cells": [
  {
   "cell_type": "markdown",
   "id": "5ce5ea22",
   "metadata": {
    "papermill": {
     "duration": 0.012113,
     "end_time": "2024-08-20T05:20:43.848362",
     "exception": false,
     "start_time": "2024-08-20T05:20:43.836249",
     "status": "completed"
    },
    "tags": []
   },
   "source": [
    "**This notebook is an exercise in the [Python](https://www.kaggle.com/learn/python) course.  You can reference the tutorial at [this link](https://www.kaggle.com/colinmorris/booleans-and-conditionals).**\n",
    "\n",
    "---\n"
   ]
  },
  {
   "cell_type": "markdown",
   "id": "4bfe0810",
   "metadata": {
    "papermill": {
     "duration": 0.011543,
     "end_time": "2024-08-20T05:20:43.872281",
     "exception": false,
     "start_time": "2024-08-20T05:20:43.860738",
     "status": "completed"
    },
    "tags": []
   },
   "source": [
    "In this exercise, you'll put to work what you have learned about booleans and conditionals.\n",
    "\n",
    "To get started, **run the setup code below** before writing your own code (and if you leave this notebook and come back later, don't forget to run the setup code again)."
   ]
  },
  {
   "cell_type": "code",
   "execution_count": 1,
   "id": "45ccd228",
   "metadata": {
    "execution": {
     "iopub.execute_input": "2024-08-20T05:20:43.897621Z",
     "iopub.status.busy": "2024-08-20T05:20:43.897166Z",
     "iopub.status.idle": "2024-08-20T05:20:44.993831Z",
     "shell.execute_reply": "2024-08-20T05:20:44.992587Z"
    },
    "papermill": {
     "duration": 1.112582,
     "end_time": "2024-08-20T05:20:44.996679",
     "exception": false,
     "start_time": "2024-08-20T05:20:43.884097",
     "status": "completed"
    },
    "tags": []
   },
   "outputs": [
    {
     "name": "stdout",
     "output_type": "stream",
     "text": [
      "Setup complete.\n"
     ]
    }
   ],
   "source": [
    "from learntools.core import binder; binder.bind(globals())\n",
    "from learntools.python.ex3 import *\n",
    "print('Setup complete.')"
   ]
  },
  {
   "cell_type": "markdown",
   "id": "b61c43cc",
   "metadata": {
    "papermill": {
     "duration": 0.011634,
     "end_time": "2024-08-20T05:20:45.020820",
     "exception": false,
     "start_time": "2024-08-20T05:20:45.009186",
     "status": "completed"
    },
    "tags": []
   },
   "source": [
    "# 1.\n",
    "\n",
    "Many programming languages have [`sign`](https://en.wikipedia.org/wiki/Sign_function) available as a built-in function. Python doesn't, but we can define our own!\n",
    "\n",
    "In the cell below, define a function called `sign` which takes a numerical argument and returns -1 if it's negative, 1 if it's positive, and 0 if it's 0."
   ]
  },
  {
   "cell_type": "code",
   "execution_count": 2,
   "id": "eaa37502",
   "metadata": {
    "execution": {
     "iopub.execute_input": "2024-08-20T05:20:45.046890Z",
     "iopub.status.busy": "2024-08-20T05:20:45.045960Z",
     "iopub.status.idle": "2024-08-20T05:20:45.057913Z",
     "shell.execute_reply": "2024-08-20T05:20:45.056641Z"
    },
    "papermill": {
     "duration": 0.027397,
     "end_time": "2024-08-20T05:20:45.060233",
     "exception": false,
     "start_time": "2024-08-20T05:20:45.032836",
     "status": "completed"
    },
    "tags": []
   },
   "outputs": [
    {
     "data": {
      "application/javascript": [
       "parent.postMessage({\"jupyterEvent\": \"custom.exercise_interaction\", \"data\": {\"outcomeType\": 1, \"valueTowardsCompletion\": 0.2, \"interactionType\": 1, \"questionType\": 2, \"questionId\": \"1_SignFunctionProblem\", \"learnToolsVersion\": \"0.3.4\", \"failureMessage\": \"\", \"exceptionClass\": \"\", \"trace\": \"\"}}, \"*\")"
      ],
      "text/plain": [
       "<IPython.core.display.Javascript object>"
      ]
     },
     "metadata": {},
     "output_type": "display_data"
    },
    {
     "data": {
      "text/markdown": [
       "<span style=\"color:#33cc33\">Correct</span>"
      ],
      "text/plain": [
       "Correct"
      ]
     },
     "metadata": {},
     "output_type": "display_data"
    }
   ],
   "source": [
    "# Your code goes here. Define a function called 'sign'\n",
    "def sign(num):\n",
    "    if num < 0:\n",
    "        return -1\n",
    "    elif num >0:\n",
    "        return 1\n",
    "    elif num == 0:\n",
    "        return 0\n",
    "# Check your answer\n",
    "q1.check()"
   ]
  },
  {
   "cell_type": "code",
   "execution_count": 3,
   "id": "2a4cd1fa",
   "metadata": {
    "execution": {
     "iopub.execute_input": "2024-08-20T05:20:45.087646Z",
     "iopub.status.busy": "2024-08-20T05:20:45.086595Z",
     "iopub.status.idle": "2024-08-20T05:20:45.096627Z",
     "shell.execute_reply": "2024-08-20T05:20:45.095390Z"
    },
    "papermill": {
     "duration": 0.026769,
     "end_time": "2024-08-20T05:20:45.099087",
     "exception": false,
     "start_time": "2024-08-20T05:20:45.072318",
     "status": "completed"
    },
    "tags": []
   },
   "outputs": [
    {
     "data": {
      "application/javascript": [
       "parent.postMessage({\"jupyterEvent\": \"custom.exercise_interaction\", \"data\": {\"interactionType\": 3, \"questionType\": 2, \"questionId\": \"1_SignFunctionProblem\", \"learnToolsVersion\": \"0.3.4\", \"valueTowardsCompletion\": 0.0, \"failureMessage\": \"\", \"exceptionClass\": \"\", \"trace\": \"\", \"outcomeType\": 4}}, \"*\")"
      ],
      "text/plain": [
       "<IPython.core.display.Javascript object>"
      ]
     },
     "metadata": {},
     "output_type": "display_data"
    },
    {
     "data": {
      "text/markdown": [
       "<span style=\"color:#33cc99\">Solution:</span> \n",
       "```python\n",
       "def sign(x):\n",
       "    if x > 0:\n",
       "        return 1\n",
       "    elif x < 0:\n",
       "        return -1\n",
       "    else:\n",
       "        return 0\n",
       "```"
      ],
      "text/plain": [
       "Solution: \n",
       "```python\n",
       "def sign(x):\n",
       "    if x > 0:\n",
       "        return 1\n",
       "    elif x < 0:\n",
       "        return -1\n",
       "    else:\n",
       "        return 0\n",
       "```"
      ]
     },
     "metadata": {},
     "output_type": "display_data"
    }
   ],
   "source": [
    "q1.solution()"
   ]
  },
  {
   "cell_type": "markdown",
   "id": "8b37ae0e",
   "metadata": {
    "papermill": {
     "duration": 0.012685,
     "end_time": "2024-08-20T05:20:45.124647",
     "exception": false,
     "start_time": "2024-08-20T05:20:45.111962",
     "status": "completed"
    },
    "tags": []
   },
   "source": [
    "# 2.\n",
    "\n",
    "We've decided to add \"logging\" to our `to_smash` function from the previous exercise."
   ]
  },
  {
   "cell_type": "code",
   "execution_count": 4,
   "id": "61590eb0",
   "metadata": {
    "execution": {
     "iopub.execute_input": "2024-08-20T05:20:45.153206Z",
     "iopub.status.busy": "2024-08-20T05:20:45.152628Z",
     "iopub.status.idle": "2024-08-20T05:20:45.163401Z",
     "shell.execute_reply": "2024-08-20T05:20:45.162284Z"
    },
    "papermill": {
     "duration": 0.027449,
     "end_time": "2024-08-20T05:20:45.165798",
     "exception": false,
     "start_time": "2024-08-20T05:20:45.138349",
     "status": "completed"
    },
    "tags": []
   },
   "outputs": [
    {
     "name": "stdout",
     "output_type": "stream",
     "text": [
      "Splitting 91 candies\n"
     ]
    },
    {
     "data": {
      "text/plain": [
       "1"
      ]
     },
     "execution_count": 4,
     "metadata": {},
     "output_type": "execute_result"
    }
   ],
   "source": [
    "def to_smash(total_candies):\n",
    "    \"\"\"Return the number of leftover candies that must be smashed after distributing\n",
    "    the given number of candies evenly between 3 friends.\n",
    "    \n",
    "    >>> to_smash(91)\n",
    "    1\n",
    "    \"\"\"\n",
    "    print(\"Splitting\", total_candies, \"candies\")\n",
    "    return total_candies % 3\n",
    "\n",
    "to_smash(91)"
   ]
  },
  {
   "cell_type": "markdown",
   "id": "ecd1d6cc",
   "metadata": {
    "papermill": {
     "duration": 0.012632,
     "end_time": "2024-08-20T05:20:45.191520",
     "exception": false,
     "start_time": "2024-08-20T05:20:45.178888",
     "status": "completed"
    },
    "tags": []
   },
   "source": [
    "What happens if we call it with `total_candies = 1`?"
   ]
  },
  {
   "cell_type": "code",
   "execution_count": 5,
   "id": "39a52923",
   "metadata": {
    "execution": {
     "iopub.execute_input": "2024-08-20T05:20:45.219791Z",
     "iopub.status.busy": "2024-08-20T05:20:45.218866Z",
     "iopub.status.idle": "2024-08-20T05:20:45.227455Z",
     "shell.execute_reply": "2024-08-20T05:20:45.226139Z"
    },
    "papermill": {
     "duration": 0.026306,
     "end_time": "2024-08-20T05:20:45.230834",
     "exception": false,
     "start_time": "2024-08-20T05:20:45.204528",
     "status": "completed"
    },
    "tags": []
   },
   "outputs": [
    {
     "name": "stdout",
     "output_type": "stream",
     "text": [
      "Splitting 1 candies\n"
     ]
    },
    {
     "data": {
      "text/plain": [
       "1"
      ]
     },
     "execution_count": 5,
     "metadata": {},
     "output_type": "execute_result"
    }
   ],
   "source": [
    "to_smash(1)"
   ]
  },
  {
   "cell_type": "markdown",
   "id": "5eb2a652",
   "metadata": {
    "papermill": {
     "duration": 0.012996,
     "end_time": "2024-08-20T05:20:45.258985",
     "exception": false,
     "start_time": "2024-08-20T05:20:45.245989",
     "status": "completed"
    },
    "tags": []
   },
   "source": [
    "That isn't great grammar!\n",
    "\n",
    "Modify the definition in the cell below to correct the grammar of our print statement. (If there's only one candy, we should use the singular \"candy\" instead of the plural \"candies\")"
   ]
  },
  {
   "cell_type": "code",
   "execution_count": 6,
   "id": "94928387",
   "metadata": {
    "execution": {
     "iopub.execute_input": "2024-08-20T05:20:45.288055Z",
     "iopub.status.busy": "2024-08-20T05:20:45.286821Z",
     "iopub.status.idle": "2024-08-20T05:20:45.297903Z",
     "shell.execute_reply": "2024-08-20T05:20:45.296479Z"
    },
    "papermill": {
     "duration": 0.029093,
     "end_time": "2024-08-20T05:20:45.301285",
     "exception": false,
     "start_time": "2024-08-20T05:20:45.272192",
     "status": "completed"
    },
    "tags": []
   },
   "outputs": [
    {
     "name": "stdout",
     "output_type": "stream",
     "text": [
      "Splitting 91 candies\n",
      "Splitting 1 candy\n"
     ]
    },
    {
     "data": {
      "text/plain": [
       "1"
      ]
     },
     "execution_count": 6,
     "metadata": {},
     "output_type": "execute_result"
    }
   ],
   "source": [
    "def to_smash(total_candies):\n",
    "    \"\"\"Return the number of leftover candies that must be smashed after distributing\n",
    "    the given number of candies evenly between 3 friends.\n",
    "    \n",
    "    >>> to_smash(91)\n",
    "    1\n",
    "    \"\"\"\n",
    "    print(\"Splitting\", total_candies, \"candy\" if total_candies == 1 else \"candies\")\n",
    "    return total_candies % 3\n",
    "\n",
    "to_smash(91)\n",
    "to_smash(1)"
   ]
  },
  {
   "cell_type": "markdown",
   "id": "ba6a6cf8",
   "metadata": {
    "papermill": {
     "duration": 0.016585,
     "end_time": "2024-08-20T05:20:45.336863",
     "exception": false,
     "start_time": "2024-08-20T05:20:45.320278",
     "status": "completed"
    },
    "tags": []
   },
   "source": [
    "To get credit for completing this problem, and to see the official answer, run the code cell below."
   ]
  },
  {
   "cell_type": "code",
   "execution_count": 7,
   "id": "9067ab74",
   "metadata": {
    "execution": {
     "iopub.execute_input": "2024-08-20T05:20:45.367883Z",
     "iopub.status.busy": "2024-08-20T05:20:45.367473Z",
     "iopub.status.idle": "2024-08-20T05:20:45.376857Z",
     "shell.execute_reply": "2024-08-20T05:20:45.375819Z"
    },
    "papermill": {
     "duration": 0.028897,
     "end_time": "2024-08-20T05:20:45.379230",
     "exception": false,
     "start_time": "2024-08-20T05:20:45.350333",
     "status": "completed"
    },
    "tags": []
   },
   "outputs": [
    {
     "data": {
      "application/javascript": [
       "parent.postMessage({\"jupyterEvent\": \"custom.exercise_interaction\", \"data\": {\"interactionType\": 3, \"questionType\": 4, \"questionId\": \"2_PluralizationProblem\", \"learnToolsVersion\": \"0.3.4\", \"valueTowardsCompletion\": 0.0, \"failureMessage\": \"\", \"exceptionClass\": \"\", \"trace\": \"\", \"outcomeType\": 4}}, \"*\")"
      ],
      "text/plain": [
       "<IPython.core.display.Javascript object>"
      ]
     },
     "metadata": {},
     "output_type": "display_data"
    },
    {
     "data": {
      "text/markdown": [
       "<span style=\"color:#33cc99\">Solution:</span> A straightforward (and totally fine) solution is to replace the original `print` call with:\n",
       "\n",
       "```python\n",
       "if total_candies == 1:\n",
       "    print(\"Splitting 1 candy\")\n",
       "else:\n",
       "    print(\"Splitting\", total_candies, \"candies\")\n",
       "```\n",
       "\n",
       "Here's a slightly more succinct solution using a conditional expression:\n",
       "\n",
       "```python\n",
       "print(\"Splitting\", total_candies, \"candy\" if total_candies == 1 else \"candies\")\n",
       "```"
      ],
      "text/plain": [
       "Solution: A straightforward (and totally fine) solution is to replace the original `print` call with:\n",
       "\n",
       "```python\n",
       "if total_candies == 1:\n",
       "    print(\"Splitting 1 candy\")\n",
       "else:\n",
       "    print(\"Splitting\", total_candies, \"candies\")\n",
       "```\n",
       "\n",
       "Here's a slightly more succinct solution using a conditional expression:\n",
       "\n",
       "```python\n",
       "print(\"Splitting\", total_candies, \"candy\" if total_candies == 1 else \"candies\")\n",
       "```"
      ]
     },
     "metadata": {},
     "output_type": "display_data"
    }
   ],
   "source": [
    "# Check your answer (Run this code cell to receive credit!)\n",
    "q2.solution()"
   ]
  },
  {
   "cell_type": "markdown",
   "id": "11cc855d",
   "metadata": {
    "papermill": {
     "duration": 0.013419,
     "end_time": "2024-08-20T05:20:45.406319",
     "exception": false,
     "start_time": "2024-08-20T05:20:45.392900",
     "status": "completed"
    },
    "tags": []
   },
   "source": [
    "# 3. <span title=\"A bit spicy\" style=\"color: darkgreen \">🌶️</span>\n",
    "\n",
    "In the tutorial, we talked about deciding whether we're prepared for the weather. I said that I'm safe from today's weather if...\n",
    "- I have an umbrella...\n",
    "- or if the rain isn't too heavy and I have a hood...\n",
    "- otherwise, I'm still fine unless it's raining *and* it's a workday\n",
    "\n",
    "The function below uses our first attempt at turning this logic into a Python expression. I claimed that there was a bug in that code. Can you find it?\n",
    "\n",
    "To prove that `prepared_for_weather` is buggy, come up with a set of inputs where either:\n",
    "- the function returns `False` (but should have returned `True`), or\n",
    "- the function returned `True` (but should have returned `False`).\n",
    "\n",
    "To get credit for completing this question, your code should return a <font color='#33cc33'>Correct</font> result."
   ]
  },
  {
   "cell_type": "code",
   "execution_count": 8,
   "id": "20999410",
   "metadata": {
    "execution": {
     "iopub.execute_input": "2024-08-20T05:20:45.436228Z",
     "iopub.status.busy": "2024-08-20T05:20:45.435848Z",
     "iopub.status.idle": "2024-08-20T05:20:45.448301Z",
     "shell.execute_reply": "2024-08-20T05:20:45.447175Z"
    },
    "papermill": {
     "duration": 0.030281,
     "end_time": "2024-08-20T05:20:45.450823",
     "exception": false,
     "start_time": "2024-08-20T05:20:45.420542",
     "status": "completed"
    },
    "tags": []
   },
   "outputs": [
    {
     "name": "stdout",
     "output_type": "stream",
     "text": [
      "False\n"
     ]
    },
    {
     "data": {
      "application/javascript": [
       "parent.postMessage({\"jupyterEvent\": \"custom.exercise_interaction\", \"data\": {\"outcomeType\": 1, \"valueTowardsCompletion\": 0.2, \"interactionType\": 1, \"questionType\": 1, \"questionId\": \"3_WeatherDebug\", \"learnToolsVersion\": \"0.3.4\", \"failureMessage\": \"\", \"exceptionClass\": \"\", \"trace\": \"\"}}, \"*\")"
      ],
      "text/plain": [
       "<IPython.core.display.Javascript object>"
      ]
     },
     "metadata": {},
     "output_type": "display_data"
    },
    {
     "data": {
      "text/markdown": [
       "<span style=\"color:#33cc33\">Correct:</span> \n",
       "\n",
       "One example of a failing test case is:\n",
       "\n",
       "```python\n",
       "have_umbrella = False\n",
       "rain_level = 0.0\n",
       "have_hood = False\n",
       "is_workday = False\n",
       "```\n",
       "\n",
       "Clearly we're prepared for the weather in this case. It's not raining. Not only that, it's not a workday, so we don't even need to leave the house! But our function will return False on these inputs.\n",
       "\n",
       "The key problem is that Python implictly parenthesizes the last part as:\n",
       "\n",
       "```python\n",
       "(not (rain_level > 0)) and is_workday\n",
       "```\n",
       "\n",
       "Whereas what we were trying to express would look more like:\n",
       "\n",
       "```python\n",
       "not (rain_level > 0 and is_workday)\n",
       "```\n"
      ],
      "text/plain": [
       "Correct: \n",
       "\n",
       "One example of a failing test case is:\n",
       "\n",
       "```python\n",
       "have_umbrella = False\n",
       "rain_level = 0.0\n",
       "have_hood = False\n",
       "is_workday = False\n",
       "```\n",
       "\n",
       "Clearly we're prepared for the weather in this case. It's not raining. Not only that, it's not a workday, so we don't even need to leave the house! But our function will return False on these inputs.\n",
       "\n",
       "The key problem is that Python implictly parenthesizes the last part as:\n",
       "\n",
       "```python\n",
       "(not (rain_level > 0)) and is_workday\n",
       "```\n",
       "\n",
       "Whereas what we were trying to express would look more like:\n",
       "\n",
       "```python\n",
       "not (rain_level > 0 and is_workday)\n",
       "```"
      ]
     },
     "metadata": {},
     "output_type": "display_data"
    }
   ],
   "source": [
    "def prepared_for_weather(have_umbrella, rain_level, have_hood, is_workday):\n",
    "    # Don't change this code. Our goal is just to find the bug, not fix it!\n",
    "    return have_umbrella or rain_level < 5 and have_hood or not rain_level > 0 and is_workday\n",
    "\n",
    "# Change the values of these inputs so they represent a case where prepared_for_weather\n",
    "# returns the wrong answer.\n",
    "have_umbrella = False\n",
    "rain_level = 0.0\n",
    "have_hood = False\n",
    "is_workday = False\n",
    "\n",
    "# Check what the function returns given the current values of the variables above\n",
    "actual = prepared_for_weather(have_umbrella, rain_level, have_hood, is_workday)\n",
    "print(actual)\n",
    "\n",
    "# Check your answer\n",
    "q3.check()"
   ]
  },
  {
   "cell_type": "code",
   "execution_count": 9,
   "id": "1514397a",
   "metadata": {
    "execution": {
     "iopub.execute_input": "2024-08-20T05:20:45.480859Z",
     "iopub.status.busy": "2024-08-20T05:20:45.480435Z",
     "iopub.status.idle": "2024-08-20T05:20:45.485029Z",
     "shell.execute_reply": "2024-08-20T05:20:45.483916Z"
    },
    "papermill": {
     "duration": 0.022455,
     "end_time": "2024-08-20T05:20:45.487429",
     "exception": false,
     "start_time": "2024-08-20T05:20:45.464974",
     "status": "completed"
    },
    "tags": []
   },
   "outputs": [],
   "source": [
    "#q3.hint()\n",
    "#q3.solution()"
   ]
  },
  {
   "cell_type": "markdown",
   "id": "68f49eb7",
   "metadata": {
    "papermill": {
     "duration": 0.01397,
     "end_time": "2024-08-20T05:20:45.515817",
     "exception": false,
     "start_time": "2024-08-20T05:20:45.501847",
     "status": "completed"
    },
    "tags": []
   },
   "source": [
    "# 4.\n",
    "\n",
    "The function `is_negative` below is implemented correctly - it returns True if the given number is negative and False otherwise.\n",
    "\n",
    "However, it's more verbose than it needs to be. We can actually reduce the number of lines of code in this function by *75%* while keeping the same behaviour. \n",
    "\n",
    "See if you can come up with an equivalent body that uses just **one line** of code, and put it in the function `concise_is_negative`. (HINT: you don't even need Python's ternary syntax)"
   ]
  },
  {
   "cell_type": "code",
   "execution_count": 10,
   "id": "090c38bd",
   "metadata": {
    "execution": {
     "iopub.execute_input": "2024-08-20T05:20:45.545871Z",
     "iopub.status.busy": "2024-08-20T05:20:45.545448Z",
     "iopub.status.idle": "2024-08-20T05:20:45.555558Z",
     "shell.execute_reply": "2024-08-20T05:20:45.554425Z"
    },
    "papermill": {
     "duration": 0.027907,
     "end_time": "2024-08-20T05:20:45.557939",
     "exception": false,
     "start_time": "2024-08-20T05:20:45.530032",
     "status": "completed"
    },
    "tags": []
   },
   "outputs": [
    {
     "data": {
      "application/javascript": [
       "parent.postMessage({\"jupyterEvent\": \"custom.exercise_interaction\", \"data\": {\"outcomeType\": 1, \"valueTowardsCompletion\": 0.2, \"interactionType\": 1, \"questionType\": 2, \"questionId\": \"4_ConciseIsNegative\", \"learnToolsVersion\": \"0.3.4\", \"failureMessage\": \"\", \"exceptionClass\": \"\", \"trace\": \"\"}}, \"*\")"
      ],
      "text/plain": [
       "<IPython.core.display.Javascript object>"
      ]
     },
     "metadata": {},
     "output_type": "display_data"
    },
    {
     "data": {
      "text/markdown": [
       "<span style=\"color:#33cc33\">Correct</span>"
      ],
      "text/plain": [
       "Correct"
      ]
     },
     "metadata": {},
     "output_type": "display_data"
    }
   ],
   "source": [
    "def is_negative(number):\n",
    "    if number < 0:\n",
    "        return True\n",
    "    else:\n",
    "        return False\n",
    "\n",
    "def concise_is_negative(number):\n",
    "    return number <0\n",
    "\n",
    "# Check your answer\n",
    "q4.check()"
   ]
  },
  {
   "cell_type": "code",
   "execution_count": 11,
   "id": "0bfa02d6",
   "metadata": {
    "execution": {
     "iopub.execute_input": "2024-08-20T05:20:45.589439Z",
     "iopub.status.busy": "2024-08-20T05:20:45.588648Z",
     "iopub.status.idle": "2024-08-20T05:20:45.598231Z",
     "shell.execute_reply": "2024-08-20T05:20:45.597182Z"
    },
    "papermill": {
     "duration": 0.028372,
     "end_time": "2024-08-20T05:20:45.600976",
     "exception": false,
     "start_time": "2024-08-20T05:20:45.572604",
     "status": "completed"
    },
    "tags": []
   },
   "outputs": [
    {
     "data": {
      "application/javascript": [
       "parent.postMessage({\"jupyterEvent\": \"custom.exercise_interaction\", \"data\": {\"interactionType\": 3, \"questionType\": 2, \"questionId\": \"4_ConciseIsNegative\", \"learnToolsVersion\": \"0.3.4\", \"valueTowardsCompletion\": 0.0, \"failureMessage\": \"\", \"exceptionClass\": \"\", \"trace\": \"\", \"outcomeType\": 4}}, \"*\")"
      ],
      "text/plain": [
       "<IPython.core.display.Javascript object>"
      ]
     },
     "metadata": {},
     "output_type": "display_data"
    },
    {
     "data": {
      "text/markdown": [
       "<span style=\"color:#33cc99\">Solution:</span> \n",
       "```python\n",
       "return number < 0\n",
       "```"
      ],
      "text/plain": [
       "Solution: \n",
       "```python\n",
       "return number < 0\n",
       "```"
      ]
     },
     "metadata": {},
     "output_type": "display_data"
    }
   ],
   "source": [
    "#q4.hint()\n",
    "q4.solution()"
   ]
  },
  {
   "cell_type": "markdown",
   "id": "3d4c6df2",
   "metadata": {
    "papermill": {
     "duration": 0.015417,
     "end_time": "2024-08-20T05:20:45.631783",
     "exception": false,
     "start_time": "2024-08-20T05:20:45.616366",
     "status": "completed"
    },
    "tags": []
   },
   "source": [
    "# 5a.\n",
    "\n",
    "The boolean variables `ketchup`, `mustard` and `onion` represent whether a customer wants a particular topping on their hot dog. We want to implement a number of boolean functions that correspond to some yes-or-no questions about the customer's order. For example:"
   ]
  },
  {
   "cell_type": "code",
   "execution_count": 12,
   "id": "b57320d8",
   "metadata": {
    "execution": {
     "iopub.execute_input": "2024-08-20T05:20:45.664227Z",
     "iopub.status.busy": "2024-08-20T05:20:45.663842Z",
     "iopub.status.idle": "2024-08-20T05:20:45.669595Z",
     "shell.execute_reply": "2024-08-20T05:20:45.668358Z"
    },
    "papermill": {
     "duration": 0.025031,
     "end_time": "2024-08-20T05:20:45.672174",
     "exception": false,
     "start_time": "2024-08-20T05:20:45.647143",
     "status": "completed"
    },
    "tags": []
   },
   "outputs": [],
   "source": [
    "def onionless(ketchup, mustard, onion):\n",
    "    \"\"\"Return whether the customer doesn't want onions.\n",
    "    \"\"\"\n",
    "    return not onion"
   ]
  },
  {
   "cell_type": "code",
   "execution_count": 13,
   "id": "9de213b0",
   "metadata": {
    "execution": {
     "iopub.execute_input": "2024-08-20T05:20:45.704399Z",
     "iopub.status.busy": "2024-08-20T05:20:45.704004Z",
     "iopub.status.idle": "2024-08-20T05:20:45.714214Z",
     "shell.execute_reply": "2024-08-20T05:20:45.713032Z"
    },
    "papermill": {
     "duration": 0.029079,
     "end_time": "2024-08-20T05:20:45.716682",
     "exception": false,
     "start_time": "2024-08-20T05:20:45.687603",
     "status": "completed"
    },
    "tags": []
   },
   "outputs": [
    {
     "data": {
      "application/javascript": [
       "parent.postMessage({\"jupyterEvent\": \"custom.exercise_interaction\", \"data\": {\"outcomeType\": 1, \"valueTowardsCompletion\": 0.2, \"interactionType\": 1, \"questionType\": 2, \"questionId\": \"5.1_AllToppings\", \"learnToolsVersion\": \"0.3.4\", \"failureMessage\": \"\", \"exceptionClass\": \"\", \"trace\": \"\"}}, \"*\")"
      ],
      "text/plain": [
       "<IPython.core.display.Javascript object>"
      ]
     },
     "metadata": {},
     "output_type": "display_data"
    },
    {
     "data": {
      "text/markdown": [
       "<span style=\"color:#33cc33\">Correct</span>"
      ],
      "text/plain": [
       "Correct"
      ]
     },
     "metadata": {},
     "output_type": "display_data"
    }
   ],
   "source": [
    "def wants_all_toppings(ketchup, mustard, onion):\n",
    "    \"\"\"Return whether the customer wants \"the works\" (all 3 toppings)\n",
    "    \"\"\"\n",
    "    return (ketchup and mustard and onion)\n",
    "\n",
    "# Check your answer\n",
    "q5.a.check()"
   ]
  },
  {
   "cell_type": "code",
   "execution_count": 14,
   "id": "9b1f8692",
   "metadata": {
    "execution": {
     "iopub.execute_input": "2024-08-20T05:20:45.749358Z",
     "iopub.status.busy": "2024-08-20T05:20:45.748916Z",
     "iopub.status.idle": "2024-08-20T05:20:45.758019Z",
     "shell.execute_reply": "2024-08-20T05:20:45.756820Z"
    },
    "papermill": {
     "duration": 0.028415,
     "end_time": "2024-08-20T05:20:45.760553",
     "exception": false,
     "start_time": "2024-08-20T05:20:45.732138",
     "status": "completed"
    },
    "tags": []
   },
   "outputs": [
    {
     "data": {
      "application/javascript": [
       "parent.postMessage({\"jupyterEvent\": \"custom.exercise_interaction\", \"data\": {\"interactionType\": 3, \"questionType\": 2, \"questionId\": \"5.1_AllToppings\", \"learnToolsVersion\": \"0.3.4\", \"valueTowardsCompletion\": 0.0, \"failureMessage\": \"\", \"exceptionClass\": \"\", \"trace\": \"\", \"outcomeType\": 4}}, \"*\")"
      ],
      "text/plain": [
       "<IPython.core.display.Javascript object>"
      ]
     },
     "metadata": {},
     "output_type": "display_data"
    },
    {
     "data": {
      "text/markdown": [
       "<span style=\"color:#33cc99\">Solution:</span> \n",
       "```python\n",
       "return ketchup and mustard and onion\n",
       "```"
      ],
      "text/plain": [
       "Solution: \n",
       "```python\n",
       "return ketchup and mustard and onion\n",
       "```"
      ]
     },
     "metadata": {},
     "output_type": "display_data"
    }
   ],
   "source": [
    "#q5.a.hint()\n",
    "q5.a.solution()"
   ]
  },
  {
   "cell_type": "markdown",
   "id": "2e2fe8bd",
   "metadata": {
    "papermill": {
     "duration": 0.015378,
     "end_time": "2024-08-20T05:20:45.791825",
     "exception": false,
     "start_time": "2024-08-20T05:20:45.776447",
     "status": "completed"
    },
    "tags": []
   },
   "source": [
    "# 5b.\n",
    "\n",
    "For the next function, fill in the body to match the English description in the docstring. "
   ]
  },
  {
   "cell_type": "code",
   "execution_count": 15,
   "id": "f106d051",
   "metadata": {
    "execution": {
     "iopub.execute_input": "2024-08-20T05:20:45.826442Z",
     "iopub.status.busy": "2024-08-20T05:20:45.825565Z",
     "iopub.status.idle": "2024-08-20T05:20:45.836039Z",
     "shell.execute_reply": "2024-08-20T05:20:45.835049Z"
    },
    "papermill": {
     "duration": 0.031098,
     "end_time": "2024-08-20T05:20:45.838574",
     "exception": false,
     "start_time": "2024-08-20T05:20:45.807476",
     "status": "completed"
    },
    "tags": []
   },
   "outputs": [
    {
     "data": {
      "application/javascript": [
       "parent.postMessage({\"jupyterEvent\": \"custom.exercise_interaction\", \"data\": {\"outcomeType\": 1, \"valueTowardsCompletion\": 0.2, \"interactionType\": 1, \"questionType\": 2, \"questionId\": \"5.2_PlainDog\", \"learnToolsVersion\": \"0.3.4\", \"failureMessage\": \"\", \"exceptionClass\": \"\", \"trace\": \"\"}}, \"*\")"
      ],
      "text/plain": [
       "<IPython.core.display.Javascript object>"
      ]
     },
     "metadata": {},
     "output_type": "display_data"
    },
    {
     "data": {
      "text/markdown": [
       "<span style=\"color:#33cc33\">Correct:</span> \n",
       "\n",
       "One solution looks like:\n",
       "```python\n",
       "return not ketchup and not mustard and not onion\n",
       "```\n",
       "\n",
       "We can also [\"factor out\" the nots](https://en.wikipedia.org/wiki/De_Morgan%27s_laws) to get:\n",
       "\n",
       "```python\n",
       "return not (ketchup or mustard or onion)\n",
       "```"
      ],
      "text/plain": [
       "Correct: \n",
       "\n",
       "One solution looks like:\n",
       "```python\n",
       "return not ketchup and not mustard and not onion\n",
       "```\n",
       "\n",
       "We can also [\"factor out\" the nots](https://en.wikipedia.org/wiki/De_Morgan%27s_laws) to get:\n",
       "\n",
       "```python\n",
       "return not (ketchup or mustard or onion)\n",
       "```"
      ]
     },
     "metadata": {},
     "output_type": "display_data"
    }
   ],
   "source": [
    "def wants_plain_hotdog(ketchup, mustard, onion):\n",
    "    \"\"\"Return whether the customer wants a plain hot dog with no toppings.\n",
    "    \"\"\"\n",
    "    return not (ketchup or mustard or onion)\n",
    "\n",
    "# Check your answer\n",
    "q5.b.check()"
   ]
  },
  {
   "cell_type": "code",
   "execution_count": 16,
   "id": "9462740e",
   "metadata": {
    "execution": {
     "iopub.execute_input": "2024-08-20T05:20:45.873674Z",
     "iopub.status.busy": "2024-08-20T05:20:45.873219Z",
     "iopub.status.idle": "2024-08-20T05:20:45.878253Z",
     "shell.execute_reply": "2024-08-20T05:20:45.877113Z"
    },
    "papermill": {
     "duration": 0.02609,
     "end_time": "2024-08-20T05:20:45.880822",
     "exception": false,
     "start_time": "2024-08-20T05:20:45.854732",
     "status": "completed"
    },
    "tags": []
   },
   "outputs": [],
   "source": [
    "#q5.b.hint()\n",
    "#q5.b.solution()"
   ]
  },
  {
   "cell_type": "markdown",
   "id": "1654398c",
   "metadata": {
    "papermill": {
     "duration": 0.016078,
     "end_time": "2024-08-20T05:20:45.913247",
     "exception": false,
     "start_time": "2024-08-20T05:20:45.897169",
     "status": "completed"
    },
    "tags": []
   },
   "source": [
    "# 5c.\n",
    "\n",
    "You know what to do: for the next function, fill in the body to match the English description in the docstring."
   ]
  },
  {
   "cell_type": "code",
   "execution_count": 17,
   "id": "7801c932",
   "metadata": {
    "execution": {
     "iopub.execute_input": "2024-08-20T05:20:45.948784Z",
     "iopub.status.busy": "2024-08-20T05:20:45.948394Z",
     "iopub.status.idle": "2024-08-20T05:20:45.959969Z",
     "shell.execute_reply": "2024-08-20T05:20:45.957984Z"
    },
    "papermill": {
     "duration": 0.031801,
     "end_time": "2024-08-20T05:20:45.962721",
     "exception": false,
     "start_time": "2024-08-20T05:20:45.930920",
     "status": "completed"
    },
    "tags": []
   },
   "outputs": [
    {
     "data": {
      "application/javascript": [
       "parent.postMessage({\"jupyterEvent\": \"custom.exercise_interaction\", \"data\": {\"outcomeType\": 1, \"valueTowardsCompletion\": 0.2, \"interactionType\": 1, \"questionType\": 2, \"questionId\": \"5.3_OneSauce\", \"learnToolsVersion\": \"0.3.4\", \"failureMessage\": \"\", \"exceptionClass\": \"\", \"trace\": \"\"}}, \"*\")"
      ],
      "text/plain": [
       "<IPython.core.display.Javascript object>"
      ]
     },
     "metadata": {},
     "output_type": "display_data"
    },
    {
     "data": {
      "text/markdown": [
       "<span style=\"color:#33cc33\">Correct</span>"
      ],
      "text/plain": [
       "Correct"
      ]
     },
     "metadata": {},
     "output_type": "display_data"
    }
   ],
   "source": [
    "def exactly_one_sauce(ketchup, mustard, onion):\n",
    "    \"\"\"Return whether the customer wants either ketchup or mustard, but not both.\n",
    "    (You may be familiar with this operation under the name \"exclusive or\")\n",
    "    \"\"\"\n",
    "    return (ketchup or mustard) and not (ketchup and mustard)\n",
    "\n",
    "# Check your answer\n",
    "q5.c.check()"
   ]
  },
  {
   "cell_type": "code",
   "execution_count": 18,
   "id": "7aeccd91",
   "metadata": {
    "execution": {
     "iopub.execute_input": "2024-08-20T05:20:45.997925Z",
     "iopub.status.busy": "2024-08-20T05:20:45.997499Z",
     "iopub.status.idle": "2024-08-20T05:20:46.007098Z",
     "shell.execute_reply": "2024-08-20T05:20:46.005987Z"
    },
    "papermill": {
     "duration": 0.030094,
     "end_time": "2024-08-20T05:20:46.009529",
     "exception": false,
     "start_time": "2024-08-20T05:20:45.979435",
     "status": "completed"
    },
    "tags": []
   },
   "outputs": [
    {
     "data": {
      "application/javascript": [
       "parent.postMessage({\"jupyterEvent\": \"custom.exercise_interaction\", \"data\": {\"interactionType\": 3, \"questionType\": 2, \"questionId\": \"5.3_OneSauce\", \"learnToolsVersion\": \"0.3.4\", \"valueTowardsCompletion\": 0.0, \"failureMessage\": \"\", \"exceptionClass\": \"\", \"trace\": \"\", \"outcomeType\": 4}}, \"*\")"
      ],
      "text/plain": [
       "<IPython.core.display.Javascript object>"
      ]
     },
     "metadata": {},
     "output_type": "display_data"
    },
    {
     "data": {
      "text/markdown": [
       "<span style=\"color:#33cc99\">Solution:</span> \n",
       "```python\n",
       "return (ketchup and not mustard) or (mustard and not ketchup)\n",
       "```"
      ],
      "text/plain": [
       "Solution: \n",
       "```python\n",
       "return (ketchup and not mustard) or (mustard and not ketchup)\n",
       "```"
      ]
     },
     "metadata": {},
     "output_type": "display_data"
    }
   ],
   "source": [
    "#q5.c.hint()\n",
    "q5.c.solution()"
   ]
  },
  {
   "cell_type": "markdown",
   "id": "d37c25b2",
   "metadata": {
    "papermill": {
     "duration": 0.016592,
     "end_time": "2024-08-20T05:20:46.042949",
     "exception": false,
     "start_time": "2024-08-20T05:20:46.026357",
     "status": "completed"
    },
    "tags": []
   },
   "source": [
    "# 6. <span title=\"A bit spicy\" style=\"color: darkgreen \">🌶️</span>\n",
    "\n",
    "We’ve seen that calling `bool()` on an integer returns `False` if it’s equal to 0 and `True` otherwise. What happens if we call `int()` on a bool? Try it out in the notebook cell below.\n",
    "\n",
    "Can you take advantage of this to write a succinct function that corresponds to the English sentence \"does the customer want exactly one topping?\"?"
   ]
  },
  {
   "cell_type": "code",
   "execution_count": 19,
   "id": "65c13ade",
   "metadata": {
    "execution": {
     "iopub.execute_input": "2024-08-20T05:20:46.079553Z",
     "iopub.status.busy": "2024-08-20T05:20:46.079157Z",
     "iopub.status.idle": "2024-08-20T05:20:46.090574Z",
     "shell.execute_reply": "2024-08-20T05:20:46.089412Z"
    },
    "papermill": {
     "duration": 0.032735,
     "end_time": "2024-08-20T05:20:46.093443",
     "exception": false,
     "start_time": "2024-08-20T05:20:46.060708",
     "status": "completed"
    },
    "tags": []
   },
   "outputs": [
    {
     "name": "stdout",
     "output_type": "stream",
     "text": [
      "\n"
     ]
    },
    {
     "data": {
      "application/javascript": [
       "parent.postMessage({\"jupyterEvent\": \"custom.exercise_interaction\", \"data\": {\"outcomeType\": 1, \"valueTowardsCompletion\": 0.2, \"interactionType\": 1, \"questionType\": 2, \"questionId\": \"6_OneTopping\", \"learnToolsVersion\": \"0.3.4\", \"failureMessage\": \"\", \"exceptionClass\": \"\", \"trace\": \"\"}}, \"*\")"
      ],
      "text/plain": [
       "<IPython.core.display.Javascript object>"
      ]
     },
     "metadata": {},
     "output_type": "display_data"
    },
    {
     "data": {
      "text/markdown": [
       "<span style=\"color:#33cc33\">Correct:</span> \n",
       "\n",
       "This condition would be pretty complicated to express using just `and`, `or` and `not`, but using boolean-to-integer conversion gives us this short solution:\n",
       "```python\n",
       "return (int(ketchup) + int(mustard) + int(onion)) == 1\n",
       "```\n",
       "\n",
       "Fun fact: we don't technically need to call `int` on the arguments. Just by doing addition with booleans, Python implicitly does the integer conversion. So we could also write...\n",
       "\n",
       "```python\n",
       "return (ketchup + mustard + onion) == 1\n",
       "```"
      ],
      "text/plain": [
       "Correct: \n",
       "\n",
       "This condition would be pretty complicated to express using just `and`, `or` and `not`, but using boolean-to-integer conversion gives us this short solution:\n",
       "```python\n",
       "return (int(ketchup) + int(mustard) + int(onion)) == 1\n",
       "```\n",
       "\n",
       "Fun fact: we don't technically need to call `int` on the arguments. Just by doing addition with booleans, Python implicitly does the integer conversion. So we could also write...\n",
       "\n",
       "```python\n",
       "return (ketchup + mustard + onion) == 1\n",
       "```"
      ]
     },
     "metadata": {},
     "output_type": "display_data"
    }
   ],
   "source": [
    "def exactly_one_topping(ketchup, mustard, onion):\n",
    "    \"\"\"Return whether the customer wants exactly one of the three available toppings\n",
    "    on their hot dog.\n",
    "    \"\"\"\n",
    "    return (int(ketchup) + int(mustard) + int(onion)) == 1\n",
    "\n",
    "print()\n",
    "\n",
    "# Check your answer\n",
    "q6.check()"
   ]
  },
  {
   "cell_type": "code",
   "execution_count": 20,
   "id": "19530545",
   "metadata": {
    "execution": {
     "iopub.execute_input": "2024-08-20T05:20:46.192324Z",
     "iopub.status.busy": "2024-08-20T05:20:46.191934Z",
     "iopub.status.idle": "2024-08-20T05:20:46.196859Z",
     "shell.execute_reply": "2024-08-20T05:20:46.195714Z"
    },
    "papermill": {
     "duration": 0.026296,
     "end_time": "2024-08-20T05:20:46.199272",
     "exception": false,
     "start_time": "2024-08-20T05:20:46.172976",
     "status": "completed"
    },
    "tags": []
   },
   "outputs": [],
   "source": [
    "#q6.hint()\n",
    "#q6.solution()"
   ]
  },
  {
   "cell_type": "markdown",
   "id": "18f6db74",
   "metadata": {
    "papermill": {
     "duration": 0.017438,
     "end_time": "2024-08-20T05:20:46.234144",
     "exception": false,
     "start_time": "2024-08-20T05:20:46.216706",
     "status": "completed"
    },
    "tags": []
   },
   "source": [
    "# 7. <span title=\"A bit spicy\" style=\"color: darkgreen \">🌶️</span> (Optional)\n",
    "\n",
    "In this problem we'll be working with a simplified version of [blackjack](https://en.wikipedia.org/wiki/Blackjack) (aka twenty-one). In this version there is one player (who you'll control) and a dealer. Play proceeds as follows:\n",
    "\n",
    "- The player is dealt two face-up cards. The dealer is dealt one face-up card.\n",
    "- The player may ask to be dealt another card ('hit') as many times as they wish. If the sum of their cards exceeds 21, they lose the round immediately.\n",
    "- The dealer then deals additional cards to himself until either:\n",
    "    - the sum of the dealer's cards exceeds 21, in which case the player wins the round\n",
    "    - the sum of the dealer's cards is greater than or equal to 17. If the player's total is greater than the dealer's, the player wins. Otherwise, the dealer wins (even in case of a tie).\n",
    "    \n",
    "When calculating the sum of cards, Jack, Queen, and King count for 10. Aces can count as 1 or 11 (when referring to a player's \"total\" above, we mean the largest total that can be made without exceeding 21. So e.g. A+8 = 19, A+8+8 = 17)\n",
    "\n",
    "For this problem, you'll write a function representing the player's decision-making strategy in this game. We've provided a very unintelligent implementation below:"
   ]
  },
  {
   "cell_type": "code",
   "execution_count": 21,
   "id": "9972882d",
   "metadata": {
    "execution": {
     "iopub.execute_input": "2024-08-20T05:20:46.271172Z",
     "iopub.status.busy": "2024-08-20T05:20:46.270766Z",
     "iopub.status.idle": "2024-08-20T05:20:46.276674Z",
     "shell.execute_reply": "2024-08-20T05:20:46.275472Z"
    },
    "papermill": {
     "duration": 0.027766,
     "end_time": "2024-08-20T05:20:46.279229",
     "exception": false,
     "start_time": "2024-08-20T05:20:46.251463",
     "status": "completed"
    },
    "tags": []
   },
   "outputs": [],
   "source": [
    "def should_hit(dealer_total, player_total, player_low_aces, player_high_aces):\n",
    "    \"\"\"Return True if the player should hit (request another card) given the current game\n",
    "    state, or False if the player should stay.\n",
    "    When calculating a hand's total value, we count aces as \"high\" (with value 11) if doing so\n",
    "    doesn't bring the total above 21, otherwise we count them as low (with value 1). \n",
    "    For example, if the player's hand is {A, A, A, 7}, we will count it as 11 + 1 + 1 + 7,\n",
    "    and therefore set player_total=20, player_low_aces=2, player_high_aces=1.\n",
    "    \"\"\"\n",
    "    return False"
   ]
  },
  {
   "cell_type": "markdown",
   "id": "0ee545b2",
   "metadata": {
    "papermill": {
     "duration": 0.017239,
     "end_time": "2024-08-20T05:20:46.313979",
     "exception": false,
     "start_time": "2024-08-20T05:20:46.296740",
     "status": "completed"
    },
    "tags": []
   },
   "source": [
    "This very conservative agent *always* sticks with the hand of two cards that they're dealt.\n",
    "\n",
    "We'll be simulating games between your player agent and our own dealer agent by calling your function.\n",
    "\n",
    "Try running the function below to see an example of a simulated game:"
   ]
  },
  {
   "cell_type": "code",
   "execution_count": 22,
   "id": "8f747513",
   "metadata": {
    "execution": {
     "iopub.execute_input": "2024-08-20T05:20:46.350538Z",
     "iopub.status.busy": "2024-08-20T05:20:46.350135Z",
     "iopub.status.idle": "2024-08-20T05:20:46.356314Z",
     "shell.execute_reply": "2024-08-20T05:20:46.355105Z"
    },
    "papermill": {
     "duration": 0.027678,
     "end_time": "2024-08-20T05:20:46.358999",
     "exception": false,
     "start_time": "2024-08-20T05:20:46.331321",
     "status": "completed"
    },
    "tags": []
   },
   "outputs": [
    {
     "name": "stdout",
     "output_type": "stream",
     "text": [
      "Player starts with Q and 4 (total = 14)\n",
      "Dealer starts with A\n",
      "\n",
      "__Player's turn__\n",
      "Player stays\n",
      "\n",
      "__Dealer's turn__\n",
      "Dealer hits and receives 9. (total = 20)\n",
      "Dealer stands.\n",
      "Dealer wins. 20 >= 14\n"
     ]
    }
   ],
   "source": [
    "q7.simulate_one_game()"
   ]
  },
  {
   "cell_type": "markdown",
   "id": "0116baca",
   "metadata": {
    "papermill": {
     "duration": 0.017563,
     "end_time": "2024-08-20T05:20:46.394232",
     "exception": false,
     "start_time": "2024-08-20T05:20:46.376669",
     "status": "completed"
    },
    "tags": []
   },
   "source": [
    "The real test of your agent's mettle is their average win rate over many games. Try calling the function below to simulate 50000 games of blackjack (it may take a couple seconds):"
   ]
  },
  {
   "cell_type": "code",
   "execution_count": 23,
   "id": "faec7706",
   "metadata": {
    "execution": {
     "iopub.execute_input": "2024-08-20T05:20:46.431623Z",
     "iopub.status.busy": "2024-08-20T05:20:46.430853Z",
     "iopub.status.idle": "2024-08-20T05:20:48.604178Z",
     "shell.execute_reply": "2024-08-20T05:20:48.602741Z"
    },
    "papermill": {
     "duration": 2.195252,
     "end_time": "2024-08-20T05:20:48.607053",
     "exception": false,
     "start_time": "2024-08-20T05:20:46.411801",
     "status": "completed"
    },
    "tags": []
   },
   "outputs": [
    {
     "name": "stdout",
     "output_type": "stream",
     "text": [
      "Player won 19145 out of 50000 games (win rate = 38.3%)\n"
     ]
    }
   ],
   "source": [
    "q7.simulate(n_games=50000)"
   ]
  },
  {
   "cell_type": "markdown",
   "id": "c48a367e",
   "metadata": {
    "papermill": {
     "duration": 0.01847,
     "end_time": "2024-08-20T05:20:48.644283",
     "exception": false,
     "start_time": "2024-08-20T05:20:48.625813",
     "status": "completed"
    },
    "tags": []
   },
   "source": [
    "Our dumb agent that completely ignores the game state still manages to win shockingly often!\n",
    "\n",
    "Try adding some more smarts to the `should_hit` function and see how it affects the results."
   ]
  },
  {
   "cell_type": "code",
   "execution_count": 24,
   "id": "74516b57",
   "metadata": {
    "execution": {
     "iopub.execute_input": "2024-08-20T05:20:48.683651Z",
     "iopub.status.busy": "2024-08-20T05:20:48.683259Z",
     "iopub.status.idle": "2024-08-20T05:20:50.920863Z",
     "shell.execute_reply": "2024-08-20T05:20:50.919733Z"
    },
    "papermill": {
     "duration": 2.260627,
     "end_time": "2024-08-20T05:20:50.923638",
     "exception": false,
     "start_time": "2024-08-20T05:20:48.663011",
     "status": "completed"
    },
    "tags": []
   },
   "outputs": [
    {
     "name": "stdout",
     "output_type": "stream",
     "text": [
      "Player won 19031 out of 50000 games (win rate = 38.1%)\n"
     ]
    }
   ],
   "source": [
    "def should_hit(dealer_total, player_total, player_low_aces, player_high_aces):\n",
    "    \"\"\"Return True if the player should hit (request another card) given the current game\n",
    "    state, or False if the player should stay.\n",
    "    When calculating a hand's total value, we count aces as \"high\" (with value 11) if doing so\n",
    "    doesn't bring the total above 21, otherwise we count them as low (with value 1). \n",
    "    For example, if the player's hand is {A, A, A, 7}, we will count it as 11 + 1 + 1 + 7,\n",
    "    and therefore set player_total=20, player_low_aces=2, player_high_aces=1.\n",
    "    \"\"\"\n",
    "    return False\n",
    "\n",
    "q7.simulate(n_games=50000)"
   ]
  },
  {
   "cell_type": "markdown",
   "id": "75932742",
   "metadata": {
    "papermill": {
     "duration": 0.017678,
     "end_time": "2024-08-20T05:20:50.960317",
     "exception": false,
     "start_time": "2024-08-20T05:20:50.942639",
     "status": "completed"
    },
    "tags": []
   },
   "source": [
    "# Keep Going\n",
    "\n",
    "Learn about **[lists and tuples](https://www.kaggle.com/colinmorris/lists)** to handle multiple items of data in a systematic way."
   ]
  },
  {
   "cell_type": "markdown",
   "id": "39a351c3",
   "metadata": {
    "papermill": {
     "duration": 0.019568,
     "end_time": "2024-08-20T05:20:50.997808",
     "exception": false,
     "start_time": "2024-08-20T05:20:50.978240",
     "status": "completed"
    },
    "tags": []
   },
   "source": [
    "---\n",
    "\n",
    "\n",
    "\n",
    "\n",
    "*Have questions or comments? Visit the [course discussion forum](https://www.kaggle.com/learn/python/discussion) to chat with other learners.*"
   ]
  }
 ],
 "metadata": {
  "kaggle": {
   "accelerator": "none",
   "dataSources": [],
   "isGpuEnabled": false,
   "isInternetEnabled": false,
   "language": "python",
   "sourceType": "notebook"
  },
  "kernelspec": {
   "display_name": "Python 3",
   "language": "python",
   "name": "python3"
  },
  "language_info": {
   "codemirror_mode": {
    "name": "ipython",
    "version": 3
   },
   "file_extension": ".py",
   "mimetype": "text/x-python",
   "name": "python",
   "nbconvert_exporter": "python",
   "pygments_lexer": "ipython3",
   "version": "3.10.13"
  },
  "learntools_metadata": {
   "lesson_index": 2,
   "type": "exercise"
  },
  "papermill": {
   "default_parameters": {},
   "duration": 10.874049,
   "end_time": "2024-08-20T05:20:51.538371",
   "environment_variables": {},
   "exception": null,
   "input_path": "__notebook__.ipynb",
   "output_path": "__notebook__.ipynb",
   "parameters": {},
   "start_time": "2024-08-20T05:20:40.664322",
   "version": "2.5.0"
  }
 },
 "nbformat": 4,
 "nbformat_minor": 5
}
