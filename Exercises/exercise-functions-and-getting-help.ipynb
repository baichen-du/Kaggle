{
 "cells": [
  {
   "cell_type": "markdown",
   "id": "83eb1a55",
   "metadata": {
    "papermill": {
     "duration": 0.006732,
     "end_time": "2024-08-20T05:15:11.981984",
     "exception": false,
     "start_time": "2024-08-20T05:15:11.975252",
     "status": "completed"
    },
    "tags": []
   },
   "source": [
    "**This notebook is an exercise in the [Python](https://www.kaggle.com/learn/python) course.  You can reference the tutorial at [this link](https://www.kaggle.com/colinmorris/functions-and-getting-help).**\n",
    "\n",
    "---\n"
   ]
  },
  {
   "cell_type": "markdown",
   "id": "c8a6ff3f",
   "metadata": {
    "papermill": {
     "duration": 0.006101,
     "end_time": "2024-08-20T05:15:11.994794",
     "exception": false,
     "start_time": "2024-08-20T05:15:11.988693",
     "status": "completed"
    },
    "tags": []
   },
   "source": [
    "Functions are powerful. Try writing some yourself.\n",
    "\n",
    "As before, don't forget to run the setup code below before jumping into question 1."
   ]
  },
  {
   "cell_type": "code",
   "execution_count": 1,
   "id": "e22645e4",
   "metadata": {
    "_kg_hide-input": true,
    "_kg_hide-output": true,
    "execution": {
     "iopub.execute_input": "2024-08-20T05:15:12.009180Z",
     "iopub.status.busy": "2024-08-20T05:15:12.008763Z",
     "iopub.status.idle": "2024-08-20T05:15:13.099658Z",
     "shell.execute_reply": "2024-08-20T05:15:13.098295Z"
    },
    "papermill": {
     "duration": 1.101313,
     "end_time": "2024-08-20T05:15:13.102359",
     "exception": false,
     "start_time": "2024-08-20T05:15:12.001046",
     "status": "completed"
    },
    "tags": []
   },
   "outputs": [
    {
     "name": "stdout",
     "output_type": "stream",
     "text": [
      "Setup complete.\n"
     ]
    }
   ],
   "source": [
    "# SETUP. You don't need to worry for now about what this code does or how it works.\n",
    "from learntools.core import binder; binder.bind(globals())\n",
    "from learntools.python.ex2 import *\n",
    "print('Setup complete.')"
   ]
  },
  {
   "cell_type": "markdown",
   "id": "ab25ed28",
   "metadata": {
    "papermill": {
     "duration": 0.006218,
     "end_time": "2024-08-20T05:15:13.115186",
     "exception": false,
     "start_time": "2024-08-20T05:15:13.108968",
     "status": "completed"
    },
    "tags": []
   },
   "source": [
    "# 1.\n",
    "\n",
    "Complete the body of the following function according to its docstring.\n",
    "\n",
    "HINT: Python has a built-in function `round`."
   ]
  },
  {
   "cell_type": "code",
   "execution_count": 2,
   "id": "86b4a7cb",
   "metadata": {
    "execution": {
     "iopub.execute_input": "2024-08-20T05:15:13.130217Z",
     "iopub.status.busy": "2024-08-20T05:15:13.129683Z",
     "iopub.status.idle": "2024-08-20T05:15:13.142689Z",
     "shell.execute_reply": "2024-08-20T05:15:13.141225Z"
    },
    "papermill": {
     "duration": 0.024548,
     "end_time": "2024-08-20T05:15:13.146177",
     "exception": false,
     "start_time": "2024-08-20T05:15:13.121629",
     "status": "completed"
    },
    "tags": []
   },
   "outputs": [
    {
     "data": {
      "application/javascript": [
       "parent.postMessage({\"jupyterEvent\": \"custom.exercise_interaction\", \"data\": {\"outcomeType\": 1, \"valueTowardsCompletion\": 0.16666666666666666, \"interactionType\": 1, \"questionType\": 2, \"questionId\": \"1_RoundFunctionProblem\", \"learnToolsVersion\": \"0.3.4\", \"failureMessage\": \"\", \"exceptionClass\": \"\", \"trace\": \"\"}}, \"*\")"
      ],
      "text/plain": [
       "<IPython.core.display.Javascript object>"
      ]
     },
     "metadata": {},
     "output_type": "display_data"
    },
    {
     "data": {
      "text/markdown": [
       "<span style=\"color:#33cc33\">Correct</span>"
      ],
      "text/plain": [
       "Correct"
      ]
     },
     "metadata": {},
     "output_type": "display_data"
    }
   ],
   "source": [
    "def round_to_two_places(num):\n",
    "    \"\"\"Return the given number rounded to two decimal places. \n",
    "    \n",
    "    >>> round_to_two_places(3.14159)\n",
    "    3.14\n",
    "    \"\"\"\n",
    "    num = round(num,ndigits=2)\n",
    "    # Replace this body with your own code.\n",
    "    # (\"pass\" is a keyword that does literally nothing. We used it as a placeholder\n",
    "    # because after we begin a code block, Python requires at least one line of code)\n",
    "    return num\n",
    "\n",
    "\n",
    "# Check your answer\n",
    "q1.check()"
   ]
  },
  {
   "cell_type": "code",
   "execution_count": 3,
   "id": "26f4f705",
   "metadata": {
    "execution": {
     "iopub.execute_input": "2024-08-20T05:15:13.161765Z",
     "iopub.status.busy": "2024-08-20T05:15:13.161351Z",
     "iopub.status.idle": "2024-08-20T05:15:13.170604Z",
     "shell.execute_reply": "2024-08-20T05:15:13.169471Z"
    },
    "papermill": {
     "duration": 0.019889,
     "end_time": "2024-08-20T05:15:13.173071",
     "exception": false,
     "start_time": "2024-08-20T05:15:13.153182",
     "status": "completed"
    },
    "tags": []
   },
   "outputs": [
    {
     "data": {
      "application/javascript": [
       "parent.postMessage({\"jupyterEvent\": \"custom.exercise_interaction\", \"data\": {\"interactionType\": 2, \"questionType\": 2, \"questionId\": \"1_RoundFunctionProblem\", \"learnToolsVersion\": \"0.3.4\", \"valueTowardsCompletion\": 0.0, \"failureMessage\": \"\", \"exceptionClass\": \"\", \"trace\": \"\", \"outcomeType\": 4}}, \"*\")"
      ],
      "text/plain": [
       "<IPython.core.display.Javascript object>"
      ]
     },
     "metadata": {},
     "output_type": "display_data"
    },
    {
     "data": {
      "text/markdown": [
       "<span style=\"color:#3366cc\">Hint:</span> Run `help(round)` in the console (or in a code cell) to learn more about the round function. You'll need to use the function's optional second argument."
      ],
      "text/plain": [
       "Hint: Run `help(round)` in the console (or in a code cell) to learn more about the round function. You'll need to use the function's optional second argument."
      ]
     },
     "metadata": {},
     "output_type": "display_data"
    }
   ],
   "source": [
    "# Uncomment the following for a hint\n",
    "q1.hint()\n",
    "# Or uncomment the following to peek at the solution\n",
    "#q1.solution()"
   ]
  },
  {
   "cell_type": "markdown",
   "id": "8432a91d",
   "metadata": {
    "papermill": {
     "duration": 0.006912,
     "end_time": "2024-08-20T05:15:13.187334",
     "exception": false,
     "start_time": "2024-08-20T05:15:13.180422",
     "status": "completed"
    },
    "tags": []
   },
   "source": [
    "# 2.\n",
    "The help for `round` says that `ndigits` (the second argument) may be negative.\n",
    "What do you think will happen when it is? Try some examples in the following cell."
   ]
  },
  {
   "cell_type": "code",
   "execution_count": 4,
   "id": "36c7441d",
   "metadata": {
    "execution": {
     "iopub.execute_input": "2024-08-20T05:15:13.203606Z",
     "iopub.status.busy": "2024-08-20T05:15:13.203196Z",
     "iopub.status.idle": "2024-08-20T05:15:13.210994Z",
     "shell.execute_reply": "2024-08-20T05:15:13.209915Z"
    },
    "papermill": {
     "duration": 0.019159,
     "end_time": "2024-08-20T05:15:13.213699",
     "exception": false,
     "start_time": "2024-08-20T05:15:13.194540",
     "status": "completed"
    },
    "tags": []
   },
   "outputs": [
    {
     "data": {
      "text/plain": [
       "0.0"
      ]
     },
     "execution_count": 4,
     "metadata": {},
     "output_type": "execute_result"
    }
   ],
   "source": [
    "# Put your test code here\n",
    "round(3.14444444, ndigits = -1)"
   ]
  },
  {
   "cell_type": "markdown",
   "id": "3d591a27",
   "metadata": {
    "papermill": {
     "duration": 0.0074,
     "end_time": "2024-08-20T05:15:13.228918",
     "exception": false,
     "start_time": "2024-08-20T05:15:13.221518",
     "status": "completed"
    },
    "tags": []
   },
   "source": [
    "Can you think of a case where this would be useful?  Once you're ready, run the code cell below to see the answer and to receive credit for completing the problem."
   ]
  },
  {
   "cell_type": "code",
   "execution_count": 5,
   "id": "1ff14082",
   "metadata": {
    "execution": {
     "iopub.execute_input": "2024-08-20T05:15:13.245512Z",
     "iopub.status.busy": "2024-08-20T05:15:13.245122Z",
     "iopub.status.idle": "2024-08-20T05:15:13.255008Z",
     "shell.execute_reply": "2024-08-20T05:15:13.253930Z"
    },
    "papermill": {
     "duration": 0.021172,
     "end_time": "2024-08-20T05:15:13.257535",
     "exception": false,
     "start_time": "2024-08-20T05:15:13.236363",
     "status": "completed"
    },
    "tags": []
   },
   "outputs": [
    {
     "data": {
      "application/javascript": [
       "parent.postMessage({\"jupyterEvent\": \"custom.exercise_interaction\", \"data\": {\"interactionType\": 3, \"questionType\": 4, \"questionId\": \"2_RoundNdigitsProblem\", \"learnToolsVersion\": \"0.3.4\", \"valueTowardsCompletion\": 0.0, \"failureMessage\": \"\", \"exceptionClass\": \"\", \"trace\": \"\", \"outcomeType\": 4}}, \"*\")"
      ],
      "text/plain": [
       "<IPython.core.display.Javascript object>"
      ]
     },
     "metadata": {},
     "output_type": "display_data"
    },
    {
     "data": {
      "text/markdown": [
       "<span style=\"color:#33cc99\">Solution:</span> As you've seen, `ndigits=-1` rounds to the nearest 10, `ndigits=-2` rounds to the nearest 100 and so on. Where might this be useful? Suppose we're dealing with large numbers:\n",
       "\n",
       "> The area of Finland is 338,424 km²  \n",
       "> The area of Greenland is 2,166,086 km²\n",
       "\n",
       "We probably don't care whether it's really 338,424, or 338,425, or 338,177. All those digits of accuracy are just distracting. We can chop them off by calling `round()` with `ndigits=-3`:\n",
       "\n",
       "> The area of Finland is 338,000 km²  \n",
       "> The area of Greenland is 2,166,000 km²\n",
       "\n",
       "(We'll talk about how we would get the commas later when we talk about string formatting :))\n"
      ],
      "text/plain": [
       "Solution: As you've seen, `ndigits=-1` rounds to the nearest 10, `ndigits=-2` rounds to the nearest 100 and so on. Where might this be useful? Suppose we're dealing with large numbers:\n",
       "\n",
       "> The area of Finland is 338,424 km²  \n",
       "> The area of Greenland is 2,166,086 km²\n",
       "\n",
       "We probably don't care whether it's really 338,424, or 338,425, or 338,177. All those digits of accuracy are just distracting. We can chop them off by calling `round()` with `ndigits=-3`:\n",
       "\n",
       "> The area of Finland is 338,000 km²  \n",
       "> The area of Greenland is 2,166,000 km²\n",
       "\n",
       "(We'll talk about how we would get the commas later when we talk about string formatting :))"
      ]
     },
     "metadata": {},
     "output_type": "display_data"
    }
   ],
   "source": [
    "# Check your answer (Run this code cell to receive credit!)\n",
    "q2.solution()"
   ]
  },
  {
   "cell_type": "markdown",
   "id": "85935dcb",
   "metadata": {
    "papermill": {
     "duration": 0.007559,
     "end_time": "2024-08-20T05:15:13.273399",
     "exception": false,
     "start_time": "2024-08-20T05:15:13.265840",
     "status": "completed"
    },
    "tags": []
   },
   "source": [
    "# 3.\n",
    "\n",
    "In the previous exercise, the candy-sharing friends Alice, Bob and Carol tried to split candies evenly. For the sake of their friendship, any candies left over would be smashed. For example, if they collectively bring home 91 candies, they'll take 30 each and smash 1.\n",
    "\n",
    "Below is a simple function that will calculate the number of candies to smash for *any* number of total candies.\n",
    "\n",
    "Modify it so that it optionally takes a second argument representing the number of friends the candies are being split between. If no second argument is provided, it should assume 3 friends, as before.\n",
    "\n",
    "Update the docstring to reflect this new behaviour."
   ]
  },
  {
   "cell_type": "code",
   "execution_count": 6,
   "id": "03faf380",
   "metadata": {
    "execution": {
     "iopub.execute_input": "2024-08-20T05:15:13.290714Z",
     "iopub.status.busy": "2024-08-20T05:15:13.290259Z",
     "iopub.status.idle": "2024-08-20T05:15:13.301508Z",
     "shell.execute_reply": "2024-08-20T05:15:13.300241Z"
    },
    "papermill": {
     "duration": 0.023272,
     "end_time": "2024-08-20T05:15:13.304421",
     "exception": false,
     "start_time": "2024-08-20T05:15:13.281149",
     "status": "completed"
    },
    "tags": []
   },
   "outputs": [
    {
     "data": {
      "application/javascript": [
       "parent.postMessage({\"jupyterEvent\": \"custom.exercise_interaction\", \"data\": {\"outcomeType\": 1, \"valueTowardsCompletion\": 0.16666666666666666, \"interactionType\": 1, \"questionType\": 2, \"questionId\": \"3_CandySmashingFunctionProblem\", \"learnToolsVersion\": \"0.3.4\", \"failureMessage\": \"\", \"exceptionClass\": \"\", \"trace\": \"\"}}, \"*\")"
      ],
      "text/plain": [
       "<IPython.core.display.Javascript object>"
      ]
     },
     "metadata": {},
     "output_type": "display_data"
    },
    {
     "data": {
      "text/markdown": [
       "<span style=\"color:#33cc33\">Correct</span>"
      ],
      "text/plain": [
       "Correct"
      ]
     },
     "metadata": {},
     "output_type": "display_data"
    }
   ],
   "source": [
    "def to_smash(total_candies, nfriends = 3):\n",
    "    \"\"\"Return the number of leftover candies that must be smashed after distributing\n",
    "    the given number of candies evenly between 3 friends.\n",
    "    \n",
    "    >>> to_smash(91)\n",
    "    1\n",
    "    \"\"\"\n",
    "    return total_candies % nfriends\n",
    "\n",
    "# Check your answer\n",
    "q3.check()"
   ]
  },
  {
   "cell_type": "code",
   "execution_count": 7,
   "id": "765f558f",
   "metadata": {
    "execution": {
     "iopub.execute_input": "2024-08-20T05:15:13.323957Z",
     "iopub.status.busy": "2024-08-20T05:15:13.323545Z",
     "iopub.status.idle": "2024-08-20T05:15:13.328875Z",
     "shell.execute_reply": "2024-08-20T05:15:13.327455Z"
    },
    "papermill": {
     "duration": 0.018616,
     "end_time": "2024-08-20T05:15:13.331470",
     "exception": false,
     "start_time": "2024-08-20T05:15:13.312854",
     "status": "completed"
    },
    "tags": []
   },
   "outputs": [],
   "source": [
    "#q3.hint()"
   ]
  },
  {
   "cell_type": "code",
   "execution_count": 8,
   "id": "dcfb84af",
   "metadata": {
    "execution": {
     "iopub.execute_input": "2024-08-20T05:15:13.349521Z",
     "iopub.status.busy": "2024-08-20T05:15:13.349113Z",
     "iopub.status.idle": "2024-08-20T05:15:13.359261Z",
     "shell.execute_reply": "2024-08-20T05:15:13.358166Z"
    },
    "papermill": {
     "duration": 0.022109,
     "end_time": "2024-08-20T05:15:13.361815",
     "exception": false,
     "start_time": "2024-08-20T05:15:13.339706",
     "status": "completed"
    },
    "tags": []
   },
   "outputs": [
    {
     "data": {
      "application/javascript": [
       "parent.postMessage({\"jupyterEvent\": \"custom.exercise_interaction\", \"data\": {\"interactionType\": 3, \"questionType\": 2, \"questionId\": \"3_CandySmashingFunctionProblem\", \"learnToolsVersion\": \"0.3.4\", \"valueTowardsCompletion\": 0.0, \"failureMessage\": \"\", \"exceptionClass\": \"\", \"trace\": \"\", \"outcomeType\": 4}}, \"*\")"
      ],
      "text/plain": [
       "<IPython.core.display.Javascript object>"
      ]
     },
     "metadata": {},
     "output_type": "display_data"
    },
    {
     "data": {
      "text/markdown": [
       "<span style=\"color:#33cc99\">Solution:</span> \n",
       "```python\n",
       "def to_smash(total_candies, n_friends=3):\n",
       "    return total_candies % n_friends\n",
       "```"
      ],
      "text/plain": [
       "Solution: \n",
       "```python\n",
       "def to_smash(total_candies, n_friends=3):\n",
       "    return total_candies % n_friends\n",
       "```"
      ]
     },
     "metadata": {},
     "output_type": "display_data"
    }
   ],
   "source": [
    "q3.solution()"
   ]
  },
  {
   "cell_type": "markdown",
   "id": "d32487e5",
   "metadata": {
    "papermill": {
     "duration": 0.008684,
     "end_time": "2024-08-20T05:15:13.379060",
     "exception": false,
     "start_time": "2024-08-20T05:15:13.370376",
     "status": "completed"
    },
    "tags": []
   },
   "source": [
    "# 4. (Optional)\n",
    "\n",
    "It may not be fun, but reading and understanding error messages will be an important part of your Python career.\n",
    "\n",
    "Each code cell below contains some commented buggy code. For each cell...\n",
    "\n",
    "1. Read the code and predict what you think will happen when it's run.\n",
    "2. Then uncomment the code and run it to see what happens. (**Tip**: In the kernel editor, you can highlight several lines and press `ctrl`+`/` to toggle commenting.)\n",
    "3. Fix the code (so that it accomplishes its intended purpose without throwing an exception)\n",
    "\n",
    "<!-- TODO: should this be autochecked? Delta is probably pretty small. -->"
   ]
  },
  {
   "cell_type": "code",
   "execution_count": 9,
   "id": "744b9f10",
   "metadata": {
    "execution": {
     "iopub.execute_input": "2024-08-20T05:15:13.399151Z",
     "iopub.status.busy": "2024-08-20T05:15:13.398742Z",
     "iopub.status.idle": "2024-08-20T05:15:13.406036Z",
     "shell.execute_reply": "2024-08-20T05:15:13.404856Z"
    },
    "papermill": {
     "duration": 0.019538,
     "end_time": "2024-08-20T05:15:13.408421",
     "exception": false,
     "start_time": "2024-08-20T05:15:13.388883",
     "status": "completed"
    },
    "tags": []
   },
   "outputs": [
    {
     "data": {
      "text/plain": [
       "10.0"
      ]
     },
     "execution_count": 9,
     "metadata": {},
     "output_type": "execute_result"
    }
   ],
   "source": [
    "round_to_two_places(9.9999)"
   ]
  },
  {
   "cell_type": "code",
   "execution_count": 10,
   "id": "c421e33d",
   "metadata": {
    "execution": {
     "iopub.execute_input": "2024-08-20T05:15:13.428524Z",
     "iopub.status.busy": "2024-08-20T05:15:13.427623Z",
     "iopub.status.idle": "2024-08-20T05:15:13.434280Z",
     "shell.execute_reply": "2024-08-20T05:15:13.433031Z"
    },
    "papermill": {
     "duration": 0.019907,
     "end_time": "2024-08-20T05:15:13.437039",
     "exception": false,
     "start_time": "2024-08-20T05:15:13.417132",
     "status": "completed"
    },
    "tags": []
   },
   "outputs": [
    {
     "name": "stdout",
     "output_type": "stream",
     "text": [
      "5\n"
     ]
    }
   ],
   "source": [
    "x = -10\n",
    "y = 5\n",
    "# Which of the two variables above has the smallest absolute value?\n",
    "smallest_abs = min(abs(x), abs(y))\n",
    "print(smallest_abs)"
   ]
  },
  {
   "cell_type": "code",
   "execution_count": 11,
   "id": "f2e8f14d",
   "metadata": {
    "execution": {
     "iopub.execute_input": "2024-08-20T05:15:13.457520Z",
     "iopub.status.busy": "2024-08-20T05:15:13.456547Z",
     "iopub.status.idle": "2024-08-20T05:15:13.463607Z",
     "shell.execute_reply": "2024-08-20T05:15:13.462309Z"
    },
    "papermill": {
     "duration": 0.020875,
     "end_time": "2024-08-20T05:15:13.467004",
     "exception": false,
     "start_time": "2024-08-20T05:15:13.446129",
     "status": "completed"
    },
    "tags": []
   },
   "outputs": [
    {
     "name": "stdout",
     "output_type": "stream",
     "text": [
      "5\n"
     ]
    }
   ],
   "source": [
    "def f(x):\n",
    "    y = abs(x)\n",
    "    return y\n",
    "\n",
    "print(f(5))"
   ]
  },
  {
   "cell_type": "markdown",
   "id": "1a433d21",
   "metadata": {
    "papermill": {
     "duration": 0.008572,
     "end_time": "2024-08-20T05:15:13.484598",
     "exception": false,
     "start_time": "2024-08-20T05:15:13.476026",
     "status": "completed"
    },
    "tags": []
   },
   "source": [
    "# Keep Going\n",
    "\n",
    "Nice job with the code. Next up, you'll learn about *conditionals*, which you'll need to **[write interesting programs](https://www.kaggle.com/colinmorris/booleans-and-conditionals)**. "
   ]
  },
  {
   "cell_type": "markdown",
   "id": "0a5d6be7",
   "metadata": {
    "papermill": {
     "duration": 0.008578,
     "end_time": "2024-08-20T05:15:13.502721",
     "exception": false,
     "start_time": "2024-08-20T05:15:13.494143",
     "status": "completed"
    },
    "tags": []
   },
   "source": [
    "---\n",
    "\n",
    "\n",
    "\n",
    "\n",
    "*Have questions or comments? Visit the [course discussion forum](https://www.kaggle.com/learn/python/discussion) to chat with other learners.*"
   ]
  }
 ],
 "metadata": {
  "kaggle": {
   "accelerator": "none",
   "dataSources": [],
   "isGpuEnabled": false,
   "isInternetEnabled": false,
   "language": "python",
   "sourceType": "notebook"
  },
  "kernelspec": {
   "display_name": "Python 3",
   "language": "python",
   "name": "python3"
  },
  "language_info": {
   "codemirror_mode": {
    "name": "ipython",
    "version": 3
   },
   "file_extension": ".py",
   "mimetype": "text/x-python",
   "name": "python",
   "nbconvert_exporter": "python",
   "pygments_lexer": "ipython3",
   "version": "3.10.13"
  },
  "learntools_metadata": {
   "lesson_index": 1,
   "type": "exercise"
  },
  "papermill": {
   "default_parameters": {},
   "duration": 5.335243,
   "end_time": "2024-08-20T05:15:14.033735",
   "environment_variables": {},
   "exception": null,
   "input_path": "__notebook__.ipynb",
   "output_path": "__notebook__.ipynb",
   "parameters": {},
   "start_time": "2024-08-20T05:15:08.698492",
   "version": "2.5.0"
  }
 },
 "nbformat": 4,
 "nbformat_minor": 5
}
