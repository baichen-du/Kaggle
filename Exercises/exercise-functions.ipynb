{
 "cells": [
  {
   "cell_type": "markdown",
   "id": "40895bec",
   "metadata": {
    "papermill": {
     "duration": 0.011998,
     "end_time": "2024-08-20T04:51:26.383390",
     "exception": false,
     "start_time": "2024-08-20T04:51:26.371392",
     "status": "completed"
    },
    "tags": []
   },
   "source": [
    "**This notebook is an exercise in the [Intro to Programming](https://www.kaggle.com/learn/intro-to-programming) course.  You can reference the tutorial at [this link](https://www.kaggle.com/alexisbcook/functions).**\n",
    "\n",
    "---\n"
   ]
  },
  {
   "cell_type": "markdown",
   "id": "2348d1c0",
   "metadata": {
    "papermill": {
     "duration": 0.008374,
     "end_time": "2024-08-20T04:51:26.400117",
     "exception": false,
     "start_time": "2024-08-20T04:51:26.391743",
     "status": "completed"
    },
    "tags": []
   },
   "source": [
    "In the tutorial, you learned about functions. In this exercise, you'll write some of your own!\n",
    "\n",
    "# Set up the notebook\n",
    "\n",
    "Run the next code cell without changes to set up the notebook."
   ]
  },
  {
   "cell_type": "code",
   "execution_count": 1,
   "id": "64783230",
   "metadata": {
    "execution": {
     "iopub.execute_input": "2024-08-20T04:51:26.419028Z",
     "iopub.status.busy": "2024-08-20T04:51:26.417794Z",
     "iopub.status.idle": "2024-08-20T04:51:27.599419Z",
     "shell.execute_reply": "2024-08-20T04:51:27.598041Z"
    },
    "papermill": {
     "duration": 1.194,
     "end_time": "2024-08-20T04:51:27.602230",
     "exception": false,
     "start_time": "2024-08-20T04:51:26.408230",
     "status": "completed"
    },
    "tags": []
   },
   "outputs": [
    {
     "name": "stdout",
     "output_type": "stream",
     "text": [
      "Setup complete.\n"
     ]
    }
   ],
   "source": [
    "# Set up the exercise\n",
    "import math\n",
    "from learntools.core import binder\n",
    "binder.bind(globals())\n",
    "from learntools.intro_to_programming.ex2 import *\n",
    "print('Setup complete.')"
   ]
  },
  {
   "cell_type": "markdown",
   "id": "5b4cec5b",
   "metadata": {
    "papermill": {
     "duration": 0.007643,
     "end_time": "2024-08-20T04:51:27.618012",
     "exception": false,
     "start_time": "2024-08-20T04:51:27.610369",
     "status": "completed"
    },
    "tags": []
   },
   "source": [
    "# Question 1\n",
    "\n",
    "In the [House Prices - Advanced Regression Techniques competition](https://www.kaggle.com/c/house-prices-advanced-regression-techniques/overview), you need to use information like the number of bedrooms and bathrooms to predict the price of a house.  Inspired by this competition, you'll write your own function to do this.\n",
    "\n",
    "In the next code cell, create a function `get_expected_cost()` that has two arguments:\n",
    "- `beds` - number of bedrooms \n",
    "- `baths` - number of bathrooms\n",
    "\n",
    "It should return the expected cost of a house with that number of bedrooms and bathrooms.  Assume that:\n",
    "- the expected cost for a house with 0 bedrooms and 0 bathrooms is `80000`.  \n",
    "- each bedroom adds `30000` to the expected cost\n",
    "- each bathroom adds `10000` to the expected cost.\n",
    "\n",
    "For instance, \n",
    "- a house with 1 bedroom and 1 bathroom has an expected cost of `120000`, and \n",
    "- a house with 2 bedrooms and 1 bathroom has an expected cost of `150000`."
   ]
  },
  {
   "cell_type": "code",
   "execution_count": 2,
   "id": "d48bb882",
   "metadata": {
    "execution": {
     "iopub.execute_input": "2024-08-20T04:51:27.636070Z",
     "iopub.status.busy": "2024-08-20T04:51:27.635429Z",
     "iopub.status.idle": "2024-08-20T04:51:27.647394Z",
     "shell.execute_reply": "2024-08-20T04:51:27.646016Z"
    },
    "papermill": {
     "duration": 0.024104,
     "end_time": "2024-08-20T04:51:27.650015",
     "exception": false,
     "start_time": "2024-08-20T04:51:27.625911",
     "status": "completed"
    },
    "tags": []
   },
   "outputs": [
    {
     "data": {
      "application/javascript": [
       "parent.postMessage({\"jupyterEvent\": \"custom.exercise_interaction\", \"data\": {\"outcomeType\": 1, \"valueTowardsCompletion\": 0.2, \"interactionType\": 1, \"questionType\": 2, \"questionId\": \"1_GetExpectedCost\", \"learnToolsVersion\": \"0.3.4\", \"failureMessage\": \"\", \"exceptionClass\": \"\", \"trace\": \"\"}}, \"*\")"
      ],
      "text/plain": [
       "<IPython.core.display.Javascript object>"
      ]
     },
     "metadata": {},
     "output_type": "display_data"
    },
    {
     "data": {
      "text/markdown": [
       "<span style=\"color:#33cc33\">Correct</span>"
      ],
      "text/plain": [
       "Correct"
      ]
     },
     "metadata": {},
     "output_type": "display_data"
    }
   ],
   "source": [
    "# TODO: Complete the function\n",
    "def get_expected_cost(beds, baths):\n",
    "    value = 80000 + 30000*beds + 10000*baths\n",
    "    return value\n",
    "\n",
    "# Check your answer \n",
    "q1.check()"
   ]
  },
  {
   "cell_type": "code",
   "execution_count": 3,
   "id": "3232d83a",
   "metadata": {
    "execution": {
     "iopub.execute_input": "2024-08-20T04:51:27.668827Z",
     "iopub.status.busy": "2024-08-20T04:51:27.668407Z",
     "iopub.status.idle": "2024-08-20T04:51:27.673374Z",
     "shell.execute_reply": "2024-08-20T04:51:27.672033Z"
    },
    "papermill": {
     "duration": 0.01745,
     "end_time": "2024-08-20T04:51:27.675987",
     "exception": false,
     "start_time": "2024-08-20T04:51:27.658537",
     "status": "completed"
    },
    "tags": []
   },
   "outputs": [],
   "source": [
    "# Uncomment to see a hint\n",
    "#q1.hint()\n",
    "\n",
    "# Uncomment to view the solution\n",
    "#q1.solution()"
   ]
  },
  {
   "cell_type": "markdown",
   "id": "9eed4138",
   "metadata": {
    "papermill": {
     "duration": 0.008423,
     "end_time": "2024-08-20T04:51:27.692891",
     "exception": false,
     "start_time": "2024-08-20T04:51:27.684468",
     "status": "completed"
    },
    "tags": []
   },
   "source": [
    "# Question 2\n",
    "\n",
    "You are thinking about buying a home and want to get an idea of how much you will spend, based on the number of bedrooms and bathrooms.  You are trying to decide between four different options:\n",
    "- Option 1: house with two bedrooms and three bathrooms\n",
    "- Option 2: house with three bedrooms and two bathrooms\n",
    "- Option 3: house with three bedrooms and three bathrooms\n",
    "- Option 4: house with three bedrooms and four bathrooms\n",
    "\n",
    "Use the `get_expected_cost()` function you defined in question 1 to set `option_1`, `option_2`, `option_3`, and `option_4` to the expected cost of each option."
   ]
  },
  {
   "cell_type": "code",
   "execution_count": 4,
   "id": "0ce1837f",
   "metadata": {
    "execution": {
     "iopub.execute_input": "2024-08-20T04:51:27.712666Z",
     "iopub.status.busy": "2024-08-20T04:51:27.712239Z",
     "iopub.status.idle": "2024-08-20T04:51:27.727998Z",
     "shell.execute_reply": "2024-08-20T04:51:27.726609Z"
    },
    "papermill": {
     "duration": 0.029378,
     "end_time": "2024-08-20T04:51:27.731152",
     "exception": false,
     "start_time": "2024-08-20T04:51:27.701774",
     "status": "completed"
    },
    "tags": []
   },
   "outputs": [
    {
     "name": "stdout",
     "output_type": "stream",
     "text": [
      "170000\n",
      "190000\n",
      "200000\n",
      "210000\n"
     ]
    },
    {
     "data": {
      "application/javascript": [
       "parent.postMessage({\"jupyterEvent\": \"custom.exercise_interaction\", \"data\": {\"outcomeType\": 1, \"valueTowardsCompletion\": 0.2, \"interactionType\": 1, \"questionType\": 1, \"questionId\": \"2_RunGetExpectedCost\", \"learnToolsVersion\": \"0.3.4\", \"failureMessage\": \"\", \"exceptionClass\": \"\", \"trace\": \"\"}}, \"*\")"
      ],
      "text/plain": [
       "<IPython.core.display.Javascript object>"
      ]
     },
     "metadata": {},
     "output_type": "display_data"
    },
    {
     "data": {
      "text/markdown": [
       "<span style=\"color:#33cc33\">Correct</span>"
      ],
      "text/plain": [
       "Correct"
      ]
     },
     "metadata": {},
     "output_type": "display_data"
    }
   ],
   "source": [
    "# TODO: Use the get_expected_cost function to fill in each value\n",
    "option_one = get_expected_cost(2,3)\n",
    "option_two = get_expected_cost(3,2)\n",
    "option_three = get_expected_cost(3,3)\n",
    "option_four = get_expected_cost(3,4)\n",
    "\n",
    "print(option_one)\n",
    "print(option_two)\n",
    "print(option_three)\n",
    "print(option_four)\n",
    "\n",
    "# Check your answer\n",
    "q2.check()"
   ]
  },
  {
   "cell_type": "code",
   "execution_count": 5,
   "id": "1d2f2039",
   "metadata": {
    "execution": {
     "iopub.execute_input": "2024-08-20T04:51:27.752272Z",
     "iopub.status.busy": "2024-08-20T04:51:27.751853Z",
     "iopub.status.idle": "2024-08-20T04:51:27.757508Z",
     "shell.execute_reply": "2024-08-20T04:51:27.755930Z"
    },
    "papermill": {
     "duration": 0.019722,
     "end_time": "2024-08-20T04:51:27.760254",
     "exception": false,
     "start_time": "2024-08-20T04:51:27.740532",
     "status": "completed"
    },
    "tags": []
   },
   "outputs": [],
   "source": [
    "# Uncomment to see a hint\n",
    "#q2.hint()\n",
    "\n",
    "# Uncomment to view the solution\n",
    "#q2.solution()"
   ]
  },
  {
   "cell_type": "markdown",
   "id": "5d210bb0",
   "metadata": {
    "papermill": {
     "duration": 0.008597,
     "end_time": "2024-08-20T04:51:27.778370",
     "exception": false,
     "start_time": "2024-08-20T04:51:27.769773",
     "status": "completed"
    },
    "tags": []
   },
   "source": [
    "# Question 3\n",
    "\n",
    "You're a home decorator, and you'd like to use Python to streamline some of your work.  Specifically, you're creating a tool that you intend to use to calculate the cost of painting a room.\n",
    "\n",
    "As a first step, define a function `get_cost()` that takes as input:\n",
    "- `sqft_walls` = total square feet of walls to be painted\n",
    "- `sqft_ceiling` = square feet of ceiling to be painted\n",
    "- `sqft_per_gallon` = number of square feet that you can cover with one gallon of paint\n",
    "- `cost_per_gallon` = cost (in dollars) of one gallon of paint\n",
    "\n",
    "It should return the cost (in dollars) of putting one coat of paint on all walls and the ceiling.  Assume you can buy the exact amount of paint that you need, so you can buy partial gallons (e.g., if you need 7.523 gallons, you can buy that exact amount, instead of needing to buy 8 gallons and waste some paint).  Do not round your answer."
   ]
  },
  {
   "cell_type": "code",
   "execution_count": 6,
   "id": "ffe0d101",
   "metadata": {
    "execution": {
     "iopub.execute_input": "2024-08-20T04:51:27.799128Z",
     "iopub.status.busy": "2024-08-20T04:51:27.798717Z",
     "iopub.status.idle": "2024-08-20T04:51:27.808998Z",
     "shell.execute_reply": "2024-08-20T04:51:27.807824Z"
    },
    "papermill": {
     "duration": 0.02351,
     "end_time": "2024-08-20T04:51:27.811531",
     "exception": false,
     "start_time": "2024-08-20T04:51:27.788021",
     "status": "completed"
    },
    "tags": []
   },
   "outputs": [
    {
     "data": {
      "application/javascript": [
       "parent.postMessage({\"jupyterEvent\": \"custom.exercise_interaction\", \"data\": {\"outcomeType\": 1, \"valueTowardsCompletion\": 0.2, \"interactionType\": 1, \"questionType\": 2, \"questionId\": \"3_GetCostPaint\", \"learnToolsVersion\": \"0.3.4\", \"failureMessage\": \"\", \"exceptionClass\": \"\", \"trace\": \"\"}}, \"*\")"
      ],
      "text/plain": [
       "<IPython.core.display.Javascript object>"
      ]
     },
     "metadata": {},
     "output_type": "display_data"
    },
    {
     "data": {
      "text/markdown": [
       "<span style=\"color:#33cc33\">Correct</span>"
      ],
      "text/plain": [
       "Correct"
      ]
     },
     "metadata": {},
     "output_type": "display_data"
    }
   ],
   "source": [
    "# TODO: Finish defining the function\n",
    "def get_cost(sqft_walls, sqft_ceiling, sqft_per_gallon, cost_per_gallon):\n",
    "    cost = ((sqft_walls + sqft_ceiling)/sqft_per_gallon)*cost_per_gallon\n",
    "    return cost\n",
    "\n",
    "# Check your answer\n",
    "q3.check()"
   ]
  },
  {
   "cell_type": "code",
   "execution_count": 7,
   "id": "8633b550",
   "metadata": {
    "execution": {
     "iopub.execute_input": "2024-08-20T04:51:27.832132Z",
     "iopub.status.busy": "2024-08-20T04:51:27.831745Z",
     "iopub.status.idle": "2024-08-20T04:51:27.841406Z",
     "shell.execute_reply": "2024-08-20T04:51:27.840210Z"
    },
    "papermill": {
     "duration": 0.022998,
     "end_time": "2024-08-20T04:51:27.844231",
     "exception": false,
     "start_time": "2024-08-20T04:51:27.821233",
     "status": "completed"
    },
    "tags": []
   },
   "outputs": [
    {
     "data": {
      "application/javascript": [
       "parent.postMessage({\"jupyterEvent\": \"custom.exercise_interaction\", \"data\": {\"interactionType\": 3, \"questionType\": 2, \"questionId\": \"3_GetCostPaint\", \"learnToolsVersion\": \"0.3.4\", \"valueTowardsCompletion\": 0.0, \"failureMessage\": \"\", \"exceptionClass\": \"\", \"trace\": \"\", \"outcomeType\": 4}}, \"*\")"
      ],
      "text/plain": [
       "<IPython.core.display.Javascript object>"
      ]
     },
     "metadata": {},
     "output_type": "display_data"
    },
    {
     "data": {
      "text/markdown": [
       "<span style=\"color:#33cc99\">Solution:</span> \n",
       "```python\n",
       "\n",
       "def get_cost(sqft_walls, sqft_ceiling, sqft_per_gallon, cost_per_gallon):\n",
       "    total_sqft = sqft_walls + sqft_ceiling\n",
       "    gallons_needed = total_sqft / sqft_per_gallon\n",
       "    cost = cost_per_gallon * gallons_needed\n",
       "    return cost\n",
       "\n",
       "```"
      ],
      "text/plain": [
       "Solution: \n",
       "```python\n",
       "\n",
       "def get_cost(sqft_walls, sqft_ceiling, sqft_per_gallon, cost_per_gallon):\n",
       "    total_sqft = sqft_walls + sqft_ceiling\n",
       "    gallons_needed = total_sqft / sqft_per_gallon\n",
       "    cost = cost_per_gallon * gallons_needed\n",
       "    return cost\n",
       "\n",
       "```"
      ]
     },
     "metadata": {},
     "output_type": "display_data"
    }
   ],
   "source": [
    "# Uncomment to see a hint\n",
    "#q3.hint()\n",
    "\n",
    "# Uncomment to view the solution\n",
    "q3.solution()"
   ]
  },
  {
   "cell_type": "markdown",
   "id": "9a2b2c3b",
   "metadata": {
    "papermill": {
     "duration": 0.009152,
     "end_time": "2024-08-20T04:51:27.863039",
     "exception": false,
     "start_time": "2024-08-20T04:51:27.853887",
     "status": "completed"
    },
    "tags": []
   },
   "source": [
    "# Question 4\n",
    "\n",
    "Use the `get_cost()` function you defined in Question 3 to calculate the cost of applying one coat of paint to a room with:\n",
    "- 432 square feet of walls, and\n",
    "- 144 square feet of ceiling.\n",
    "\n",
    "Assume that one gallon of paint covers 400 square feet and costs $15.  As in Question 3, assume you can buy partial gallons of paint.  Do not round your answer."
   ]
  },
  {
   "cell_type": "code",
   "execution_count": 8,
   "id": "bfcb539c",
   "metadata": {
    "execution": {
     "iopub.execute_input": "2024-08-20T04:51:27.884707Z",
     "iopub.status.busy": "2024-08-20T04:51:27.884279Z",
     "iopub.status.idle": "2024-08-20T04:51:27.895095Z",
     "shell.execute_reply": "2024-08-20T04:51:27.893960Z"
    },
    "papermill": {
     "duration": 0.024334,
     "end_time": "2024-08-20T04:51:27.897568",
     "exception": false,
     "start_time": "2024-08-20T04:51:27.873234",
     "status": "completed"
    },
    "tags": []
   },
   "outputs": [
    {
     "name": "stdout",
     "output_type": "stream",
     "text": [
      "21.599999999999998\n"
     ]
    },
    {
     "data": {
      "application/javascript": [
       "parent.postMessage({\"jupyterEvent\": \"custom.exercise_interaction\", \"data\": {\"outcomeType\": 1, \"valueTowardsCompletion\": 0.2, \"interactionType\": 1, \"questionType\": 1, \"questionId\": \"4_GetCostPaintExample\", \"learnToolsVersion\": \"0.3.4\", \"failureMessage\": \"\", \"exceptionClass\": \"\", \"trace\": \"\"}}, \"*\")"
      ],
      "text/plain": [
       "<IPython.core.display.Javascript object>"
      ]
     },
     "metadata": {},
     "output_type": "display_data"
    },
    {
     "data": {
      "text/markdown": [
       "<span style=\"color:#33cc33\">Correct</span>"
      ],
      "text/plain": [
       "Correct"
      ]
     },
     "metadata": {},
     "output_type": "display_data"
    }
   ],
   "source": [
    "# TODO: Set the project_cost variable to the cost of the project\n",
    "project_cost = get_cost(432,144,400,15)\n",
    "print(project_cost)\n",
    "\n",
    "# Check your answer\n",
    "q4.check()"
   ]
  },
  {
   "cell_type": "code",
   "execution_count": 9,
   "id": "0d22001e",
   "metadata": {
    "execution": {
     "iopub.execute_input": "2024-08-20T04:51:27.919369Z",
     "iopub.status.busy": "2024-08-20T04:51:27.918956Z",
     "iopub.status.idle": "2024-08-20T04:51:27.924352Z",
     "shell.execute_reply": "2024-08-20T04:51:27.923317Z"
    },
    "papermill": {
     "duration": 0.019543,
     "end_time": "2024-08-20T04:51:27.926991",
     "exception": false,
     "start_time": "2024-08-20T04:51:27.907448",
     "status": "completed"
    },
    "tags": []
   },
   "outputs": [],
   "source": [
    "# Uncomment to see a hint\n",
    "#q4.hint()\n",
    "\n",
    "# Uncomment to view the solution\n",
    "#q4.solution()"
   ]
  },
  {
   "cell_type": "markdown",
   "id": "1b1832b9",
   "metadata": {
    "papermill": {
     "duration": 0.009886,
     "end_time": "2024-08-20T04:51:27.947125",
     "exception": false,
     "start_time": "2024-08-20T04:51:27.937239",
     "status": "completed"
    },
    "tags": []
   },
   "source": [
    "# 🌶️ Question 5\n",
    "\n",
    "Now say you can no longer buy fractions of a gallon.  (For instance, if you need 4.3 gallons to do a project, then you have to buy 5 gallons of paint.)\n",
    "\n",
    "With this new scenario, you will create a new function `get_actual_cost` that uses the same inputs and calculates the cost of your project.\n",
    "\n",
    "One function that you'll need to use to do this is `math.ceil()`.  We demonstrate usage of this function in the code cell below.  It takes as a number as input and rounds the number up to the nearest integer.  \n",
    "\n",
    "Run the next code cell to test this function for yourself.  Feel free to change the value of `test_value` and make sure `math.ceil()` returns the number you expect."
   ]
  },
  {
   "cell_type": "code",
   "execution_count": 10,
   "id": "b8bf5b9e",
   "metadata": {
    "execution": {
     "iopub.execute_input": "2024-08-20T04:51:27.969957Z",
     "iopub.status.busy": "2024-08-20T04:51:27.969520Z",
     "iopub.status.idle": "2024-08-20T04:51:27.976052Z",
     "shell.execute_reply": "2024-08-20T04:51:27.974722Z"
    },
    "papermill": {
     "duration": 0.021723,
     "end_time": "2024-08-20T04:51:27.978962",
     "exception": false,
     "start_time": "2024-08-20T04:51:27.957239",
     "status": "completed"
    },
    "tags": []
   },
   "outputs": [
    {
     "name": "stdout",
     "output_type": "stream",
     "text": [
      "3\n"
     ]
    }
   ],
   "source": [
    "test_value = 2.17\n",
    "\n",
    "rounded_value = math.ceil(test_value)\n",
    "print(rounded_value)"
   ]
  },
  {
   "cell_type": "markdown",
   "id": "bea85e23",
   "metadata": {
    "papermill": {
     "duration": 0.009813,
     "end_time": "2024-08-20T04:51:27.999062",
     "exception": false,
     "start_time": "2024-08-20T04:51:27.989249",
     "status": "completed"
    },
    "tags": []
   },
   "source": [
    "Use the next code cell to define the function `get_actual_cost()`.  You'll need to use the `math.ceil()` function to do this.\n",
    "\n",
    "When answering this question, note that it's completely valid to define a function that makes use of another function.  For instance, we can define a function `round_up_and_divide_by_three` that makes use of the `math.ceil` function:\n",
    "```\n",
    "def round_up_and_divide_by_three(num):\n",
    "    new_value = math.ceil(num)\n",
    "    final_value = new_value / 3\n",
    "    return final_value\n",
    "```"
   ]
  },
  {
   "cell_type": "code",
   "execution_count": 11,
   "id": "e9b69b14",
   "metadata": {
    "execution": {
     "iopub.execute_input": "2024-08-20T04:51:28.022385Z",
     "iopub.status.busy": "2024-08-20T04:51:28.021962Z",
     "iopub.status.idle": "2024-08-20T04:51:28.033178Z",
     "shell.execute_reply": "2024-08-20T04:51:28.031879Z"
    },
    "papermill": {
     "duration": 0.025997,
     "end_time": "2024-08-20T04:51:28.035810",
     "exception": false,
     "start_time": "2024-08-20T04:51:28.009813",
     "status": "completed"
    },
    "tags": []
   },
   "outputs": [
    {
     "data": {
      "application/javascript": [
       "parent.postMessage({\"jupyterEvent\": \"custom.exercise_interaction\", \"data\": {\"outcomeType\": 1, \"valueTowardsCompletion\": 0.2, \"interactionType\": 1, \"questionType\": 2, \"questionId\": \"5_NoMoreFractions\", \"learnToolsVersion\": \"0.3.4\", \"failureMessage\": \"\", \"exceptionClass\": \"\", \"trace\": \"\"}}, \"*\")"
      ],
      "text/plain": [
       "<IPython.core.display.Javascript object>"
      ]
     },
     "metadata": {},
     "output_type": "display_data"
    },
    {
     "data": {
      "text/markdown": [
       "<span style=\"color:#33cc33\">Correct</span>"
      ],
      "text/plain": [
       "Correct"
      ]
     },
     "metadata": {},
     "output_type": "display_data"
    }
   ],
   "source": [
    "def get_actual_cost(sqft_walls, sqft_ceiling, sqft_per_gallon, cost_per_gallon):\n",
    "    theory_gallon = ((sqft_walls + sqft_ceiling)/sqft_per_gallon)\n",
    "    cost = math.ceil(theory_gallon)*cost_per_gallon\n",
    "    return cost\n",
    "\n",
    "# Check your answer\n",
    "q5.check()"
   ]
  },
  {
   "cell_type": "code",
   "execution_count": 12,
   "id": "2002e8e1",
   "metadata": {
    "execution": {
     "iopub.execute_input": "2024-08-20T04:51:28.058873Z",
     "iopub.status.busy": "2024-08-20T04:51:28.058471Z",
     "iopub.status.idle": "2024-08-20T04:51:28.068394Z",
     "shell.execute_reply": "2024-08-20T04:51:28.067070Z"
    },
    "papermill": {
     "duration": 0.024513,
     "end_time": "2024-08-20T04:51:28.070970",
     "exception": false,
     "start_time": "2024-08-20T04:51:28.046457",
     "status": "completed"
    },
    "tags": []
   },
   "outputs": [
    {
     "data": {
      "application/javascript": [
       "parent.postMessage({\"jupyterEvent\": \"custom.exercise_interaction\", \"data\": {\"interactionType\": 3, \"questionType\": 2, \"questionId\": \"5_NoMoreFractions\", \"learnToolsVersion\": \"0.3.4\", \"valueTowardsCompletion\": 0.0, \"failureMessage\": \"\", \"exceptionClass\": \"\", \"trace\": \"\", \"outcomeType\": 4}}, \"*\")"
      ],
      "text/plain": [
       "<IPython.core.display.Javascript object>"
      ]
     },
     "metadata": {},
     "output_type": "display_data"
    },
    {
     "data": {
      "text/markdown": [
       "<span style=\"color:#33cc99\">Solution:</span> \n",
       "```python\n",
       "def get_actual_cost(sqft_walls, sqft_ceiling, sqft_per_gallon, cost_per_gallon):\n",
       "    total_sqft = sqft_walls + sqft_ceiling\n",
       "    gallons_needed = total_sqft / sqft_per_gallon\n",
       "    gallons_to_buy = math.ceil(gallons_needed)\n",
       "    cost = cost_per_gallon * gallons_to_buy\n",
       "    return cost\n",
       "\n",
       "```"
      ],
      "text/plain": [
       "Solution: \n",
       "```python\n",
       "def get_actual_cost(sqft_walls, sqft_ceiling, sqft_per_gallon, cost_per_gallon):\n",
       "    total_sqft = sqft_walls + sqft_ceiling\n",
       "    gallons_needed = total_sqft / sqft_per_gallon\n",
       "    gallons_to_buy = math.ceil(gallons_needed)\n",
       "    cost = cost_per_gallon * gallons_to_buy\n",
       "    return cost\n",
       "\n",
       "```"
      ]
     },
     "metadata": {},
     "output_type": "display_data"
    }
   ],
   "source": [
    "# Uncomment to see a hint\n",
    "#q5.hint()\n",
    "\n",
    "# Uncomment to view the solution\n",
    "q5.solution()"
   ]
  },
  {
   "cell_type": "markdown",
   "id": "ff04954d",
   "metadata": {
    "papermill": {
     "duration": 0.010758,
     "end_time": "2024-08-20T04:51:28.093174",
     "exception": false,
     "start_time": "2024-08-20T04:51:28.082416",
     "status": "completed"
    },
    "tags": []
   },
   "source": [
    "Once your function is verified as correct, run the next code cell to calculate the updated cost of your project."
   ]
  },
  {
   "cell_type": "code",
   "execution_count": 13,
   "id": "68d0c166",
   "metadata": {
    "execution": {
     "iopub.execute_input": "2024-08-20T04:51:28.117549Z",
     "iopub.status.busy": "2024-08-20T04:51:28.117125Z",
     "iopub.status.idle": "2024-08-20T04:51:28.124699Z",
     "shell.execute_reply": "2024-08-20T04:51:28.123483Z"
    },
    "papermill": {
     "duration": 0.023319,
     "end_time": "2024-08-20T04:51:28.127497",
     "exception": false,
     "start_time": "2024-08-20T04:51:28.104178",
     "status": "completed"
    },
    "tags": []
   },
   "outputs": [
    {
     "data": {
      "text/plain": [
       "30"
      ]
     },
     "execution_count": 13,
     "metadata": {},
     "output_type": "execute_result"
    }
   ],
   "source": [
    "get_actual_cost(432, 144, 400, 15) "
   ]
  },
  {
   "cell_type": "markdown",
   "id": "9125782c",
   "metadata": {
    "papermill": {
     "duration": 0.010845,
     "end_time": "2024-08-20T04:51:28.150101",
     "exception": false,
     "start_time": "2024-08-20T04:51:28.139256",
     "status": "completed"
    },
    "tags": []
   },
   "source": [
    "Say you're working with a slightly larger room.  Run the next code cell to calculate the cost of the project."
   ]
  },
  {
   "cell_type": "code",
   "execution_count": 14,
   "id": "c32f71ba",
   "metadata": {
    "execution": {
     "iopub.execute_input": "2024-08-20T04:51:28.175359Z",
     "iopub.status.busy": "2024-08-20T04:51:28.174957Z",
     "iopub.status.idle": "2024-08-20T04:51:28.183533Z",
     "shell.execute_reply": "2024-08-20T04:51:28.182374Z"
    },
    "papermill": {
     "duration": 0.024398,
     "end_time": "2024-08-20T04:51:28.186350",
     "exception": false,
     "start_time": "2024-08-20T04:51:28.161952",
     "status": "completed"
    },
    "tags": []
   },
   "outputs": [
    {
     "data": {
      "text/plain": [
       "45"
      ]
     },
     "execution_count": 14,
     "metadata": {},
     "output_type": "execute_result"
    }
   ],
   "source": [
    "get_actual_cost(594, 288, 400, 15) "
   ]
  },
  {
   "cell_type": "markdown",
   "id": "7cc6b9f7",
   "metadata": {
    "papermill": {
     "duration": 0.011451,
     "end_time": "2024-08-20T04:51:28.209105",
     "exception": false,
     "start_time": "2024-08-20T04:51:28.197654",
     "status": "completed"
    },
    "tags": []
   },
   "source": [
    "# Keep going\n",
    "\n",
    "Continue to learn about **[data types](https://www.kaggle.com/alexisbcook/data-types)**."
   ]
  },
  {
   "cell_type": "markdown",
   "id": "52da9013",
   "metadata": {
    "papermill": {
     "duration": 0.011059,
     "end_time": "2024-08-20T04:51:28.231555",
     "exception": false,
     "start_time": "2024-08-20T04:51:28.220496",
     "status": "completed"
    },
    "tags": []
   },
   "source": [
    "---\n",
    "\n",
    "\n",
    "\n",
    "\n",
    "*Have questions or comments? Visit the [course discussion forum](https://www.kaggle.com/learn/intro-to-programming/discussion) to chat with other learners.*"
   ]
  }
 ],
 "metadata": {
  "kaggle": {
   "accelerator": "none",
   "dataSources": [],
   "isGpuEnabled": false,
   "isInternetEnabled": false,
   "language": "python",
   "sourceType": "notebook"
  },
  "kernelspec": {
   "display_name": "Python 3",
   "language": "python",
   "name": "python3"
  },
  "language_info": {
   "codemirror_mode": {
    "name": "ipython",
    "version": 3
   },
   "file_extension": ".py",
   "mimetype": "text/x-python",
   "name": "python",
   "nbconvert_exporter": "python",
   "pygments_lexer": "ipython3",
   "version": "3.10.13"
  },
  "papermill": {
   "default_parameters": {},
   "duration": 5.726349,
   "end_time": "2024-08-20T04:51:28.768414",
   "environment_variables": {},
   "exception": null,
   "input_path": "__notebook__.ipynb",
   "output_path": "__notebook__.ipynb",
   "parameters": {},
   "start_time": "2024-08-20T04:51:23.042065",
   "version": "2.5.0"
  }
 },
 "nbformat": 4,
 "nbformat_minor": 5
}
