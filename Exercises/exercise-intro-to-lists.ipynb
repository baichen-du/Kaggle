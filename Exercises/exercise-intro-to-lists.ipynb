{
 "cells": [
  {
   "cell_type": "markdown",
   "id": "1110b2b0",
   "metadata": {
    "papermill": {
     "duration": 0.009163,
     "end_time": "2024-08-20T05:00:56.430133",
     "exception": false,
     "start_time": "2024-08-20T05:00:56.420970",
     "status": "completed"
    },
    "tags": []
   },
   "source": [
    "**This notebook is an exercise in the [Intro to Programming](https://www.kaggle.com/learn/intro-to-programming) course.  You can reference the tutorial at [this link](https://www.kaggle.com/alexisbcook/intro-to-lists).**\n",
    "\n",
    "---\n"
   ]
  },
  {
   "cell_type": "markdown",
   "id": "d0035349",
   "metadata": {
    "papermill": {
     "duration": 0.00782,
     "end_time": "2024-08-20T05:00:56.446198",
     "exception": false,
     "start_time": "2024-08-20T05:00:56.438378",
     "status": "completed"
    },
    "tags": []
   },
   "source": [
    "In the tutorial, you learned how to define and modify Python lists.  In this exercise, you will use your new knowledge to solve several problems.\n",
    "\n",
    "# Set up the notebook\n",
    "\n",
    "Run the next code cell without changes to set up the notebook."
   ]
  },
  {
   "cell_type": "code",
   "execution_count": 1,
   "id": "a20937c9",
   "metadata": {
    "execution": {
     "iopub.execute_input": "2024-08-20T05:00:56.464555Z",
     "iopub.status.busy": "2024-08-20T05:00:56.464084Z",
     "iopub.status.idle": "2024-08-20T05:00:57.624882Z",
     "shell.execute_reply": "2024-08-20T05:00:57.623156Z"
    },
    "papermill": {
     "duration": 1.173323,
     "end_time": "2024-08-20T05:00:57.627852",
     "exception": false,
     "start_time": "2024-08-20T05:00:56.454529",
     "status": "completed"
    },
    "tags": []
   },
   "outputs": [
    {
     "name": "stdout",
     "output_type": "stream",
     "text": [
      "Setup complete.\n"
     ]
    }
   ],
   "source": [
    "from learntools.core import binder\n",
    "binder.bind(globals())\n",
    "from learntools.intro_to_programming.ex5 import *\n",
    "print('Setup complete.')"
   ]
  },
  {
   "cell_type": "markdown",
   "id": "0b6c9cea",
   "metadata": {
    "papermill": {
     "duration": 0.008967,
     "end_time": "2024-08-20T05:00:57.645539",
     "exception": false,
     "start_time": "2024-08-20T05:00:57.636572",
     "status": "completed"
    },
    "tags": []
   },
   "source": [
    "# Question 1\n",
    "\n",
    "You own a restaurant with five food dishes, organized in the Python list `menu` below.  One day, you decide to:\n",
    "- remove bean soup (`'bean soup'`) from the menu, and\n",
    "- add roasted beet salad (`'roasted beet salad'`) to the menu.\n",
    "\n",
    "Implement this change to the list below.  While completing this task, \n",
    "- do not change the line that creates the `menu` list.  \n",
    "- your answer should use `.remove()` and `.append()`.  "
   ]
  },
  {
   "cell_type": "code",
   "execution_count": 2,
   "id": "825f0869",
   "metadata": {
    "execution": {
     "iopub.execute_input": "2024-08-20T05:00:57.664466Z",
     "iopub.status.busy": "2024-08-20T05:00:57.663911Z",
     "iopub.status.idle": "2024-08-20T05:00:57.676323Z",
     "shell.execute_reply": "2024-08-20T05:00:57.675151Z"
    },
    "papermill": {
     "duration": 0.025178,
     "end_time": "2024-08-20T05:00:57.678889",
     "exception": false,
     "start_time": "2024-08-20T05:00:57.653711",
     "status": "completed"
    },
    "tags": []
   },
   "outputs": [
    {
     "data": {
      "application/javascript": [
       "parent.postMessage({\"jupyterEvent\": \"custom.exercise_interaction\", \"data\": {\"outcomeType\": 1, \"valueTowardsCompletion\": 0.2, \"interactionType\": 1, \"questionType\": 2, \"questionId\": \"1_FoodMenu\", \"learnToolsVersion\": \"0.3.4\", \"failureMessage\": \"\", \"exceptionClass\": \"\", \"trace\": \"\"}}, \"*\")"
      ],
      "text/plain": [
       "<IPython.core.display.Javascript object>"
      ]
     },
     "metadata": {},
     "output_type": "display_data"
    },
    {
     "data": {
      "text/markdown": [
       "<span style=\"color:#33cc33\">Correct</span>"
      ],
      "text/plain": [
       "Correct"
      ]
     },
     "metadata": {},
     "output_type": "display_data"
    }
   ],
   "source": [
    "# Do not change: Initial menu for your restaurant\n",
    "menu = ['stewed meat with onions', 'bean soup', 'risotto with trout and shrimp',\n",
    "       'fish soup with cream and onion', 'gyro']\n",
    "\n",
    "# TODO: remove 'bean soup', and add 'roasted beet salad' to the end of the menu\n",
    "menu.remove('bean soup')\n",
    "menu.append('roasted beet salad')\n",
    "\n",
    "# Do not change: Check your answer\n",
    "q1.check()"
   ]
  },
  {
   "cell_type": "code",
   "execution_count": 3,
   "id": "7a7165c3",
   "metadata": {
    "execution": {
     "iopub.execute_input": "2024-08-20T05:00:57.698098Z",
     "iopub.status.busy": "2024-08-20T05:00:57.697661Z",
     "iopub.status.idle": "2024-08-20T05:00:57.703292Z",
     "shell.execute_reply": "2024-08-20T05:00:57.702131Z"
    },
    "papermill": {
     "duration": 0.018381,
     "end_time": "2024-08-20T05:00:57.705934",
     "exception": false,
     "start_time": "2024-08-20T05:00:57.687553",
     "status": "completed"
    },
    "tags": []
   },
   "outputs": [],
   "source": [
    "# Uncomment to see a hint\n",
    "#q1.hint()\n",
    "\n",
    "# Uncomment to see the solution\n",
    "#q1.solution()"
   ]
  },
  {
   "cell_type": "markdown",
   "id": "5db1c567",
   "metadata": {
    "papermill": {
     "duration": 0.00833,
     "end_time": "2024-08-20T05:00:57.723666",
     "exception": false,
     "start_time": "2024-08-20T05:00:57.715336",
     "status": "completed"
    },
    "tags": []
   },
   "source": [
    "# Question 2\n",
    "\n",
    "The list `num_customers` contains the number of customers who came into your restaurant every day over the last month (which lasted thirty days).  Fill in values for each of the following:\n",
    "- `avg_first_seven` - average number of customers who visited in the first seven days\n",
    "- `avg_last_seven` - average number of customers who visited in the last seven days\n",
    "- `max_month` - number of customers on the day that got the most customers in the last month\n",
    "- `min_month` - number of customers on the day that got the least customers in the last month\n",
    "\n",
    "Answer this question by writing code.  For instance, if you have to find the minimum value in a list, use `min()` instead of scanning for the smallest value and directly filling in a number."
   ]
  },
  {
   "cell_type": "code",
   "execution_count": 4,
   "id": "49f3e2e9",
   "metadata": {
    "execution": {
     "iopub.execute_input": "2024-08-20T05:00:57.743217Z",
     "iopub.status.busy": "2024-08-20T05:00:57.742796Z",
     "iopub.status.idle": "2024-08-20T05:00:57.755486Z",
     "shell.execute_reply": "2024-08-20T05:00:57.754180Z"
    },
    "papermill": {
     "duration": 0.0259,
     "end_time": "2024-08-20T05:00:57.758176",
     "exception": false,
     "start_time": "2024-08-20T05:00:57.732276",
     "status": "completed"
    },
    "tags": []
   },
   "outputs": [
    {
     "data": {
      "application/javascript": [
       "parent.postMessage({\"jupyterEvent\": \"custom.exercise_interaction\", \"data\": {\"outcomeType\": 1, \"valueTowardsCompletion\": 0.2, \"interactionType\": 1, \"questionType\": 1, \"questionId\": \"2_NumCustomers\", \"learnToolsVersion\": \"0.3.4\", \"failureMessage\": \"\", \"exceptionClass\": \"\", \"trace\": \"\"}}, \"*\")"
      ],
      "text/plain": [
       "<IPython.core.display.Javascript object>"
      ]
     },
     "metadata": {},
     "output_type": "display_data"
    },
    {
     "data": {
      "text/markdown": [
       "<span style=\"color:#33cc33\">Correct</span>"
      ],
      "text/plain": [
       "Correct"
      ]
     },
     "metadata": {},
     "output_type": "display_data"
    }
   ],
   "source": [
    "# Do not change: Number of customers each day for the last month\n",
    "num_customers = [137, 147, 135, 128, 170, 174, 165, 146, 126, 159,\n",
    "                 141, 148, 132, 147, 168, 153, 170, 161, 148, 152,\n",
    "                 141, 151, 131, 149, 164, 163, 143, 143, 166, 171]\n",
    "\n",
    "# TODO: Fill in values for the variables below\n",
    "avg_first_seven = sum(num_customers[:7])/7 \n",
    "avg_last_seven = sum(num_customers[-7:])/7\n",
    "max_month = max(num_customers)\n",
    "min_month = min(num_customers)\n",
    "\n",
    "# Do not change: Check your answer\n",
    "q2.check()"
   ]
  },
  {
   "cell_type": "code",
   "execution_count": 5,
   "id": "436a5244",
   "metadata": {
    "execution": {
     "iopub.execute_input": "2024-08-20T05:00:57.778710Z",
     "iopub.status.busy": "2024-08-20T05:00:57.778309Z",
     "iopub.status.idle": "2024-08-20T05:00:57.788484Z",
     "shell.execute_reply": "2024-08-20T05:00:57.787383Z"
    },
    "papermill": {
     "duration": 0.023524,
     "end_time": "2024-08-20T05:00:57.791010",
     "exception": false,
     "start_time": "2024-08-20T05:00:57.767486",
     "status": "completed"
    },
    "tags": []
   },
   "outputs": [
    {
     "data": {
      "application/javascript": [
       "parent.postMessage({\"jupyterEvent\": \"custom.exercise_interaction\", \"data\": {\"interactionType\": 3, \"questionType\": 1, \"questionId\": \"2_NumCustomers\", \"learnToolsVersion\": \"0.3.4\", \"valueTowardsCompletion\": 0.0, \"failureMessage\": \"\", \"exceptionClass\": \"\", \"trace\": \"\", \"outcomeType\": 4}}, \"*\")"
      ],
      "text/plain": [
       "<IPython.core.display.Javascript object>"
      ]
     },
     "metadata": {},
     "output_type": "display_data"
    },
    {
     "data": {
      "text/markdown": [
       "<span style=\"color:#33cc99\">Solution:</span> \n",
       "```python\n",
       "# Fill in values for the variables below\n",
       "avg_first_seven = sum(num_customers[:7])/7 \n",
       "avg_last_seven = sum(num_customers[-7:])/7\n",
       "max_month = max(num_customers)\n",
       "min_month = min(num_customers)\n",
       "\n",
       "```"
      ],
      "text/plain": [
       "Solution: \n",
       "```python\n",
       "# Fill in values for the variables below\n",
       "avg_first_seven = sum(num_customers[:7])/7 \n",
       "avg_last_seven = sum(num_customers[-7:])/7\n",
       "max_month = max(num_customers)\n",
       "min_month = min(num_customers)\n",
       "\n",
       "```"
      ]
     },
     "metadata": {},
     "output_type": "display_data"
    }
   ],
   "source": [
    "# Uncomment to see a hint\n",
    "#q2.hint()\n",
    "\n",
    "# Uncomment to see the solution\n",
    "q2.solution()"
   ]
  },
  {
   "cell_type": "markdown",
   "id": "5a1ce65b",
   "metadata": {
    "papermill": {
     "duration": 0.009856,
     "end_time": "2024-08-20T05:00:57.811196",
     "exception": false,
     "start_time": "2024-08-20T05:00:57.801340",
     "status": "completed"
    },
    "tags": []
   },
   "source": [
    "# Question 3\n",
    "\n",
    "In the tutorial, we gave an example of a Python string with information that was better as a list."
   ]
  },
  {
   "cell_type": "code",
   "execution_count": 6,
   "id": "658b6841",
   "metadata": {
    "execution": {
     "iopub.execute_input": "2024-08-20T05:00:57.832243Z",
     "iopub.status.busy": "2024-08-20T05:00:57.831766Z",
     "iopub.status.idle": "2024-08-20T05:00:57.837995Z",
     "shell.execute_reply": "2024-08-20T05:00:57.836740Z"
    },
    "papermill": {
     "duration": 0.019956,
     "end_time": "2024-08-20T05:00:57.840700",
     "exception": false,
     "start_time": "2024-08-20T05:00:57.820744",
     "status": "completed"
    },
    "tags": []
   },
   "outputs": [],
   "source": [
    "flowers = \"pink primrose,hard-leaved pocket orchid,canterbury bells,sweet pea,english marigold,tiger lily,moon orchid,bird of paradise,monkshood,globe thistle\""
   ]
  },
  {
   "cell_type": "markdown",
   "id": "b58f01c3",
   "metadata": {
    "papermill": {
     "duration": 0.009488,
     "end_time": "2024-08-20T05:00:57.859884",
     "exception": false,
     "start_time": "2024-08-20T05:00:57.850396",
     "status": "completed"
    },
    "tags": []
   },
   "source": [
    "You can actually use Python to quickly turn this string into a list with `.split()`.  In the parentheses, we need to provide the character should be used to mark the end of one list item and the beginning of another, and enclose it in quotation marks.  In this case, that character is a comma."
   ]
  },
  {
   "cell_type": "code",
   "execution_count": 7,
   "id": "a3c96d46",
   "metadata": {
    "execution": {
     "iopub.execute_input": "2024-08-20T05:00:57.881087Z",
     "iopub.status.busy": "2024-08-20T05:00:57.880683Z",
     "iopub.status.idle": "2024-08-20T05:00:57.887330Z",
     "shell.execute_reply": "2024-08-20T05:00:57.886017Z"
    },
    "papermill": {
     "duration": 0.02056,
     "end_time": "2024-08-20T05:00:57.890062",
     "exception": false,
     "start_time": "2024-08-20T05:00:57.869502",
     "status": "completed"
    },
    "tags": []
   },
   "outputs": [
    {
     "name": "stdout",
     "output_type": "stream",
     "text": [
      "['pink primrose', 'hard-leaved pocket orchid', 'canterbury bells', 'sweet pea', 'english marigold', 'tiger lily', 'moon orchid', 'bird of paradise', 'monkshood', 'globe thistle']\n"
     ]
    }
   ],
   "source": [
    " print(flowers.split(\",\"))"
   ]
  },
  {
   "cell_type": "markdown",
   "id": "def616fb",
   "metadata": {
    "papermill": {
     "duration": 0.009472,
     "end_time": "2024-08-20T05:00:57.910721",
     "exception": false,
     "start_time": "2024-08-20T05:00:57.901249",
     "status": "completed"
    },
    "tags": []
   },
   "source": [
    "Now it is your turn to try this out!  Create two Python lists:\n",
    "- `letters` should be a Python list where each entry is an uppercase letter of the English alphabet.  For instance, the first two entries should be `\"A\"` and `\"B\"`, and the final two entries should be `\"Y\"` and `\"Z\"`.  Use the string `alphabet` to create this list.\n",
    "- `address` should be a Python list where each row in `address` is a different item in the list.  Currently, each row in `address` is separated by a comma. "
   ]
  },
  {
   "cell_type": "code",
   "execution_count": 8,
   "id": "e4f60782",
   "metadata": {
    "execution": {
     "iopub.execute_input": "2024-08-20T05:00:57.932452Z",
     "iopub.status.busy": "2024-08-20T05:00:57.932015Z",
     "iopub.status.idle": "2024-08-20T05:00:57.943423Z",
     "shell.execute_reply": "2024-08-20T05:00:57.942193Z"
    },
    "papermill": {
     "duration": 0.025782,
     "end_time": "2024-08-20T05:00:57.946180",
     "exception": false,
     "start_time": "2024-08-20T05:00:57.920398",
     "status": "completed"
    },
    "tags": []
   },
   "outputs": [
    {
     "data": {
      "application/javascript": [
       "parent.postMessage({\"jupyterEvent\": \"custom.exercise_interaction\", \"data\": {\"outcomeType\": 1, \"valueTowardsCompletion\": 0.2, \"interactionType\": 1, \"questionType\": 1, \"questionId\": \"3_SplitString\", \"learnToolsVersion\": \"0.3.4\", \"failureMessage\": \"\", \"exceptionClass\": \"\", \"trace\": \"\"}}, \"*\")"
      ],
      "text/plain": [
       "<IPython.core.display.Javascript object>"
      ]
     },
     "metadata": {},
     "output_type": "display_data"
    },
    {
     "data": {
      "text/markdown": [
       "<span style=\"color:#33cc33\">Correct</span>"
      ],
      "text/plain": [
       "Correct"
      ]
     },
     "metadata": {},
     "output_type": "display_data"
    }
   ],
   "source": [
    "# DO not change: Define two Python strings\n",
    "alphabet = \"A.B.C.D.E.F.G.H.I.J.K.L.M.N.O.P.Q.R.S.T.U.V.W.X.Y.Z\"\n",
    "address = \"Mr. H. Potter,The cupboard under the Stairs,4 Privet Drive,Little Whinging,Surrey\"\n",
    "\n",
    "# TODO: Convert strings into Python lists\n",
    "letters = alphabet.split(\".\")\n",
    "formatted_address = address.split(\",\")\n",
    "\n",
    "# Do not change: Check your answer\n",
    "q3.check()"
   ]
  },
  {
   "cell_type": "code",
   "execution_count": 9,
   "id": "832d9a2c",
   "metadata": {
    "execution": {
     "iopub.execute_input": "2024-08-20T05:00:57.968319Z",
     "iopub.status.busy": "2024-08-20T05:00:57.967885Z",
     "iopub.status.idle": "2024-08-20T05:00:57.972950Z",
     "shell.execute_reply": "2024-08-20T05:00:57.971716Z"
    },
    "papermill": {
     "duration": 0.019053,
     "end_time": "2024-08-20T05:00:57.975524",
     "exception": false,
     "start_time": "2024-08-20T05:00:57.956471",
     "status": "completed"
    },
    "tags": []
   },
   "outputs": [],
   "source": [
    "# Uncomment to see a hint\n",
    "#q3.hint()\n",
    "\n",
    "# Uncomment to see the solution\n",
    "#q3.solution()"
   ]
  },
  {
   "cell_type": "markdown",
   "id": "ec1c7cb4",
   "metadata": {
    "papermill": {
     "duration": 0.010081,
     "end_time": "2024-08-20T05:00:57.995653",
     "exception": false,
     "start_time": "2024-08-20T05:00:57.985572",
     "status": "completed"
    },
    "tags": []
   },
   "source": [
    "# Question 4\n",
    "\n",
    "In the Python course, you'll learn all about **list comprehensions**, which allow you to create a list based on the values in another list.  In this question, you'll get a brief preview of how they work.\n",
    "\n",
    "Say we're working with the list below."
   ]
  },
  {
   "cell_type": "code",
   "execution_count": 10,
   "id": "df8cf788",
   "metadata": {
    "execution": {
     "iopub.execute_input": "2024-08-20T05:00:58.017742Z",
     "iopub.status.busy": "2024-08-20T05:00:58.017338Z",
     "iopub.status.idle": "2024-08-20T05:00:58.023505Z",
     "shell.execute_reply": "2024-08-20T05:00:58.022211Z"
    },
    "papermill": {
     "duration": 0.020409,
     "end_time": "2024-08-20T05:00:58.026255",
     "exception": false,
     "start_time": "2024-08-20T05:00:58.005846",
     "status": "completed"
    },
    "tags": []
   },
   "outputs": [],
   "source": [
    "test_ratings = [1, 2, 3, 4, 5]"
   ]
  },
  {
   "cell_type": "markdown",
   "id": "852d3af7",
   "metadata": {
    "papermill": {
     "duration": 0.009717,
     "end_time": "2024-08-20T05:00:58.046094",
     "exception": false,
     "start_time": "2024-08-20T05:00:58.036377",
     "status": "completed"
    },
    "tags": []
   },
   "source": [
    "Then we can use this list (`test_ratings`) to create a new list (`test_liked`) where each item has been turned into a boolean, depending on whether or not the item is greater than or equal to four."
   ]
  },
  {
   "cell_type": "code",
   "execution_count": 11,
   "id": "db5c8974",
   "metadata": {
    "execution": {
     "iopub.execute_input": "2024-08-20T05:00:58.072093Z",
     "iopub.status.busy": "2024-08-20T05:00:58.071659Z",
     "iopub.status.idle": "2024-08-20T05:00:58.078305Z",
     "shell.execute_reply": "2024-08-20T05:00:58.077009Z"
    },
    "papermill": {
     "duration": 0.022545,
     "end_time": "2024-08-20T05:00:58.081881",
     "exception": false,
     "start_time": "2024-08-20T05:00:58.059336",
     "status": "completed"
    },
    "tags": []
   },
   "outputs": [
    {
     "name": "stdout",
     "output_type": "stream",
     "text": [
      "[False, False, False, True, True]\n"
     ]
    }
   ],
   "source": [
    "test_liked = [i>=4 for i in test_ratings]\n",
    "print(test_liked)"
   ]
  },
  {
   "cell_type": "markdown",
   "id": "c9b2d347",
   "metadata": {
    "papermill": {
     "duration": 0.010113,
     "end_time": "2024-08-20T05:00:58.102499",
     "exception": false,
     "start_time": "2024-08-20T05:00:58.092386",
     "status": "completed"
    },
    "tags": []
   },
   "source": [
    "In this question, you'll use this list comprehension to define a function `percentage_liked()` that takes one argument as input:\n",
    "- `ratings`: list of ratings that people gave to a movie, where each rating is a number between 1-5, inclusive\n",
    "\n",
    "We say someone liked the movie, if they gave a rating of either 4 or 5.  Your function should return the percentage of people who liked the movie.\n",
    "\n",
    "For instance, if we supply a value of `[1, 2, 3, 4, 5, 4, 5, 1]`, then 50% (4/8) of the people liked the movie, and the function should return `0.5`.\n",
    "\n",
    "Part of the function has already been completed for you.  You need only use `list_liked` to calculate `percentage_liked`."
   ]
  },
  {
   "cell_type": "code",
   "execution_count": 12,
   "id": "b50a6f05",
   "metadata": {
    "execution": {
     "iopub.execute_input": "2024-08-20T05:00:58.124677Z",
     "iopub.status.busy": "2024-08-20T05:00:58.124265Z",
     "iopub.status.idle": "2024-08-20T05:00:58.136436Z",
     "shell.execute_reply": "2024-08-20T05:00:58.135255Z"
    },
    "papermill": {
     "duration": 0.026591,
     "end_time": "2024-08-20T05:00:58.139397",
     "exception": false,
     "start_time": "2024-08-20T05:00:58.112806",
     "status": "completed"
    },
    "tags": []
   },
   "outputs": [
    {
     "data": {
      "application/javascript": [
       "parent.postMessage({\"jupyterEvent\": \"custom.exercise_interaction\", \"data\": {\"outcomeType\": 1, \"valueTowardsCompletion\": 0.2, \"interactionType\": 1, \"questionType\": 2, \"questionId\": \"4_PercentageLiked\", \"learnToolsVersion\": \"0.3.4\", \"failureMessage\": \"\", \"exceptionClass\": \"\", \"trace\": \"\"}}, \"*\")"
      ],
      "text/plain": [
       "<IPython.core.display.Javascript object>"
      ]
     },
     "metadata": {},
     "output_type": "display_data"
    },
    {
     "data": {
      "text/markdown": [
       "<span style=\"color:#33cc33\">Correct</span>"
      ],
      "text/plain": [
       "Correct"
      ]
     },
     "metadata": {},
     "output_type": "display_data"
    }
   ],
   "source": [
    "\n",
    "def percentage_liked(ratings):\n",
    "    list_liked = [i>=4 for i in ratings]\n",
    "    # TODO: Complete the function\n",
    "    percentage_liked = sum(list_liked)/len(list_liked)\n",
    "    return percentage_liked\n",
    "\n",
    "# Do not change: should return 0.5\n",
    "percentage_liked([1, 2, 3, 4, 5, 4, 5, 1])\n",
    "\n",
    "# Do not change: Check your answer\n",
    "q4.check()"
   ]
  },
  {
   "cell_type": "code",
   "execution_count": 13,
   "id": "ebb16ad3",
   "metadata": {
    "execution": {
     "iopub.execute_input": "2024-08-20T05:00:58.162717Z",
     "iopub.status.busy": "2024-08-20T05:00:58.162320Z",
     "iopub.status.idle": "2024-08-20T05:00:58.167815Z",
     "shell.execute_reply": "2024-08-20T05:00:58.166412Z"
    },
    "papermill": {
     "duration": 0.020527,
     "end_time": "2024-08-20T05:00:58.170398",
     "exception": false,
     "start_time": "2024-08-20T05:00:58.149871",
     "status": "completed"
    },
    "tags": []
   },
   "outputs": [],
   "source": [
    "# Uncomment to see a hint\n",
    "#q4.hint()\n",
    "\n",
    "# Uncomment to see the solution\n",
    "#q4.solution()"
   ]
  },
  {
   "cell_type": "markdown",
   "id": "d25fa903",
   "metadata": {
    "papermill": {
     "duration": 0.010477,
     "end_time": "2024-08-20T05:00:58.191448",
     "exception": false,
     "start_time": "2024-08-20T05:00:58.180971",
     "status": "completed"
    },
    "tags": []
   },
   "source": [
    "# 🌶️ Question 5\n",
    " \n",
    "Say you're doing analytics for a website.  You need to write a function that returns the percentage growth in the total number of users relative to a specified number of years ago.\n",
    "\n",
    "Your function `percentage_growth()` should take two arguments as input:\n",
    "- `num_users` = Python list with the total number of users each year.  So `num_users[0]` is the total number of users in the first year, `num_users[1]` is the total number of users in the second year, and so on.  The final entry in the list gives the total number of users in the most recently completed year.\n",
    "- `yrs_ago` = number of years to go back in time when calculating the growth percentage\n",
    "\n",
    "For instance, say `num_users = [920344, 1043553, 1204334, 1458996, 1503323, 1593432, 1623463, 1843064, 1930992, 2001078]`.\n",
    "- if `yrs_ago = 1`, we want the function to return a value of about `0.036`. This corresponds to a percentage growth of approximately 3.6%, calculated as (2001078 - 1930992)/1930992.\n",
    "- if `years_ago = 7`, we would want to return approximately `0.66`.  This corresponds to a percentage growth of approximately 66%, calculated as (2001078 - 1204334)/1204334.\n",
    "\n",
    "Your coworker sent you a draft of a function, but it doesn't seem to be doing the correct calculation.  Can you figure out what has gone wrong and make the needed changes?"
   ]
  },
  {
   "cell_type": "code",
   "execution_count": 14,
   "id": "0c2b1999",
   "metadata": {
    "execution": {
     "iopub.execute_input": "2024-08-20T05:00:58.214845Z",
     "iopub.status.busy": "2024-08-20T05:00:58.214445Z",
     "iopub.status.idle": "2024-08-20T05:00:58.228550Z",
     "shell.execute_reply": "2024-08-20T05:00:58.227371Z"
    },
    "papermill": {
     "duration": 0.02892,
     "end_time": "2024-08-20T05:00:58.231052",
     "exception": false,
     "start_time": "2024-08-20T05:00:58.202132",
     "status": "completed"
    },
    "tags": []
   },
   "outputs": [
    {
     "name": "stdout",
     "output_type": "stream",
     "text": [
      "0.03629533421163837\n",
      "0.6615639847417742\n"
     ]
    },
    {
     "data": {
      "application/javascript": [
       "parent.postMessage({\"jupyterEvent\": \"custom.exercise_interaction\", \"data\": {\"outcomeType\": 1, \"valueTowardsCompletion\": 0.2, \"interactionType\": 1, \"questionType\": 2, \"questionId\": \"5_WebsiteAnalytics\", \"learnToolsVersion\": \"0.3.4\", \"failureMessage\": \"\", \"exceptionClass\": \"\", \"trace\": \"\"}}, \"*\")"
      ],
      "text/plain": [
       "<IPython.core.display.Javascript object>"
      ]
     },
     "metadata": {},
     "output_type": "display_data"
    },
    {
     "data": {
      "text/markdown": [
       "<span style=\"color:#33cc33\">Correct</span>"
      ],
      "text/plain": [
       "Correct"
      ]
     },
     "metadata": {},
     "output_type": "display_data"
    }
   ],
   "source": [
    "# TODO: Edit the function\n",
    "def percentage_growth(num_users, yrs_ago):\n",
    "    growth = (num_users[len(num_users)-1] - num_users[len(num_users)-yrs_ago-1])/num_users[len(num_users)-yrs_ago-1]\n",
    "    return growth\n",
    "\n",
    "# Do not change: Variable for calculating some test examples\n",
    "num_users_test = [920344, 1043553, 1204334, 1458996, 1503323, 1593432, 1623463, 1843064, 1930992, 2001078]\n",
    "\n",
    "# Do not change: Should return .036\n",
    "print(percentage_growth(num_users_test, 1))\n",
    "\n",
    "# Do not change: Should return 0.66\n",
    "print(percentage_growth(num_users_test, 7))\n",
    "\n",
    "# Do not change: Check your answer\n",
    "q5.check()"
   ]
  },
  {
   "cell_type": "code",
   "execution_count": 15,
   "id": "6fcf4ccf",
   "metadata": {
    "execution": {
     "iopub.execute_input": "2024-08-20T05:00:58.255100Z",
     "iopub.status.busy": "2024-08-20T05:00:58.254663Z",
     "iopub.status.idle": "2024-08-20T05:00:58.259910Z",
     "shell.execute_reply": "2024-08-20T05:00:58.258712Z"
    },
    "papermill": {
     "duration": 0.02049,
     "end_time": "2024-08-20T05:00:58.262421",
     "exception": false,
     "start_time": "2024-08-20T05:00:58.241931",
     "status": "completed"
    },
    "tags": []
   },
   "outputs": [],
   "source": [
    "# Uncomment to see a hint\n",
    "#q5.hint()\n",
    "\n",
    "# Uncomment to see the solution\n",
    "#q5.solution()"
   ]
  },
  {
   "cell_type": "markdown",
   "id": "3b63f2b5",
   "metadata": {
    "papermill": {
     "duration": 0.010642,
     "end_time": "2024-08-20T05:00:58.284265",
     "exception": false,
     "start_time": "2024-08-20T05:00:58.273623",
     "status": "completed"
    },
    "tags": []
   },
   "source": [
    "# Congratulations!\n",
    "\n",
    "Congratulations for finishing the Intro to Programming course!  You should be proud of your very first steps with learning programming.  As next steps, we recommend taking:\n",
    "- the **[Python course](http://www.kaggle.com/learn/python)**, and \n",
    "- the **[Intro to Machine Learning course](https://www.kaggle.com/learn/intro-to-machine-learning)**."
   ]
  },
  {
   "cell_type": "markdown",
   "id": "e1d27d97",
   "metadata": {
    "papermill": {
     "duration": 0.011376,
     "end_time": "2024-08-20T05:00:58.306700",
     "exception": false,
     "start_time": "2024-08-20T05:00:58.295324",
     "status": "completed"
    },
    "tags": []
   },
   "source": [
    "---\n",
    "\n",
    "\n",
    "\n",
    "\n",
    "*Have questions or comments? Visit the [course discussion forum](https://www.kaggle.com/learn/intro-to-programming/discussion) to chat with other learners.*"
   ]
  }
 ],
 "metadata": {
  "kaggle": {
   "accelerator": "none",
   "dataSources": [],
   "isGpuEnabled": false,
   "isInternetEnabled": false,
   "language": "python",
   "sourceType": "notebook"
  },
  "kernelspec": {
   "display_name": "Python 3",
   "language": "python",
   "name": "python3"
  },
  "language_info": {
   "codemirror_mode": {
    "name": "ipython",
    "version": 3
   },
   "file_extension": ".py",
   "mimetype": "text/x-python",
   "name": "python",
   "nbconvert_exporter": "python",
   "pygments_lexer": "ipython3",
   "version": "3.10.13"
  },
  "papermill": {
   "default_parameters": {},
   "duration": 5.715336,
   "end_time": "2024-08-20T05:00:58.839732",
   "environment_variables": {},
   "exception": null,
   "input_path": "__notebook__.ipynb",
   "output_path": "__notebook__.ipynb",
   "parameters": {},
   "start_time": "2024-08-20T05:00:53.124396",
   "version": "2.5.0"
  }
 },
 "nbformat": 4,
 "nbformat_minor": 5
}
