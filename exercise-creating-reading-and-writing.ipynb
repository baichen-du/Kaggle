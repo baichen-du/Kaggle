{
 "cells": [
  {
   "cell_type": "markdown",
   "id": "1eda7127",
   "metadata": {
    "papermill": {
     "duration": 0.008058,
     "end_time": "2024-08-21T06:06:54.715050",
     "exception": false,
     "start_time": "2024-08-21T06:06:54.706992",
     "status": "completed"
    },
    "tags": []
   },
   "source": [
    "**This notebook is an exercise in the [Pandas](https://www.kaggle.com/learn/pandas) course.  You can reference the tutorial at [this link](https://www.kaggle.com/residentmario/creating-reading-and-writing).**\n",
    "\n",
    "---\n"
   ]
  },
  {
   "cell_type": "markdown",
   "id": "b31b2e8a",
   "metadata": {
    "papermill": {
     "duration": 0.006554,
     "end_time": "2024-08-21T06:06:54.728643",
     "exception": false,
     "start_time": "2024-08-21T06:06:54.722089",
     "status": "completed"
    },
    "tags": []
   },
   "source": [
    "# Introduction\n",
    "\n",
    "The first step in most data analytics projects is reading the data file. In this exercise, you'll create Series and DataFrame objects, both by hand and by reading data files.\n",
    "\n",
    "Run the code cell below to load libraries you will need (including code to check your answers)."
   ]
  },
  {
   "cell_type": "code",
   "execution_count": 1,
   "id": "3f874dc1",
   "metadata": {
    "execution": {
     "iopub.execute_input": "2024-08-21T06:06:54.744754Z",
     "iopub.status.busy": "2024-08-21T06:06:54.744338Z",
     "iopub.status.idle": "2024-08-21T06:06:57.410703Z",
     "shell.execute_reply": "2024-08-21T06:06:57.409263Z"
    },
    "papermill": {
     "duration": 2.677309,
     "end_time": "2024-08-21T06:06:57.413430",
     "exception": false,
     "start_time": "2024-08-21T06:06:54.736121",
     "status": "completed"
    },
    "tags": []
   },
   "outputs": [
    {
     "name": "stdout",
     "output_type": "stream",
     "text": [
      "Setup complete.\n"
     ]
    }
   ],
   "source": [
    "import pandas as pd\n",
    "pd.set_option('display.max_rows', 5)\n",
    "from learntools.core import binder; binder.bind(globals())\n",
    "from learntools.pandas.creating_reading_and_writing import *\n",
    "print(\"Setup complete.\")"
   ]
  },
  {
   "cell_type": "markdown",
   "id": "18ff5464",
   "metadata": {
    "papermill": {
     "duration": 0.006848,
     "end_time": "2024-08-21T06:06:57.427420",
     "exception": false,
     "start_time": "2024-08-21T06:06:57.420572",
     "status": "completed"
    },
    "tags": []
   },
   "source": [
    "# Exercises"
   ]
  },
  {
   "cell_type": "markdown",
   "id": "ebdbbe46",
   "metadata": {
    "papermill": {
     "duration": 0.006981,
     "end_time": "2024-08-21T06:06:57.442096",
     "exception": false,
     "start_time": "2024-08-21T06:06:57.435115",
     "status": "completed"
    },
    "tags": []
   },
   "source": [
    "## 1.\n",
    "\n",
    "In the cell below, create a DataFrame `fruits` that looks like this:\n",
    "\n",
    "![](https://storage.googleapis.com/kaggle-media/learn/images/Ax3pp2A.png)"
   ]
  },
  {
   "cell_type": "code",
   "execution_count": 2,
   "id": "2c1be712",
   "metadata": {
    "execution": {
     "iopub.execute_input": "2024-08-21T06:06:57.459364Z",
     "iopub.status.busy": "2024-08-21T06:06:57.458326Z",
     "iopub.status.idle": "2024-08-21T06:06:57.479354Z",
     "shell.execute_reply": "2024-08-21T06:06:57.478303Z"
    },
    "papermill": {
     "duration": 0.032192,
     "end_time": "2024-08-21T06:06:57.481929",
     "exception": false,
     "start_time": "2024-08-21T06:06:57.449737",
     "status": "completed"
    },
    "tags": []
   },
   "outputs": [
    {
     "data": {
      "application/javascript": [
       "parent.postMessage({\"jupyterEvent\": \"custom.exercise_interaction\", \"data\": {\"outcomeType\": 1, \"valueTowardsCompletion\": 0.16666666666666666, \"interactionType\": 1, \"questionType\": 1, \"questionId\": \"1_FruitDfCreation\", \"learnToolsVersion\": \"0.3.4\", \"failureMessage\": \"\", \"exceptionClass\": \"\", \"trace\": \"\"}}, \"*\")"
      ],
      "text/plain": [
       "<IPython.core.display.Javascript object>"
      ]
     },
     "metadata": {},
     "output_type": "display_data"
    },
    {
     "data": {
      "text/markdown": [
       "<span style=\"color:#33cc33\">Correct</span>"
      ],
      "text/plain": [
       "Correct"
      ]
     },
     "metadata": {},
     "output_type": "display_data"
    },
    {
     "data": {
      "text/html": [
       "<div>\n",
       "<style scoped>\n",
       "    .dataframe tbody tr th:only-of-type {\n",
       "        vertical-align: middle;\n",
       "    }\n",
       "\n",
       "    .dataframe tbody tr th {\n",
       "        vertical-align: top;\n",
       "    }\n",
       "\n",
       "    .dataframe thead th {\n",
       "        text-align: right;\n",
       "    }\n",
       "</style>\n",
       "<table border=\"1\" class=\"dataframe\">\n",
       "  <thead>\n",
       "    <tr style=\"text-align: right;\">\n",
       "      <th></th>\n",
       "      <th>Apples</th>\n",
       "      <th>Bananas</th>\n",
       "    </tr>\n",
       "  </thead>\n",
       "  <tbody>\n",
       "    <tr>\n",
       "      <th>0</th>\n",
       "      <td>30</td>\n",
       "      <td>21</td>\n",
       "    </tr>\n",
       "  </tbody>\n",
       "</table>\n",
       "</div>"
      ],
      "text/plain": [
       "   Apples  Bananas\n",
       "0      30       21"
      ]
     },
     "execution_count": 2,
     "metadata": {},
     "output_type": "execute_result"
    }
   ],
   "source": [
    "# Your code goes here. Create a dataframe matching the above diagram and assign it to the variable fruits.\n",
    "fruits = pd.DataFrame({'Apples': [30], 'Bananas': [21]})\n",
    "\n",
    "# Check your answer\n",
    "q1.check()\n",
    "fruits"
   ]
  },
  {
   "cell_type": "code",
   "execution_count": 3,
   "id": "c05363b8",
   "metadata": {
    "execution": {
     "iopub.execute_input": "2024-08-21T06:06:57.500570Z",
     "iopub.status.busy": "2024-08-21T06:06:57.500109Z",
     "iopub.status.idle": "2024-08-21T06:06:57.505464Z",
     "shell.execute_reply": "2024-08-21T06:06:57.504236Z"
    },
    "papermill": {
     "duration": 0.018163,
     "end_time": "2024-08-21T06:06:57.508149",
     "exception": false,
     "start_time": "2024-08-21T06:06:57.489986",
     "status": "completed"
    },
    "tags": []
   },
   "outputs": [],
   "source": [
    "#q1.hint()\n",
    "#q1.solution()"
   ]
  },
  {
   "cell_type": "markdown",
   "id": "1ac84f3f",
   "metadata": {
    "papermill": {
     "duration": 0.007293,
     "end_time": "2024-08-21T06:06:57.523138",
     "exception": false,
     "start_time": "2024-08-21T06:06:57.515845",
     "status": "completed"
    },
    "tags": []
   },
   "source": [
    "## 2.\n",
    "\n",
    "Create a dataframe `fruit_sales` that matches the diagram below:\n",
    "\n",
    "![](https://storage.googleapis.com/kaggle-media/learn/images/CHPn7ZF.png)"
   ]
  },
  {
   "cell_type": "code",
   "execution_count": 4,
   "id": "c5352c14",
   "metadata": {
    "execution": {
     "iopub.execute_input": "2024-08-21T06:06:57.540383Z",
     "iopub.status.busy": "2024-08-21T06:06:57.539963Z",
     "iopub.status.idle": "2024-08-21T06:06:57.553449Z",
     "shell.execute_reply": "2024-08-21T06:06:57.552115Z"
    },
    "papermill": {
     "duration": 0.025313,
     "end_time": "2024-08-21T06:06:57.556310",
     "exception": false,
     "start_time": "2024-08-21T06:06:57.530997",
     "status": "completed"
    },
    "tags": []
   },
   "outputs": [
    {
     "data": {
      "application/javascript": [
       "parent.postMessage({\"jupyterEvent\": \"custom.exercise_interaction\", \"data\": {\"outcomeType\": 4, \"interactionType\": 1, \"questionType\": 1, \"questionId\": \"2_FruitSalesDfCreation\", \"learnToolsVersion\": \"0.3.4\", \"valueTowardsCompletion\": 0.0, \"failureMessage\": \"\", \"exceptionClass\": \"\", \"trace\": \"\"}}, \"*\")"
      ],
      "text/plain": [
       "<IPython.core.display.Javascript object>"
      ]
     },
     "metadata": {},
     "output_type": "display_data"
    },
    {
     "data": {
      "text/markdown": [
       "<span style=\"color:#ccaa33\">Check:</span> When you've updated the starter code, `check()` will tell you whether your code is correct. You need to update the code that creates variable `fruit_sales`"
      ],
      "text/plain": [
       "Check: When you've updated the starter code, `check()` will tell you whether your code is correct. You need to update the code that creates variable `fruit_sales`"
      ]
     },
     "metadata": {},
     "output_type": "display_data"
    },
    {
     "data": {
      "text/markdown": [],
      "text/plain": [
       "<learntools.core.constants.PlaceholderValue at 0x7a349e2a0250>"
      ]
     },
     "execution_count": 4,
     "metadata": {},
     "output_type": "execute_result"
    }
   ],
   "source": [
    "# Your code goes here. Create a dataframe matching the above diagram and assign it to the variable fruit_sales.\n",
    "fruit_sales = ____\n",
    "\n",
    "# Check your answer\n",
    "q2.check()\n",
    "fruit_sales"
   ]
  },
  {
   "cell_type": "code",
   "execution_count": 5,
   "id": "cff58b75",
   "metadata": {
    "execution": {
     "iopub.execute_input": "2024-08-21T06:06:57.575124Z",
     "iopub.status.busy": "2024-08-21T06:06:57.574710Z",
     "iopub.status.idle": "2024-08-21T06:06:57.579519Z",
     "shell.execute_reply": "2024-08-21T06:06:57.578212Z"
    },
    "papermill": {
     "duration": 0.017407,
     "end_time": "2024-08-21T06:06:57.582088",
     "exception": false,
     "start_time": "2024-08-21T06:06:57.564681",
     "status": "completed"
    },
    "tags": []
   },
   "outputs": [],
   "source": [
    "#q2.hint()\n",
    "#q2.solution()"
   ]
  },
  {
   "cell_type": "markdown",
   "id": "d16da698",
   "metadata": {
    "papermill": {
     "duration": 0.008076,
     "end_time": "2024-08-21T06:06:57.598904",
     "exception": false,
     "start_time": "2024-08-21T06:06:57.590828",
     "status": "completed"
    },
    "tags": []
   },
   "source": [
    "## 3.\n",
    "\n",
    "Create a variable `ingredients` with a Series that looks like:\n",
    "\n",
    "```\n",
    "Flour     4 cups\n",
    "Milk       1 cup\n",
    "Eggs     2 large\n",
    "Spam       1 can\n",
    "Name: Dinner, dtype: object\n",
    "```"
   ]
  },
  {
   "cell_type": "code",
   "execution_count": 6,
   "id": "a8aa98af",
   "metadata": {
    "execution": {
     "iopub.execute_input": "2024-08-21T06:06:57.618716Z",
     "iopub.status.busy": "2024-08-21T06:06:57.618299Z",
     "iopub.status.idle": "2024-08-21T06:06:57.631710Z",
     "shell.execute_reply": "2024-08-21T06:06:57.630039Z"
    },
    "papermill": {
     "duration": 0.025986,
     "end_time": "2024-08-21T06:06:57.634575",
     "exception": false,
     "start_time": "2024-08-21T06:06:57.608589",
     "status": "completed"
    },
    "tags": []
   },
   "outputs": [
    {
     "data": {
      "application/javascript": [
       "parent.postMessage({\"jupyterEvent\": \"custom.exercise_interaction\", \"data\": {\"outcomeType\": 4, \"interactionType\": 1, \"questionType\": 2, \"questionId\": \"3_RecipeSeriesCreation\", \"learnToolsVersion\": \"0.3.4\", \"valueTowardsCompletion\": 0.0, \"failureMessage\": \"\", \"exceptionClass\": \"\", \"trace\": \"\"}}, \"*\")"
      ],
      "text/plain": [
       "<IPython.core.display.Javascript object>"
      ]
     },
     "metadata": {},
     "output_type": "display_data"
    },
    {
     "data": {
      "text/markdown": [
       "<span style=\"color:#ccaa33\">Check:</span> When you've updated the starter code, `check()` will tell you whether your code is correct. You need to update the code that creates variable `ingredients`"
      ],
      "text/plain": [
       "Check: When you've updated the starter code, `check()` will tell you whether your code is correct. You need to update the code that creates variable `ingredients`"
      ]
     },
     "metadata": {},
     "output_type": "display_data"
    },
    {
     "data": {
      "text/markdown": [],
      "text/plain": [
       "<learntools.core.constants.PlaceholderValue at 0x7a349e2a0250>"
      ]
     },
     "execution_count": 6,
     "metadata": {},
     "output_type": "execute_result"
    }
   ],
   "source": [
    "ingredients = ____\n",
    "\n",
    "# Check your answer\n",
    "q3.check()\n",
    "ingredients"
   ]
  },
  {
   "cell_type": "code",
   "execution_count": 7,
   "id": "243bc2e9",
   "metadata": {
    "execution": {
     "iopub.execute_input": "2024-08-21T06:06:57.655036Z",
     "iopub.status.busy": "2024-08-21T06:06:57.654603Z",
     "iopub.status.idle": "2024-08-21T06:06:57.660220Z",
     "shell.execute_reply": "2024-08-21T06:06:57.658562Z"
    },
    "papermill": {
     "duration": 0.019083,
     "end_time": "2024-08-21T06:06:57.662854",
     "exception": false,
     "start_time": "2024-08-21T06:06:57.643771",
     "status": "completed"
    },
    "tags": []
   },
   "outputs": [],
   "source": [
    "#q3.hint()\n",
    "#q3.solution()"
   ]
  },
  {
   "cell_type": "markdown",
   "id": "d8f2421d",
   "metadata": {
    "papermill": {
     "duration": 0.008535,
     "end_time": "2024-08-21T06:06:57.681293",
     "exception": false,
     "start_time": "2024-08-21T06:06:57.672758",
     "status": "completed"
    },
    "tags": []
   },
   "source": [
    "## 4.\n",
    "\n",
    "Read the following csv dataset of wine reviews into a DataFrame called `reviews`:\n",
    "\n",
    "![](https://storage.googleapis.com/kaggle-media/learn/images/74RCZtU.png)\n",
    "\n",
    "The filepath to the csv file is `../input/wine-reviews/winemag-data_first150k.csv`. The first few lines look like:\n",
    "\n",
    "```\n",
    ",country,description,designation,points,price,province,region_1,region_2,variety,winery\n",
    "0,US,\"This tremendous 100% varietal wine[...]\",Martha's Vineyard,96,235.0,California,Napa Valley,Napa,Cabernet Sauvignon,Heitz\n",
    "1,Spain,\"Ripe aromas of fig, blackberry and[...]\",Carodorum Selección Especial Reserva,96,110.0,Northern Spain,Toro,,Tinta de Toro,Bodega Carmen Rodríguez\n",
    "```"
   ]
  },
  {
   "cell_type": "code",
   "execution_count": 8,
   "id": "776782f3",
   "metadata": {
    "execution": {
     "iopub.execute_input": "2024-08-21T06:06:57.700920Z",
     "iopub.status.busy": "2024-08-21T06:06:57.700536Z",
     "iopub.status.idle": "2024-08-21T06:06:57.712961Z",
     "shell.execute_reply": "2024-08-21T06:06:57.711325Z"
    },
    "papermill": {
     "duration": 0.025404,
     "end_time": "2024-08-21T06:06:57.715524",
     "exception": false,
     "start_time": "2024-08-21T06:06:57.690120",
     "status": "completed"
    },
    "tags": []
   },
   "outputs": [
    {
     "data": {
      "application/javascript": [
       "parent.postMessage({\"jupyterEvent\": \"custom.exercise_interaction\", \"data\": {\"outcomeType\": 4, \"interactionType\": 1, \"questionType\": 1, \"questionId\": \"4_ReadWineCsv\", \"learnToolsVersion\": \"0.3.4\", \"valueTowardsCompletion\": 0.0, \"failureMessage\": \"\", \"exceptionClass\": \"\", \"trace\": \"\"}}, \"*\")"
      ],
      "text/plain": [
       "<IPython.core.display.Javascript object>"
      ]
     },
     "metadata": {},
     "output_type": "display_data"
    },
    {
     "data": {
      "text/markdown": [
       "<span style=\"color:#ccaa33\">Check:</span> When you've updated the starter code, `check()` will tell you whether your code is correct. You need to update the code that creates variable `reviews`"
      ],
      "text/plain": [
       "Check: When you've updated the starter code, `check()` will tell you whether your code is correct. You need to update the code that creates variable `reviews`"
      ]
     },
     "metadata": {},
     "output_type": "display_data"
    },
    {
     "data": {
      "text/markdown": [],
      "text/plain": [
       "<learntools.core.constants.PlaceholderValue at 0x7a349e2a0250>"
      ]
     },
     "execution_count": 8,
     "metadata": {},
     "output_type": "execute_result"
    }
   ],
   "source": [
    "reviews = ____\n",
    "\n",
    "# Check your answer\n",
    "q4.check()\n",
    "reviews"
   ]
  },
  {
   "cell_type": "code",
   "execution_count": 9,
   "id": "8f84c4c9",
   "metadata": {
    "execution": {
     "iopub.execute_input": "2024-08-21T06:06:57.736886Z",
     "iopub.status.busy": "2024-08-21T06:06:57.736483Z",
     "iopub.status.idle": "2024-08-21T06:06:57.742578Z",
     "shell.execute_reply": "2024-08-21T06:06:57.741309Z"
    },
    "papermill": {
     "duration": 0.020493,
     "end_time": "2024-08-21T06:06:57.745661",
     "exception": false,
     "start_time": "2024-08-21T06:06:57.725168",
     "status": "completed"
    },
    "tags": []
   },
   "outputs": [],
   "source": [
    "#q4.hint()\n",
    "#q4.solution()"
   ]
  },
  {
   "cell_type": "markdown",
   "id": "af2b27d4",
   "metadata": {
    "papermill": {
     "duration": 0.009459,
     "end_time": "2024-08-21T06:06:57.765028",
     "exception": false,
     "start_time": "2024-08-21T06:06:57.755569",
     "status": "completed"
    },
    "tags": []
   },
   "source": [
    "## 5.\n",
    "\n",
    "Run the cell below to create and display a DataFrame called `animals`:"
   ]
  },
  {
   "cell_type": "code",
   "execution_count": 10,
   "id": "6567c08f",
   "metadata": {
    "execution": {
     "iopub.execute_input": "2024-08-21T06:06:57.788169Z",
     "iopub.status.busy": "2024-08-21T06:06:57.787604Z",
     "iopub.status.idle": "2024-08-21T06:06:57.800195Z",
     "shell.execute_reply": "2024-08-21T06:06:57.799015Z"
    },
    "papermill": {
     "duration": 0.028035,
     "end_time": "2024-08-21T06:06:57.803049",
     "exception": false,
     "start_time": "2024-08-21T06:06:57.775014",
     "status": "completed"
    },
    "tags": []
   },
   "outputs": [
    {
     "data": {
      "text/html": [
       "<div>\n",
       "<style scoped>\n",
       "    .dataframe tbody tr th:only-of-type {\n",
       "        vertical-align: middle;\n",
       "    }\n",
       "\n",
       "    .dataframe tbody tr th {\n",
       "        vertical-align: top;\n",
       "    }\n",
       "\n",
       "    .dataframe thead th {\n",
       "        text-align: right;\n",
       "    }\n",
       "</style>\n",
       "<table border=\"1\" class=\"dataframe\">\n",
       "  <thead>\n",
       "    <tr style=\"text-align: right;\">\n",
       "      <th></th>\n",
       "      <th>Cows</th>\n",
       "      <th>Goats</th>\n",
       "    </tr>\n",
       "  </thead>\n",
       "  <tbody>\n",
       "    <tr>\n",
       "      <th>Year 1</th>\n",
       "      <td>12</td>\n",
       "      <td>22</td>\n",
       "    </tr>\n",
       "    <tr>\n",
       "      <th>Year 2</th>\n",
       "      <td>20</td>\n",
       "      <td>19</td>\n",
       "    </tr>\n",
       "  </tbody>\n",
       "</table>\n",
       "</div>"
      ],
      "text/plain": [
       "        Cows  Goats\n",
       "Year 1    12     22\n",
       "Year 2    20     19"
      ]
     },
     "execution_count": 10,
     "metadata": {},
     "output_type": "execute_result"
    }
   ],
   "source": [
    "animals = pd.DataFrame({'Cows': [12, 20], 'Goats': [22, 19]}, index=['Year 1', 'Year 2'])\n",
    "animals"
   ]
  },
  {
   "cell_type": "markdown",
   "id": "95634a54",
   "metadata": {
    "papermill": {
     "duration": 0.010048,
     "end_time": "2024-08-21T06:06:57.823418",
     "exception": false,
     "start_time": "2024-08-21T06:06:57.813370",
     "status": "completed"
    },
    "tags": []
   },
   "source": [
    "In the cell below, write code to save this DataFrame to disk as a csv file with the name `cows_and_goats.csv`."
   ]
  },
  {
   "cell_type": "code",
   "execution_count": 11,
   "id": "a172638b",
   "metadata": {
    "execution": {
     "iopub.execute_input": "2024-08-21T06:06:57.845437Z",
     "iopub.status.busy": "2024-08-21T06:06:57.844731Z",
     "iopub.status.idle": "2024-08-21T06:06:57.854403Z",
     "shell.execute_reply": "2024-08-21T06:06:57.853231Z"
    },
    "papermill": {
     "duration": 0.023859,
     "end_time": "2024-08-21T06:06:57.857330",
     "exception": false,
     "start_time": "2024-08-21T06:06:57.833471",
     "status": "completed"
    },
    "tags": []
   },
   "outputs": [
    {
     "data": {
      "application/javascript": [
       "parent.postMessage({\"jupyterEvent\": \"custom.exercise_interaction\", \"data\": {\"outcomeType\": 2, \"failureMessage\": \"Expected file to exist with name `cows_and_goats.csv`\", \"interactionType\": 1, \"questionType\": 2, \"questionId\": \"5_SaveAnimalsCsv\", \"learnToolsVersion\": \"0.3.4\", \"valueTowardsCompletion\": 0.0, \"exceptionClass\": \"\", \"trace\": \"\"}}, \"*\")"
      ],
      "text/plain": [
       "<IPython.core.display.Javascript object>"
      ]
     },
     "metadata": {},
     "output_type": "display_data"
    },
    {
     "data": {
      "text/markdown": [
       "<span style=\"color:#cc3333\">Incorrect:</span> Expected file to exist with name `cows_and_goats.csv`"
      ],
      "text/plain": [
       "Incorrect: Expected file to exist with name `cows_and_goats.csv`"
      ]
     },
     "metadata": {},
     "output_type": "display_data"
    }
   ],
   "source": [
    "# Your code goes here\n",
    "\n",
    "# Check your answer\n",
    "q5.check()"
   ]
  },
  {
   "cell_type": "code",
   "execution_count": 12,
   "id": "f7f8c624",
   "metadata": {
    "execution": {
     "iopub.execute_input": "2024-08-21T06:06:57.879794Z",
     "iopub.status.busy": "2024-08-21T06:06:57.879383Z",
     "iopub.status.idle": "2024-08-21T06:06:57.884431Z",
     "shell.execute_reply": "2024-08-21T06:06:57.883036Z"
    },
    "papermill": {
     "duration": 0.019294,
     "end_time": "2024-08-21T06:06:57.886939",
     "exception": false,
     "start_time": "2024-08-21T06:06:57.867645",
     "status": "completed"
    },
    "tags": []
   },
   "outputs": [],
   "source": [
    "#q5.hint()\n",
    "#q5.solution()"
   ]
  },
  {
   "cell_type": "markdown",
   "id": "cc3e0bb2",
   "metadata": {
    "papermill": {
     "duration": 0.01089,
     "end_time": "2024-08-21T06:06:57.908833",
     "exception": false,
     "start_time": "2024-08-21T06:06:57.897943",
     "status": "completed"
    },
    "tags": []
   },
   "source": [
    "# Keep going\n",
    "\n",
    "Move on to learn about **[indexing, selecting and assigning](https://www.kaggle.com/residentmario/indexing-selecting-assigning)**."
   ]
  },
  {
   "cell_type": "markdown",
   "id": "a45d14fe",
   "metadata": {
    "papermill": {
     "duration": 0.010083,
     "end_time": "2024-08-21T06:06:57.929273",
     "exception": false,
     "start_time": "2024-08-21T06:06:57.919190",
     "status": "completed"
    },
    "tags": []
   },
   "source": [
    "---\n",
    "\n",
    "\n",
    "\n",
    "\n",
    "*Have questions or comments? Visit the [course discussion forum](https://www.kaggle.com/learn/pandas/discussion) to chat with other learners.*"
   ]
  }
 ],
 "metadata": {
  "kaggle": {
   "accelerator": "none",
   "dataSources": [
    {
     "datasetId": 655,
     "sourceId": 1252,
     "sourceType": "datasetVersion"
    },
    {
     "datasetId": 2321,
     "sourceId": 3919,
     "sourceType": "datasetVersion"
    },
    {
     "datasetId": 2894,
     "sourceId": 4877,
     "sourceType": "datasetVersion"
    },
    {
     "datasetId": 3491,
     "sourceId": 5624,
     "sourceType": "datasetVersion"
    },
    {
     "datasetId": 1442,
     "sourceId": 8172,
     "sourceType": "datasetVersion"
    },
    {
     "datasetId": 9366,
     "sourceId": 13206,
     "sourceType": "datasetVersion"
    },
    {
     "datasetId": 179555,
     "sourceId": 403916,
     "sourceType": "datasetVersion"
    },
    {
     "datasetId": 4549,
     "sourceId": 466349,
     "sourceType": "datasetVersion"
    },
    {
     "datasetId": 2478,
     "sourceId": 1151655,
     "sourceType": "datasetVersion"
    },
    {
     "datasetId": 10128,
     "sourceId": 5438389,
     "sourceType": "datasetVersion"
    }
   ],
   "isGpuEnabled": false,
   "isInternetEnabled": false,
   "language": "python",
   "sourceType": "notebook"
  },
  "kernelspec": {
   "display_name": "Python 3",
   "language": "python",
   "name": "python3"
  },
  "language_info": {
   "codemirror_mode": {
    "name": "ipython",
    "version": 3
   },
   "file_extension": ".py",
   "mimetype": "text/x-python",
   "name": "python",
   "nbconvert_exporter": "python",
   "pygments_lexer": "ipython3",
   "version": "3.10.13"
  },
  "papermill": {
   "default_parameters": {},
   "duration": 6.875277,
   "end_time": "2024-08-21T06:06:58.462587",
   "environment_variables": {},
   "exception": null,
   "input_path": "__notebook__.ipynb",
   "output_path": "__notebook__.ipynb",
   "parameters": {},
   "start_time": "2024-08-21T06:06:51.587310",
   "version": "2.5.0"
  }
 },
 "nbformat": 4,
 "nbformat_minor": 5
}
