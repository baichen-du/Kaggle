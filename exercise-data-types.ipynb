{
 "cells": [
  {
   "cell_type": "markdown",
   "id": "66667da5",
   "metadata": {
    "papermill": {
     "duration": 0.008889,
     "end_time": "2024-08-20T04:55:03.013045",
     "exception": false,
     "start_time": "2024-08-20T04:55:03.004156",
     "status": "completed"
    },
    "tags": []
   },
   "source": [
    "**This notebook is an exercise in the [Intro to Programming](https://www.kaggle.com/learn/intro-to-programming) course.  You can reference the tutorial at [this link](https://www.kaggle.com/alexisbcook/data-types).**\n",
    "\n",
    "---\n"
   ]
  },
  {
   "cell_type": "markdown",
   "id": "04908516",
   "metadata": {
    "papermill": {
     "duration": 0.008249,
     "end_time": "2024-08-20T04:55:03.029894",
     "exception": false,
     "start_time": "2024-08-20T04:55:03.021645",
     "status": "completed"
    },
    "tags": []
   },
   "source": [
    "In the tutorial, you learned about four different data types: floats, integers, strings, and booleans.  In this exercise, you'll experiment with them.\n",
    "\n",
    "# Set up the notebook\n",
    "\n",
    "Run the next code cell without changes to set up the notebook."
   ]
  },
  {
   "cell_type": "code",
   "execution_count": 1,
   "id": "76e7c902",
   "metadata": {
    "execution": {
     "iopub.execute_input": "2024-08-20T04:55:03.049956Z",
     "iopub.status.busy": "2024-08-20T04:55:03.048952Z",
     "iopub.status.idle": "2024-08-20T04:55:04.097185Z",
     "shell.execute_reply": "2024-08-20T04:55:04.095813Z"
    },
    "papermill": {
     "duration": 1.060772,
     "end_time": "2024-08-20T04:55:04.099717",
     "exception": false,
     "start_time": "2024-08-20T04:55:03.038945",
     "status": "completed"
    },
    "tags": []
   },
   "outputs": [
    {
     "name": "stdout",
     "output_type": "stream",
     "text": [
      "Setup complete.\n"
     ]
    }
   ],
   "source": [
    "# Set up the exercise\n",
    "from learntools.core import binder\n",
    "binder.bind(globals())\n",
    "from learntools.intro_to_programming.ex3 import *\n",
    "print('Setup complete.')"
   ]
  },
  {
   "cell_type": "markdown",
   "id": "2f43745c",
   "metadata": {
    "papermill": {
     "duration": 0.008274,
     "end_time": "2024-08-20T04:55:04.116996",
     "exception": false,
     "start_time": "2024-08-20T04:55:04.108722",
     "status": "completed"
    },
    "tags": []
   },
   "source": [
    "# Question 1\n",
    "\n",
    "You have seen how to convert a float to an integer with the `int` function.  Try this out yourself by running the code cell below."
   ]
  },
  {
   "cell_type": "code",
   "execution_count": 2,
   "id": "b0f69004",
   "metadata": {
    "execution": {
     "iopub.execute_input": "2024-08-20T04:55:04.136251Z",
     "iopub.status.busy": "2024-08-20T04:55:04.135702Z",
     "iopub.status.idle": "2024-08-20T04:55:04.142600Z",
     "shell.execute_reply": "2024-08-20T04:55:04.141455Z"
    },
    "papermill": {
     "duration": 0.019536,
     "end_time": "2024-08-20T04:55:04.145182",
     "exception": false,
     "start_time": "2024-08-20T04:55:04.125646",
     "status": "completed"
    },
    "tags": []
   },
   "outputs": [
    {
     "name": "stdout",
     "output_type": "stream",
     "text": [
      "1.0\n",
      "<class 'float'>\n",
      "1\n",
      "<class 'int'>\n"
     ]
    }
   ],
   "source": [
    "# Define a float\n",
    "y = 1.\n",
    "print(y)\n",
    "print(type(y))\n",
    "\n",
    "# Convert float to integer with the int function\n",
    "z = int(y)\n",
    "print(z)\n",
    "print(type(z))"
   ]
  },
  {
   "cell_type": "markdown",
   "id": "03efef4c",
   "metadata": {
    "papermill": {
     "duration": 0.008444,
     "end_time": "2024-08-20T04:55:04.162366",
     "exception": false,
     "start_time": "2024-08-20T04:55:04.153922",
     "status": "completed"
    },
    "tags": []
   },
   "source": [
    "In this case, the float you are using has no numbers after the decimal.  \n",
    "- But what happens when you try to convert a float with a fractional part to an integer?  \n",
    "- How does the outcome of the `int` function change for positive and negative numbers?\n",
    "\n",
    "Use the next code cell to investigate and answer these questions.  Feel free to add or remove any lines of code -- it is your workspace!"
   ]
  },
  {
   "cell_type": "code",
   "execution_count": 3,
   "id": "07abde92",
   "metadata": {
    "execution": {
     "iopub.execute_input": "2024-08-20T04:55:04.182788Z",
     "iopub.status.busy": "2024-08-20T04:55:04.181745Z",
     "iopub.status.idle": "2024-08-20T04:55:04.188217Z",
     "shell.execute_reply": "2024-08-20T04:55:04.187102Z"
    },
    "papermill": {
     "duration": 0.019492,
     "end_time": "2024-08-20T04:55:04.190819",
     "exception": false,
     "start_time": "2024-08-20T04:55:04.171327",
     "status": "completed"
    },
    "tags": []
   },
   "outputs": [
    {
     "name": "stdout",
     "output_type": "stream",
     "text": [
      "1\n",
      "1\n",
      "-3\n",
      "-2\n"
     ]
    }
   ],
   "source": [
    "# Uncomment and run this code to get started!\n",
    "print(int(1.2321))\n",
    "print(int(1.747))\n",
    "print(int(-3.94535))\n",
    "print(int(-2.19774))"
   ]
  },
  {
   "cell_type": "markdown",
   "id": "00d16314",
   "metadata": {
    "papermill": {
     "duration": 0.008543,
     "end_time": "2024-08-20T04:55:04.208175",
     "exception": false,
     "start_time": "2024-08-20T04:55:04.199632",
     "status": "completed"
    },
    "tags": []
   },
   "source": [
    "Once you have an answer, run the code cell below to see the solution.  Viewing the solution will give you credit for answering the problem."
   ]
  },
  {
   "cell_type": "code",
   "execution_count": 4,
   "id": "24f32e48",
   "metadata": {
    "execution": {
     "iopub.execute_input": "2024-08-20T04:55:04.228255Z",
     "iopub.status.busy": "2024-08-20T04:55:04.227187Z",
     "iopub.status.idle": "2024-08-20T04:55:04.237627Z",
     "shell.execute_reply": "2024-08-20T04:55:04.236492Z"
    },
    "papermill": {
     "duration": 0.023029,
     "end_time": "2024-08-20T04:55:04.240008",
     "exception": false,
     "start_time": "2024-08-20T04:55:04.216979",
     "status": "completed"
    },
    "tags": []
   },
   "outputs": [
    {
     "data": {
      "application/javascript": [
       "parent.postMessage({\"jupyterEvent\": \"custom.exercise_interaction\", \"data\": {\"outcomeType\": 1, \"valueTowardsCompletion\": 0.2, \"interactionType\": 1, \"questionType\": 4, \"questionId\": \"1_FloatToInt\", \"learnToolsVersion\": \"0.3.4\", \"failureMessage\": \"\", \"exceptionClass\": \"\", \"trace\": \"\"}}, \"*\")"
      ],
      "text/plain": [
       "<IPython.core.display.Javascript object>"
      ]
     },
     "metadata": {},
     "output_type": "display_data"
    },
    {
     "data": {
      "text/markdown": [
       "<span style=\"color:#33cc33\">Correct:</span> \n",
       "\n",
       "Negative floats are always rounded UP to the closest integer (for instance, both -1.1 and -1.9 are rounded up to -1). Positive floats are always rounded DOWN to the closest integer (for instance, 2.1 and 2.9 are rounded down to 2)."
      ],
      "text/plain": [
       "Correct: \n",
       "\n",
       "Negative floats are always rounded UP to the closest integer (for instance, both -1.1 and -1.9 are rounded up to -1). Positive floats are always rounded DOWN to the closest integer (for instance, 2.1 and 2.9 are rounded down to 2)."
      ]
     },
     "metadata": {},
     "output_type": "display_data"
    }
   ],
   "source": [
    "# Check your answer (Run this code cell to receive credit!)\n",
    "q1.check()"
   ]
  },
  {
   "cell_type": "markdown",
   "id": "d9938412",
   "metadata": {
    "papermill": {
     "duration": 0.008828,
     "end_time": "2024-08-20T04:55:04.258181",
     "exception": false,
     "start_time": "2024-08-20T04:55:04.249353",
     "status": "completed"
    },
    "tags": []
   },
   "source": [
    "# Question 2\n",
    "\n",
    "In the tutorial, you learned about booleans (which can take a value of `True` or `False`), in addition to integers, floats, and strings.  For this question, your goal is to determine what happens when you multiply a boolean by any of these data types.  Specifically, \n",
    "- What happens when you multiply an integer or float by `True`?  What happens when you multiply them by `False`?  How does the answer change if the numbers are positive or negative?\n",
    "- What happens when you multiply a string by `True`?  By `False`?\n",
    "\n",
    "Use the next code cell for your investigation. "
   ]
  },
  {
   "cell_type": "code",
   "execution_count": 5,
   "id": "5d717238",
   "metadata": {
    "execution": {
     "iopub.execute_input": "2024-08-20T04:55:04.278950Z",
     "iopub.status.busy": "2024-08-20T04:55:04.278107Z",
     "iopub.status.idle": "2024-08-20T04:55:04.284743Z",
     "shell.execute_reply": "2024-08-20T04:55:04.283651Z"
    },
    "papermill": {
     "duration": 0.019927,
     "end_time": "2024-08-20T04:55:04.287547",
     "exception": false,
     "start_time": "2024-08-20T04:55:04.267620",
     "status": "completed"
    },
    "tags": []
   },
   "outputs": [
    {
     "name": "stdout",
     "output_type": "stream",
     "text": [
      "3\n",
      "-3.1\n",
      "<class 'str'>\n",
      "0\n"
     ]
    }
   ],
   "source": [
    "# Uncomment and run this code to get started!\n",
    "print(3 * True)\n",
    "print(-3.1 * True)\n",
    "print(type(\"abc\" * False))\n",
    "print(len(\"abc\" * False))"
   ]
  },
  {
   "cell_type": "markdown",
   "id": "2d7e81a5",
   "metadata": {
    "papermill": {
     "duration": 0.009081,
     "end_time": "2024-08-20T04:55:04.306123",
     "exception": false,
     "start_time": "2024-08-20T04:55:04.297042",
     "status": "completed"
    },
    "tags": []
   },
   "source": [
    "Once you have an answer, run the code cell below to see the solution.  Viewing the solution will give you credit for answering the problem."
   ]
  },
  {
   "cell_type": "code",
   "execution_count": 6,
   "id": "dd92bc3c",
   "metadata": {
    "execution": {
     "iopub.execute_input": "2024-08-20T04:55:04.326996Z",
     "iopub.status.busy": "2024-08-20T04:55:04.325973Z",
     "iopub.status.idle": "2024-08-20T04:55:04.335247Z",
     "shell.execute_reply": "2024-08-20T04:55:04.334100Z"
    },
    "papermill": {
     "duration": 0.022576,
     "end_time": "2024-08-20T04:55:04.337929",
     "exception": false,
     "start_time": "2024-08-20T04:55:04.315353",
     "status": "completed"
    },
    "tags": []
   },
   "outputs": [
    {
     "data": {
      "application/javascript": [
       "parent.postMessage({\"jupyterEvent\": \"custom.exercise_interaction\", \"data\": {\"outcomeType\": 1, \"valueTowardsCompletion\": 0.2, \"interactionType\": 1, \"questionType\": 4, \"questionId\": \"2_MultiplyBooleans\", \"learnToolsVersion\": \"0.3.4\", \"failureMessage\": \"\", \"exceptionClass\": \"\", \"trace\": \"\"}}, \"*\")"
      ],
      "text/plain": [
       "<IPython.core.display.Javascript object>"
      ]
     },
     "metadata": {},
     "output_type": "display_data"
    },
    {
     "data": {
      "text/markdown": [
       "<span style=\"color:#33cc33\">Correct:</span> \n",
       "\n",
       "When you multiple an integer or float by a boolean with value `True`, it just returns that same integer or float (and is equivalent to multiplying by 1).  If you multiply an integer or float by a boolean with value `False`, it always returns 0.  This is true for both positive and negative numbers.  If you multiply a string by a boolean with value `True`, it just returns that same string.  And if you multiply a string by a boolean with value `False`, it returns an empty string (or a string with length zero)."
      ],
      "text/plain": [
       "Correct: \n",
       "\n",
       "When you multiple an integer or float by a boolean with value `True`, it just returns that same integer or float (and is equivalent to multiplying by 1).  If you multiply an integer or float by a boolean with value `False`, it always returns 0.  This is true for both positive and negative numbers.  If you multiply a string by a boolean with value `True`, it just returns that same string.  And if you multiply a string by a boolean with value `False`, it returns an empty string (or a string with length zero)."
      ]
     },
     "metadata": {},
     "output_type": "display_data"
    }
   ],
   "source": [
    "# Check your answer (Run this code cell to receive credit!)\n",
    "q2.check()"
   ]
  },
  {
   "cell_type": "markdown",
   "id": "8027e8f5",
   "metadata": {
    "papermill": {
     "duration": 0.0092,
     "end_time": "2024-08-20T04:55:04.357585",
     "exception": false,
     "start_time": "2024-08-20T04:55:04.348385",
     "status": "completed"
    },
    "tags": []
   },
   "source": [
    "# Question 3\n",
    "\n",
    "In this question, you will build off your work from the previous exercise to write a function that estimates the value of a house.\n",
    "\n",
    "Use the next code cell to create a function `get_expected_cost` that takes as input three variables:\n",
    "- `beds` - number of bedrooms (data type float)\n",
    "- `baths` - number of bathrooms (data type float)\n",
    "- `has_basement` - whether or not the house has a basement (data type boolean)\n",
    "\n",
    "It should return the expected cost of a house with those characteristics. Assume that:\n",
    "- the expected cost for a house with 0 bedrooms and 0 bathrooms, and no basement is 80000, \n",
    "- each bedroom adds 30000 to the expected cost,\n",
    "- each bathroom adds 10000 to the expected cost, and\n",
    "- a basement adds 40000 to the expected cost.\n",
    "\n",
    "For instance,\n",
    "- a house with 1 bedroom, 1 bathroom, and no basement has an expected cost of 80000 + 30000 + 10000 = 120000.  This value will be calculated with `get_expected_cost(1, 1, False)`.\n",
    "- a house with 2 bedrooms, 1 bathroom, and a basement has an expected cost of 80000 + 2*30000 + 10000 + 40000 = 190000.  This value will be calculated with `get_expected_cost(2, 1, True)`.\n",
    "\n",
    "Remember you can always get a hint by uncommenting `q3.hint()` in the code cell following the next!"
   ]
  },
  {
   "cell_type": "code",
   "execution_count": 7,
   "id": "6d35a86a",
   "metadata": {
    "execution": {
     "iopub.execute_input": "2024-08-20T04:55:04.379250Z",
     "iopub.status.busy": "2024-08-20T04:55:04.378298Z",
     "iopub.status.idle": "2024-08-20T04:55:04.388792Z",
     "shell.execute_reply": "2024-08-20T04:55:04.387703Z"
    },
    "papermill": {
     "duration": 0.023798,
     "end_time": "2024-08-20T04:55:04.391151",
     "exception": false,
     "start_time": "2024-08-20T04:55:04.367353",
     "status": "completed"
    },
    "tags": []
   },
   "outputs": [
    {
     "data": {
      "application/javascript": [
       "parent.postMessage({\"jupyterEvent\": \"custom.exercise_interaction\", \"data\": {\"outcomeType\": 1, \"valueTowardsCompletion\": 0.2, \"interactionType\": 1, \"questionType\": 2, \"questionId\": \"3_EstimateHouseValueBool\", \"learnToolsVersion\": \"0.3.4\", \"failureMessage\": \"\", \"exceptionClass\": \"\", \"trace\": \"\"}}, \"*\")"
      ],
      "text/plain": [
       "<IPython.core.display.Javascript object>"
      ]
     },
     "metadata": {},
     "output_type": "display_data"
    },
    {
     "data": {
      "text/markdown": [
       "<span style=\"color:#33cc33\">Correct</span>"
      ],
      "text/plain": [
       "Correct"
      ]
     },
     "metadata": {},
     "output_type": "display_data"
    }
   ],
   "source": [
    "# TODO: Complete the function\n",
    "def get_expected_cost(beds, baths, has_basement):\n",
    "    value = 80000 + 30000*beds + 10000*baths + 40000*has_basement\n",
    "    return value\n",
    "\n",
    "# Check your answer \n",
    "q3.check()"
   ]
  },
  {
   "cell_type": "code",
   "execution_count": 8,
   "id": "1aeeba8a",
   "metadata": {
    "execution": {
     "iopub.execute_input": "2024-08-20T04:55:04.413597Z",
     "iopub.status.busy": "2024-08-20T04:55:04.412394Z",
     "iopub.status.idle": "2024-08-20T04:55:04.417594Z",
     "shell.execute_reply": "2024-08-20T04:55:04.416515Z"
    },
    "papermill": {
     "duration": 0.01891,
     "end_time": "2024-08-20T04:55:04.420116",
     "exception": false,
     "start_time": "2024-08-20T04:55:04.401206",
     "status": "completed"
    },
    "tags": []
   },
   "outputs": [],
   "source": [
    "# Uncomment to see a hint\n",
    "#q3.hint()\n",
    "\n",
    "# Uncomment to view the solution\n",
    "#q3.solution()"
   ]
  },
  {
   "cell_type": "markdown",
   "id": "93c608af",
   "metadata": {
    "papermill": {
     "duration": 0.009733,
     "end_time": "2024-08-20T04:55:04.439895",
     "exception": false,
     "start_time": "2024-08-20T04:55:04.430162",
     "status": "completed"
    },
    "tags": []
   },
   "source": [
    "# Question 4\n",
    "\n",
    "We'll continue our study of boolean arithmetic.  For this question, your task is to provide a description of what happpens when you add booleans. \n",
    "\n",
    "Use the next code cell for your investigation.  Feel free to add or remove any lines of code - use it as your workspace!"
   ]
  },
  {
   "cell_type": "code",
   "execution_count": 9,
   "id": "4b7dd177",
   "metadata": {
    "execution": {
     "iopub.execute_input": "2024-08-20T04:55:04.462925Z",
     "iopub.status.busy": "2024-08-20T04:55:04.461547Z",
     "iopub.status.idle": "2024-08-20T04:55:04.469200Z",
     "shell.execute_reply": "2024-08-20T04:55:04.467882Z"
    },
    "papermill": {
     "duration": 0.021772,
     "end_time": "2024-08-20T04:55:04.471907",
     "exception": false,
     "start_time": "2024-08-20T04:55:04.450135",
     "status": "completed"
    },
    "tags": []
   },
   "outputs": [
    {
     "name": "stdout",
     "output_type": "stream",
     "text": [
      "0\n",
      "1\n",
      "1\n",
      "2\n",
      "3\n"
     ]
    }
   ],
   "source": [
    "print(False + False)\n",
    "print(True + False)\n",
    "print(False + True)\n",
    "print(True + True)\n",
    "print(False + True + True + True)"
   ]
  },
  {
   "cell_type": "markdown",
   "id": "66ffe232",
   "metadata": {
    "papermill": {
     "duration": 0.009687,
     "end_time": "2024-08-20T04:55:04.491792",
     "exception": false,
     "start_time": "2024-08-20T04:55:04.482105",
     "status": "completed"
    },
    "tags": []
   },
   "source": [
    "Once you have an answer, run the code cell below to see the solution.  Viewing the solution will give you credit for answering the problem."
   ]
  },
  {
   "cell_type": "code",
   "execution_count": 10,
   "id": "9f9b4df5",
   "metadata": {
    "execution": {
     "iopub.execute_input": "2024-08-20T04:55:04.514156Z",
     "iopub.status.busy": "2024-08-20T04:55:04.513720Z",
     "iopub.status.idle": "2024-08-20T04:55:04.523403Z",
     "shell.execute_reply": "2024-08-20T04:55:04.522295Z"
    },
    "papermill": {
     "duration": 0.023802,
     "end_time": "2024-08-20T04:55:04.525722",
     "exception": false,
     "start_time": "2024-08-20T04:55:04.501920",
     "status": "completed"
    },
    "tags": []
   },
   "outputs": [
    {
     "data": {
      "application/javascript": [
       "parent.postMessage({\"jupyterEvent\": \"custom.exercise_interaction\", \"data\": {\"outcomeType\": 1, \"valueTowardsCompletion\": 0.2, \"interactionType\": 1, \"questionType\": 4, \"questionId\": \"4_AddingBooleans\", \"learnToolsVersion\": \"0.3.4\", \"failureMessage\": \"\", \"exceptionClass\": \"\", \"trace\": \"\"}}, \"*\")"
      ],
      "text/plain": [
       "<IPython.core.display.Javascript object>"
      ]
     },
     "metadata": {},
     "output_type": "display_data"
    },
    {
     "data": {
      "text/markdown": [
       "<span style=\"color:#33cc33\">Correct:</span> \n",
       "\n",
       "When you add booleans, adding `False` is equivalent to adding 0, and adding `True` is equivalent to adding 1."
      ],
      "text/plain": [
       "Correct: \n",
       "\n",
       "When you add booleans, adding `False` is equivalent to adding 0, and adding `True` is equivalent to adding 1."
      ]
     },
     "metadata": {},
     "output_type": "display_data"
    }
   ],
   "source": [
    "# Check your answer (Run this code cell to receive credit!)\n",
    "q4.check()"
   ]
  },
  {
   "cell_type": "markdown",
   "id": "f5b4256f",
   "metadata": {
    "papermill": {
     "duration": 0.01027,
     "end_time": "2024-08-20T04:55:04.546375",
     "exception": false,
     "start_time": "2024-08-20T04:55:04.536105",
     "status": "completed"
    },
    "tags": []
   },
   "source": [
    "# 🌶️ Question 5\n",
    "\n",
    "You own an online shop where you sell rings with custom engravings.  You offer both gold plated and solid gold rings.\n",
    "- Gold plated rings have a base cost of \\\\$50, and you charge \\\\$7 per engraved unit.  \n",
    "- Solid gold rings have a base cost of \\\\$100, and you charge \\\\$10 per engraved unit.\n",
    "- Spaces and punctuation are counted as engraved units.\n",
    "\n",
    "Write a function `cost_of_project()` that takes two arguments:\n",
    "- `engraving` - a Python string with the text of the engraving\n",
    "- `solid_gold` - a Boolean that indicates whether the ring is solid gold\n",
    "\n",
    "It should return the cost of the project.  This question should be fairly challenging, and you may need a hint."
   ]
  },
  {
   "cell_type": "code",
   "execution_count": 11,
   "id": "104da2b1",
   "metadata": {
    "execution": {
     "iopub.execute_input": "2024-08-20T04:55:04.569048Z",
     "iopub.status.busy": "2024-08-20T04:55:04.568624Z",
     "iopub.status.idle": "2024-08-20T04:55:04.579273Z",
     "shell.execute_reply": "2024-08-20T04:55:04.578187Z"
    },
    "papermill": {
     "duration": 0.024963,
     "end_time": "2024-08-20T04:55:04.581768",
     "exception": false,
     "start_time": "2024-08-20T04:55:04.556805",
     "status": "completed"
    },
    "tags": []
   },
   "outputs": [
    {
     "data": {
      "application/javascript": [
       "parent.postMessage({\"jupyterEvent\": \"custom.exercise_interaction\", \"data\": {\"outcomeType\": 1, \"valueTowardsCompletion\": 0.2, \"interactionType\": 1, \"questionType\": 2, \"questionId\": \"5_CustomEngravings\", \"learnToolsVersion\": \"0.3.4\", \"failureMessage\": \"\", \"exceptionClass\": \"\", \"trace\": \"\"}}, \"*\")"
      ],
      "text/plain": [
       "<IPython.core.display.Javascript object>"
      ]
     },
     "metadata": {},
     "output_type": "display_data"
    },
    {
     "data": {
      "text/markdown": [
       "<span style=\"color:#33cc33\">Correct</span>"
      ],
      "text/plain": [
       "Correct"
      ]
     },
     "metadata": {},
     "output_type": "display_data"
    }
   ],
   "source": [
    "def cost_of_project(engraving, solid_gold):\n",
    "    cost = (7*int(len(engraving))+50) + solid_gold*(3*int(len(engraving))+50)\n",
    "    return cost\n",
    "\n",
    "# Check your answer\n",
    "q5.check()"
   ]
  },
  {
   "cell_type": "code",
   "execution_count": 12,
   "id": "a93a4e51",
   "metadata": {
    "execution": {
     "iopub.execute_input": "2024-08-20T04:55:04.605228Z",
     "iopub.status.busy": "2024-08-20T04:55:04.604823Z",
     "iopub.status.idle": "2024-08-20T04:55:04.617678Z",
     "shell.execute_reply": "2024-08-20T04:55:04.616649Z"
    },
    "papermill": {
     "duration": 0.027364,
     "end_time": "2024-08-20T04:55:04.620090",
     "exception": false,
     "start_time": "2024-08-20T04:55:04.592726",
     "status": "completed"
    },
    "tags": []
   },
   "outputs": [
    {
     "data": {
      "application/javascript": [
       "parent.postMessage({\"jupyterEvent\": \"custom.exercise_interaction\", \"data\": {\"interactionType\": 2, \"questionType\": 2, \"questionId\": \"5_CustomEngravings\", \"learnToolsVersion\": \"0.3.4\", \"valueTowardsCompletion\": 0.0, \"failureMessage\": \"\", \"exceptionClass\": \"\", \"trace\": \"\", \"outcomeType\": 4}}, \"*\")"
      ],
      "text/plain": [
       "<IPython.core.display.Javascript object>"
      ]
     },
     "metadata": {},
     "output_type": "display_data"
    },
    {
     "data": {
      "text/markdown": [
       "<span style=\"color:#3366cc\">Hint:</span> There are two options - either the project uses solid gold or does not.  With this in mind, you can structure your solution like this: `cost = solid_gold * ____ + (not solid_gold) * ____`.  You need to figure out how to fill in the blanks. Also, remember that:\n",
       "- If `solid_gold = True`, then `(not solid_gold) = False`, and if `solid_gold = False`, then `(not solid_gold) = True`.\n",
       "- Multiplying an integer by `True` is equivalent to multiplying it by 1, and multiplying an integer by `False` is equivalent to multiplying it by 0."
      ],
      "text/plain": [
       "Hint: There are two options - either the project uses solid gold or does not.  With this in mind, you can structure your solution like this: `cost = solid_gold * ____ + (not solid_gold) * ____`.  You need to figure out how to fill in the blanks. Also, remember that:\n",
       "- If `solid_gold = True`, then `(not solid_gold) = False`, and if `solid_gold = False`, then `(not solid_gold) = True`.\n",
       "- Multiplying an integer by `True` is equivalent to multiplying it by 1, and multiplying an integer by `False` is equivalent to multiplying it by 0."
      ]
     },
     "metadata": {},
     "output_type": "display_data"
    },
    {
     "data": {
      "application/javascript": [
       "parent.postMessage({\"jupyterEvent\": \"custom.exercise_interaction\", \"data\": {\"interactionType\": 3, \"questionType\": 2, \"questionId\": \"5_CustomEngravings\", \"learnToolsVersion\": \"0.3.4\", \"valueTowardsCompletion\": 0.0, \"failureMessage\": \"\", \"exceptionClass\": \"\", \"trace\": \"\", \"outcomeType\": 4}}, \"*\")"
      ],
      "text/plain": [
       "<IPython.core.display.Javascript object>"
      ]
     },
     "metadata": {},
     "output_type": "display_data"
    },
    {
     "data": {
      "text/markdown": [
       "<span style=\"color:#33cc99\">Solution:</span> \n",
       "```python\n",
       "def cost_of_project(engraving, solid_gold):\n",
       "    cost = solid_gold * (100 + 10 * len(engraving)) + (not solid_gold) * (50 + 7 * len(engraving))\n",
       "    return cost\n",
       "\n",
       "```"
      ],
      "text/plain": [
       "Solution: \n",
       "```python\n",
       "def cost_of_project(engraving, solid_gold):\n",
       "    cost = solid_gold * (100 + 10 * len(engraving)) + (not solid_gold) * (50 + 7 * len(engraving))\n",
       "    return cost\n",
       "\n",
       "```"
      ]
     },
     "metadata": {},
     "output_type": "display_data"
    }
   ],
   "source": [
    "# Uncomment to see a hint\n",
    "q5.hint()\n",
    "\n",
    "# Uncomment to view the solution\n",
    "q5.solution()"
   ]
  },
  {
   "cell_type": "markdown",
   "id": "2b3a119d",
   "metadata": {
    "papermill": {
     "duration": 0.011321,
     "end_time": "2024-08-20T04:55:04.642926",
     "exception": false,
     "start_time": "2024-08-20T04:55:04.631605",
     "status": "completed"
    },
    "tags": []
   },
   "source": [
    "Run the next code cell to calculate the cost of engraving `Charlie+Denver` on a solid gold ring."
   ]
  },
  {
   "cell_type": "code",
   "execution_count": 13,
   "id": "98c10a2e",
   "metadata": {
    "execution": {
     "iopub.execute_input": "2024-08-20T04:55:04.668495Z",
     "iopub.status.busy": "2024-08-20T04:55:04.668048Z",
     "iopub.status.idle": "2024-08-20T04:55:04.673925Z",
     "shell.execute_reply": "2024-08-20T04:55:04.672825Z"
    },
    "papermill": {
     "duration": 0.02232,
     "end_time": "2024-08-20T04:55:04.676744",
     "exception": false,
     "start_time": "2024-08-20T04:55:04.654424",
     "status": "completed"
    },
    "tags": []
   },
   "outputs": [
    {
     "name": "stdout",
     "output_type": "stream",
     "text": [
      "240\n"
     ]
    }
   ],
   "source": [
    "project_one = cost_of_project(\"Charlie+Denver\", True)\n",
    "print(project_one)"
   ]
  },
  {
   "cell_type": "markdown",
   "id": "60bcf722",
   "metadata": {
    "papermill": {
     "duration": 0.011335,
     "end_time": "2024-08-20T04:55:04.699808",
     "exception": false,
     "start_time": "2024-08-20T04:55:04.688473",
     "status": "completed"
    },
    "tags": []
   },
   "source": [
    "Use the next code cell to calculate the cost of engraving `08/10/2000` on a gold plated ring."
   ]
  },
  {
   "cell_type": "code",
   "execution_count": 14,
   "id": "523183e5",
   "metadata": {
    "execution": {
     "iopub.execute_input": "2024-08-20T04:55:04.725190Z",
     "iopub.status.busy": "2024-08-20T04:55:04.724779Z",
     "iopub.status.idle": "2024-08-20T04:55:04.730809Z",
     "shell.execute_reply": "2024-08-20T04:55:04.729664Z"
    },
    "papermill": {
     "duration": 0.021645,
     "end_time": "2024-08-20T04:55:04.733210",
     "exception": false,
     "start_time": "2024-08-20T04:55:04.711565",
     "status": "completed"
    },
    "tags": []
   },
   "outputs": [
    {
     "name": "stdout",
     "output_type": "stream",
     "text": [
      "120\n"
     ]
    }
   ],
   "source": [
    "project_two = cost_of_project(\"08/10/2000\", False)\n",
    "print(project_two)"
   ]
  },
  {
   "cell_type": "markdown",
   "id": "bb4828e7",
   "metadata": {
    "papermill": {
     "duration": 0.011445,
     "end_time": "2024-08-20T04:55:04.756354",
     "exception": false,
     "start_time": "2024-08-20T04:55:04.744909",
     "status": "completed"
    },
    "tags": []
   },
   "source": [
    "# Keep going\n",
    "\n",
    "Continue to the next lesson to **[learn about conditions and conditional statements](https://www.kaggle.com/alexisbcook/conditions-and-conditional-statements)**."
   ]
  },
  {
   "cell_type": "markdown",
   "id": "72ad7959",
   "metadata": {
    "papermill": {
     "duration": 0.011201,
     "end_time": "2024-08-20T04:55:04.779352",
     "exception": false,
     "start_time": "2024-08-20T04:55:04.768151",
     "status": "completed"
    },
    "tags": []
   },
   "source": [
    "---\n",
    "\n",
    "\n",
    "\n",
    "\n",
    "*Have questions or comments? Visit the [course discussion forum](https://www.kaggle.com/learn/intro-to-programming/discussion) to chat with other learners.*"
   ]
  }
 ],
 "metadata": {
  "kaggle": {
   "accelerator": "none",
   "dataSources": [],
   "isGpuEnabled": false,
   "isInternetEnabled": false,
   "language": "python",
   "sourceType": "notebook"
  },
  "kernelspec": {
   "display_name": "Python 3",
   "language": "python",
   "name": "python3"
  },
  "language_info": {
   "codemirror_mode": {
    "name": "ipython",
    "version": 3
   },
   "file_extension": ".py",
   "mimetype": "text/x-python",
   "name": "python",
   "nbconvert_exporter": "python",
   "pygments_lexer": "ipython3",
   "version": "3.10.13"
  },
  "papermill": {
   "default_parameters": {},
   "duration": 5.456337,
   "end_time": "2024-08-20T04:55:05.312543",
   "environment_variables": {},
   "exception": null,
   "input_path": "__notebook__.ipynb",
   "output_path": "__notebook__.ipynb",
   "parameters": {},
   "start_time": "2024-08-20T04:54:59.856206",
   "version": "2.3.3"
  }
 },
 "nbformat": 4,
 "nbformat_minor": 5
}
