{
 "cells": [
  {
   "cell_type": "markdown",
   "id": "61c1fa89",
   "metadata": {
    "papermill": {
     "duration": 0.007206,
     "end_time": "2024-08-21T06:08:07.254406",
     "exception": false,
     "start_time": "2024-08-21T06:08:07.247200",
     "status": "completed"
    },
    "tags": []
   },
   "source": [
    "**This notebook is an exercise in the [Pandas](https://www.kaggle.com/learn/pandas) course.  You can reference the tutorial at [this link](https://www.kaggle.com/residentmario/creating-reading-and-writing).**\n",
    "\n",
    "---\n"
   ]
  },
  {
   "cell_type": "markdown",
   "id": "7b57b1fb",
   "metadata": {
    "papermill": {
     "duration": 0.006444,
     "end_time": "2024-08-21T06:08:07.267737",
     "exception": false,
     "start_time": "2024-08-21T06:08:07.261293",
     "status": "completed"
    },
    "tags": []
   },
   "source": [
    "# Introduction\n",
    "\n",
    "The first step in most data analytics projects is reading the data file. In this exercise, you'll create Series and DataFrame objects, both by hand and by reading data files.\n",
    "\n",
    "Run the code cell below to load libraries you will need (including code to check your answers)."
   ]
  },
  {
   "cell_type": "code",
   "execution_count": 1,
   "id": "e3fcd430",
   "metadata": {
    "execution": {
     "iopub.execute_input": "2024-08-21T06:08:07.282924Z",
     "iopub.status.busy": "2024-08-21T06:08:07.282496Z",
     "iopub.status.idle": "2024-08-21T06:08:09.981966Z",
     "shell.execute_reply": "2024-08-21T06:08:09.980613Z"
    },
    "papermill": {
     "duration": 2.710422,
     "end_time": "2024-08-21T06:08:09.984860",
     "exception": false,
     "start_time": "2024-08-21T06:08:07.274438",
     "status": "completed"
    },
    "tags": []
   },
   "outputs": [
    {
     "name": "stdout",
     "output_type": "stream",
     "text": [
      "Setup complete.\n"
     ]
    }
   ],
   "source": [
    "import pandas as pd\n",
    "pd.set_option('display.max_rows', 5)\n",
    "from learntools.core import binder; binder.bind(globals())\n",
    "from learntools.pandas.creating_reading_and_writing import *\n",
    "print(\"Setup complete.\")"
   ]
  },
  {
   "cell_type": "markdown",
   "id": "81e826cb",
   "metadata": {
    "papermill": {
     "duration": 0.006755,
     "end_time": "2024-08-21T06:08:09.998685",
     "exception": false,
     "start_time": "2024-08-21T06:08:09.991930",
     "status": "completed"
    },
    "tags": []
   },
   "source": [
    "# Exercises"
   ]
  },
  {
   "cell_type": "markdown",
   "id": "5ef22f4d",
   "metadata": {
    "papermill": {
     "duration": 0.006565,
     "end_time": "2024-08-21T06:08:10.012207",
     "exception": false,
     "start_time": "2024-08-21T06:08:10.005642",
     "status": "completed"
    },
    "tags": []
   },
   "source": [
    "## 1.\n",
    "\n",
    "In the cell below, create a DataFrame `fruits` that looks like this:\n",
    "\n",
    "![](https://storage.googleapis.com/kaggle-media/learn/images/Ax3pp2A.png)"
   ]
  },
  {
   "cell_type": "code",
   "execution_count": 2,
   "id": "3c4e1071",
   "metadata": {
    "execution": {
     "iopub.execute_input": "2024-08-21T06:08:10.028287Z",
     "iopub.status.busy": "2024-08-21T06:08:10.027869Z",
     "iopub.status.idle": "2024-08-21T06:08:10.048646Z",
     "shell.execute_reply": "2024-08-21T06:08:10.047567Z"
    },
    "papermill": {
     "duration": 0.03169,
     "end_time": "2024-08-21T06:08:10.051133",
     "exception": false,
     "start_time": "2024-08-21T06:08:10.019443",
     "status": "completed"
    },
    "tags": []
   },
   "outputs": [
    {
     "data": {
      "application/javascript": [
       "parent.postMessage({\"jupyterEvent\": \"custom.exercise_interaction\", \"data\": {\"outcomeType\": 1, \"valueTowardsCompletion\": 0.16666666666666666, \"interactionType\": 1, \"questionType\": 1, \"questionId\": \"1_FruitDfCreation\", \"learnToolsVersion\": \"0.3.4\", \"failureMessage\": \"\", \"exceptionClass\": \"\", \"trace\": \"\"}}, \"*\")"
      ],
      "text/plain": [
       "<IPython.core.display.Javascript object>"
      ]
     },
     "metadata": {},
     "output_type": "display_data"
    },
    {
     "data": {
      "text/markdown": [
       "<span style=\"color:#33cc33\">Correct</span>"
      ],
      "text/plain": [
       "Correct"
      ]
     },
     "metadata": {},
     "output_type": "display_data"
    },
    {
     "data": {
      "text/html": [
       "<div>\n",
       "<style scoped>\n",
       "    .dataframe tbody tr th:only-of-type {\n",
       "        vertical-align: middle;\n",
       "    }\n",
       "\n",
       "    .dataframe tbody tr th {\n",
       "        vertical-align: top;\n",
       "    }\n",
       "\n",
       "    .dataframe thead th {\n",
       "        text-align: right;\n",
       "    }\n",
       "</style>\n",
       "<table border=\"1\" class=\"dataframe\">\n",
       "  <thead>\n",
       "    <tr style=\"text-align: right;\">\n",
       "      <th></th>\n",
       "      <th>Apples</th>\n",
       "      <th>Bananas</th>\n",
       "    </tr>\n",
       "  </thead>\n",
       "  <tbody>\n",
       "    <tr>\n",
       "      <th>0</th>\n",
       "      <td>30</td>\n",
       "      <td>21</td>\n",
       "    </tr>\n",
       "  </tbody>\n",
       "</table>\n",
       "</div>"
      ],
      "text/plain": [
       "   Apples  Bananas\n",
       "0      30       21"
      ]
     },
     "execution_count": 2,
     "metadata": {},
     "output_type": "execute_result"
    }
   ],
   "source": [
    "# Your code goes here. Create a dataframe matching the above diagram and assign it to the variable fruits.\n",
    "fruits = pd.DataFrame({'Apples': [30], 'Bananas': [21]})\n",
    "\n",
    "# Check your answer\n",
    "q1.check()\n",
    "fruits"
   ]
  },
  {
   "cell_type": "code",
   "execution_count": 3,
   "id": "055cbe83",
   "metadata": {
    "execution": {
     "iopub.execute_input": "2024-08-21T06:08:10.068461Z",
     "iopub.status.busy": "2024-08-21T06:08:10.068058Z",
     "iopub.status.idle": "2024-08-21T06:08:10.073644Z",
     "shell.execute_reply": "2024-08-21T06:08:10.072446Z"
    },
    "papermill": {
     "duration": 0.017667,
     "end_time": "2024-08-21T06:08:10.076647",
     "exception": false,
     "start_time": "2024-08-21T06:08:10.058980",
     "status": "completed"
    },
    "tags": []
   },
   "outputs": [],
   "source": [
    "#q1.hint()\n",
    "#q1.solution()"
   ]
  },
  {
   "cell_type": "markdown",
   "id": "35dea561",
   "metadata": {
    "papermill": {
     "duration": 0.007297,
     "end_time": "2024-08-21T06:08:10.091947",
     "exception": false,
     "start_time": "2024-08-21T06:08:10.084650",
     "status": "completed"
    },
    "tags": []
   },
   "source": [
    "## 2.\n",
    "\n",
    "Create a dataframe `fruit_sales` that matches the diagram below:\n",
    "\n",
    "![](https://storage.googleapis.com/kaggle-media/learn/images/CHPn7ZF.png)"
   ]
  },
  {
   "cell_type": "code",
   "execution_count": 4,
   "id": "d5ff0b7f",
   "metadata": {
    "execution": {
     "iopub.execute_input": "2024-08-21T06:08:10.108748Z",
     "iopub.status.busy": "2024-08-21T06:08:10.108327Z",
     "iopub.status.idle": "2024-08-21T06:08:10.119854Z",
     "shell.execute_reply": "2024-08-21T06:08:10.118638Z"
    },
    "papermill": {
     "duration": 0.0227,
     "end_time": "2024-08-21T06:08:10.122220",
     "exception": false,
     "start_time": "2024-08-21T06:08:10.099520",
     "status": "completed"
    },
    "tags": []
   },
   "outputs": [
    {
     "data": {
      "application/javascript": [
       "parent.postMessage({\"jupyterEvent\": \"custom.exercise_interaction\", \"data\": {\"outcomeType\": 4, \"interactionType\": 1, \"questionType\": 1, \"questionId\": \"2_FruitSalesDfCreation\", \"learnToolsVersion\": \"0.3.4\", \"valueTowardsCompletion\": 0.0, \"failureMessage\": \"\", \"exceptionClass\": \"\", \"trace\": \"\"}}, \"*\")"
      ],
      "text/plain": [
       "<IPython.core.display.Javascript object>"
      ]
     },
     "metadata": {},
     "output_type": "display_data"
    },
    {
     "data": {
      "text/markdown": [
       "<span style=\"color:#ccaa33\">Check:</span> When you've updated the starter code, `check()` will tell you whether your code is correct. You need to update the code that creates variable `fruit_sales`"
      ],
      "text/plain": [
       "Check: When you've updated the starter code, `check()` will tell you whether your code is correct. You need to update the code that creates variable `fruit_sales`"
      ]
     },
     "metadata": {},
     "output_type": "display_data"
    },
    {
     "data": {
      "text/markdown": [],
      "text/plain": [
       "<learntools.core.constants.PlaceholderValue at 0x7e72211d0250>"
      ]
     },
     "execution_count": 4,
     "metadata": {},
     "output_type": "execute_result"
    }
   ],
   "source": [
    "# Your code goes here. Create a dataframe matching the above diagram and assign it to the variable fruit_sales.\n",
    "fruit_sales = ____\n",
    "\n",
    "# Check your answer\n",
    "q2.check()\n",
    "fruit_sales"
   ]
  },
  {
   "cell_type": "code",
   "execution_count": 5,
   "id": "f0579e56",
   "metadata": {
    "execution": {
     "iopub.execute_input": "2024-08-21T06:08:10.140450Z",
     "iopub.status.busy": "2024-08-21T06:08:10.140017Z",
     "iopub.status.idle": "2024-08-21T06:08:10.144898Z",
     "shell.execute_reply": "2024-08-21T06:08:10.143745Z"
    },
    "papermill": {
     "duration": 0.017308,
     "end_time": "2024-08-21T06:08:10.147542",
     "exception": false,
     "start_time": "2024-08-21T06:08:10.130234",
     "status": "completed"
    },
    "tags": []
   },
   "outputs": [],
   "source": [
    "#q2.hint()\n",
    "#q2.solution()"
   ]
  },
  {
   "cell_type": "markdown",
   "id": "2e289a5f",
   "metadata": {
    "papermill": {
     "duration": 0.007931,
     "end_time": "2024-08-21T06:08:10.164461",
     "exception": false,
     "start_time": "2024-08-21T06:08:10.156530",
     "status": "completed"
    },
    "tags": []
   },
   "source": [
    "## 3.\n",
    "\n",
    "Create a variable `ingredients` with a Series that looks like:\n",
    "\n",
    "```\n",
    "Flour     4 cups\n",
    "Milk       1 cup\n",
    "Eggs     2 large\n",
    "Spam       1 can\n",
    "Name: Dinner, dtype: object\n",
    "```"
   ]
  },
  {
   "cell_type": "code",
   "execution_count": 6,
   "id": "dc137b7d",
   "metadata": {
    "execution": {
     "iopub.execute_input": "2024-08-21T06:08:10.183017Z",
     "iopub.status.busy": "2024-08-21T06:08:10.182612Z",
     "iopub.status.idle": "2024-08-21T06:08:10.194019Z",
     "shell.execute_reply": "2024-08-21T06:08:10.192996Z"
    },
    "papermill": {
     "duration": 0.023451,
     "end_time": "2024-08-21T06:08:10.196359",
     "exception": false,
     "start_time": "2024-08-21T06:08:10.172908",
     "status": "completed"
    },
    "tags": []
   },
   "outputs": [
    {
     "data": {
      "application/javascript": [
       "parent.postMessage({\"jupyterEvent\": \"custom.exercise_interaction\", \"data\": {\"outcomeType\": 4, \"interactionType\": 1, \"questionType\": 2, \"questionId\": \"3_RecipeSeriesCreation\", \"learnToolsVersion\": \"0.3.4\", \"valueTowardsCompletion\": 0.0, \"failureMessage\": \"\", \"exceptionClass\": \"\", \"trace\": \"\"}}, \"*\")"
      ],
      "text/plain": [
       "<IPython.core.display.Javascript object>"
      ]
     },
     "metadata": {},
     "output_type": "display_data"
    },
    {
     "data": {
      "text/markdown": [
       "<span style=\"color:#ccaa33\">Check:</span> When you've updated the starter code, `check()` will tell you whether your code is correct. You need to update the code that creates variable `ingredients`"
      ],
      "text/plain": [
       "Check: When you've updated the starter code, `check()` will tell you whether your code is correct. You need to update the code that creates variable `ingredients`"
      ]
     },
     "metadata": {},
     "output_type": "display_data"
    },
    {
     "data": {
      "text/markdown": [],
      "text/plain": [
       "<learntools.core.constants.PlaceholderValue at 0x7e72211d0250>"
      ]
     },
     "execution_count": 6,
     "metadata": {},
     "output_type": "execute_result"
    }
   ],
   "source": [
    "ingredients = ____\n",
    "\n",
    "# Check your answer\n",
    "q3.check()\n",
    "ingredients"
   ]
  },
  {
   "cell_type": "code",
   "execution_count": 7,
   "id": "cd744707",
   "metadata": {
    "execution": {
     "iopub.execute_input": "2024-08-21T06:08:10.215778Z",
     "iopub.status.busy": "2024-08-21T06:08:10.215320Z",
     "iopub.status.idle": "2024-08-21T06:08:10.220685Z",
     "shell.execute_reply": "2024-08-21T06:08:10.219391Z"
    },
    "papermill": {
     "duration": 0.018248,
     "end_time": "2024-08-21T06:08:10.223350",
     "exception": false,
     "start_time": "2024-08-21T06:08:10.205102",
     "status": "completed"
    },
    "tags": []
   },
   "outputs": [],
   "source": [
    "#q3.hint()\n",
    "#q3.solution()"
   ]
  },
  {
   "cell_type": "markdown",
   "id": "6ff3efaa",
   "metadata": {
    "papermill": {
     "duration": 0.008625,
     "end_time": "2024-08-21T06:08:10.241978",
     "exception": false,
     "start_time": "2024-08-21T06:08:10.233353",
     "status": "completed"
    },
    "tags": []
   },
   "source": [
    "## 4.\n",
    "\n",
    "Read the following csv dataset of wine reviews into a DataFrame called `reviews`:\n",
    "\n",
    "![](https://storage.googleapis.com/kaggle-media/learn/images/74RCZtU.png)\n",
    "\n",
    "The filepath to the csv file is `../input/wine-reviews/winemag-data_first150k.csv`. The first few lines look like:\n",
    "\n",
    "```\n",
    ",country,description,designation,points,price,province,region_1,region_2,variety,winery\n",
    "0,US,\"This tremendous 100% varietal wine[...]\",Martha's Vineyard,96,235.0,California,Napa Valley,Napa,Cabernet Sauvignon,Heitz\n",
    "1,Spain,\"Ripe aromas of fig, blackberry and[...]\",Carodorum Selección Especial Reserva,96,110.0,Northern Spain,Toro,,Tinta de Toro,Bodega Carmen Rodríguez\n",
    "```"
   ]
  },
  {
   "cell_type": "code",
   "execution_count": 8,
   "id": "7192268e",
   "metadata": {
    "execution": {
     "iopub.execute_input": "2024-08-21T06:08:10.262077Z",
     "iopub.status.busy": "2024-08-21T06:08:10.261700Z",
     "iopub.status.idle": "2024-08-21T06:08:10.273905Z",
     "shell.execute_reply": "2024-08-21T06:08:10.272640Z"
    },
    "papermill": {
     "duration": 0.025737,
     "end_time": "2024-08-21T06:08:10.276464",
     "exception": false,
     "start_time": "2024-08-21T06:08:10.250727",
     "status": "completed"
    },
    "tags": []
   },
   "outputs": [
    {
     "data": {
      "application/javascript": [
       "parent.postMessage({\"jupyterEvent\": \"custom.exercise_interaction\", \"data\": {\"outcomeType\": 4, \"interactionType\": 1, \"questionType\": 1, \"questionId\": \"4_ReadWineCsv\", \"learnToolsVersion\": \"0.3.4\", \"valueTowardsCompletion\": 0.0, \"failureMessage\": \"\", \"exceptionClass\": \"\", \"trace\": \"\"}}, \"*\")"
      ],
      "text/plain": [
       "<IPython.core.display.Javascript object>"
      ]
     },
     "metadata": {},
     "output_type": "display_data"
    },
    {
     "data": {
      "text/markdown": [
       "<span style=\"color:#ccaa33\">Check:</span> When you've updated the starter code, `check()` will tell you whether your code is correct. You need to update the code that creates variable `reviews`"
      ],
      "text/plain": [
       "Check: When you've updated the starter code, `check()` will tell you whether your code is correct. You need to update the code that creates variable `reviews`"
      ]
     },
     "metadata": {},
     "output_type": "display_data"
    },
    {
     "data": {
      "text/markdown": [],
      "text/plain": [
       "<learntools.core.constants.PlaceholderValue at 0x7e72211d0250>"
      ]
     },
     "execution_count": 8,
     "metadata": {},
     "output_type": "execute_result"
    }
   ],
   "source": [
    "reviews = ____\n",
    "\n",
    "# Check your answer\n",
    "q4.check()\n",
    "reviews"
   ]
  },
  {
   "cell_type": "code",
   "execution_count": 9,
   "id": "4347db44",
   "metadata": {
    "execution": {
     "iopub.execute_input": "2024-08-21T06:08:10.297166Z",
     "iopub.status.busy": "2024-08-21T06:08:10.296788Z",
     "iopub.status.idle": "2024-08-21T06:08:10.301749Z",
     "shell.execute_reply": "2024-08-21T06:08:10.300608Z"
    },
    "papermill": {
     "duration": 0.01816,
     "end_time": "2024-08-21T06:08:10.304190",
     "exception": false,
     "start_time": "2024-08-21T06:08:10.286030",
     "status": "completed"
    },
    "tags": []
   },
   "outputs": [],
   "source": [
    "#q4.hint()\n",
    "#q4.solution()"
   ]
  },
  {
   "cell_type": "markdown",
   "id": "c9e5c6b8",
   "metadata": {
    "papermill": {
     "duration": 0.009415,
     "end_time": "2024-08-21T06:08:10.323146",
     "exception": false,
     "start_time": "2024-08-21T06:08:10.313731",
     "status": "completed"
    },
    "tags": []
   },
   "source": [
    "## 5.\n",
    "\n",
    "Run the cell below to create and display a DataFrame called `animals`:"
   ]
  },
  {
   "cell_type": "code",
   "execution_count": 10,
   "id": "56dce00b",
   "metadata": {
    "execution": {
     "iopub.execute_input": "2024-08-21T06:08:10.344416Z",
     "iopub.status.busy": "2024-08-21T06:08:10.343514Z",
     "iopub.status.idle": "2024-08-21T06:08:10.355129Z",
     "shell.execute_reply": "2024-08-21T06:08:10.354102Z"
    },
    "papermill": {
     "duration": 0.025127,
     "end_time": "2024-08-21T06:08:10.357867",
     "exception": false,
     "start_time": "2024-08-21T06:08:10.332740",
     "status": "completed"
    },
    "tags": []
   },
   "outputs": [
    {
     "data": {
      "text/html": [
       "<div>\n",
       "<style scoped>\n",
       "    .dataframe tbody tr th:only-of-type {\n",
       "        vertical-align: middle;\n",
       "    }\n",
       "\n",
       "    .dataframe tbody tr th {\n",
       "        vertical-align: top;\n",
       "    }\n",
       "\n",
       "    .dataframe thead th {\n",
       "        text-align: right;\n",
       "    }\n",
       "</style>\n",
       "<table border=\"1\" class=\"dataframe\">\n",
       "  <thead>\n",
       "    <tr style=\"text-align: right;\">\n",
       "      <th></th>\n",
       "      <th>Cows</th>\n",
       "      <th>Goats</th>\n",
       "    </tr>\n",
       "  </thead>\n",
       "  <tbody>\n",
       "    <tr>\n",
       "      <th>Year 1</th>\n",
       "      <td>12</td>\n",
       "      <td>22</td>\n",
       "    </tr>\n",
       "    <tr>\n",
       "      <th>Year 2</th>\n",
       "      <td>20</td>\n",
       "      <td>19</td>\n",
       "    </tr>\n",
       "  </tbody>\n",
       "</table>\n",
       "</div>"
      ],
      "text/plain": [
       "        Cows  Goats\n",
       "Year 1    12     22\n",
       "Year 2    20     19"
      ]
     },
     "execution_count": 10,
     "metadata": {},
     "output_type": "execute_result"
    }
   ],
   "source": [
    "animals = pd.DataFrame({'Cows': [12, 20], 'Goats': [22, 19]}, index=['Year 1', 'Year 2'])\n",
    "animals"
   ]
  },
  {
   "cell_type": "markdown",
   "id": "473e680d",
   "metadata": {
    "papermill": {
     "duration": 0.009415,
     "end_time": "2024-08-21T06:08:10.377119",
     "exception": false,
     "start_time": "2024-08-21T06:08:10.367704",
     "status": "completed"
    },
    "tags": []
   },
   "source": [
    "In the cell below, write code to save this DataFrame to disk as a csv file with the name `cows_and_goats.csv`."
   ]
  },
  {
   "cell_type": "code",
   "execution_count": 11,
   "id": "799026d9",
   "metadata": {
    "execution": {
     "iopub.execute_input": "2024-08-21T06:08:10.399436Z",
     "iopub.status.busy": "2024-08-21T06:08:10.398423Z",
     "iopub.status.idle": "2024-08-21T06:08:10.407438Z",
     "shell.execute_reply": "2024-08-21T06:08:10.406345Z"
    },
    "papermill": {
     "duration": 0.023039,
     "end_time": "2024-08-21T06:08:10.409966",
     "exception": false,
     "start_time": "2024-08-21T06:08:10.386927",
     "status": "completed"
    },
    "tags": []
   },
   "outputs": [
    {
     "data": {
      "application/javascript": [
       "parent.postMessage({\"jupyterEvent\": \"custom.exercise_interaction\", \"data\": {\"outcomeType\": 2, \"failureMessage\": \"Expected file to exist with name `cows_and_goats.csv`\", \"interactionType\": 1, \"questionType\": 2, \"questionId\": \"5_SaveAnimalsCsv\", \"learnToolsVersion\": \"0.3.4\", \"valueTowardsCompletion\": 0.0, \"exceptionClass\": \"\", \"trace\": \"\"}}, \"*\")"
      ],
      "text/plain": [
       "<IPython.core.display.Javascript object>"
      ]
     },
     "metadata": {},
     "output_type": "display_data"
    },
    {
     "data": {
      "text/markdown": [
       "<span style=\"color:#cc3333\">Incorrect:</span> Expected file to exist with name `cows_and_goats.csv`"
      ],
      "text/plain": [
       "Incorrect: Expected file to exist with name `cows_and_goats.csv`"
      ]
     },
     "metadata": {},
     "output_type": "display_data"
    }
   ],
   "source": [
    "# Your code goes here\n",
    "\n",
    "# Check your answer\n",
    "q5.check()"
   ]
  },
  {
   "cell_type": "code",
   "execution_count": 12,
   "id": "86be16f2",
   "metadata": {
    "execution": {
     "iopub.execute_input": "2024-08-21T06:08:10.432259Z",
     "iopub.status.busy": "2024-08-21T06:08:10.431851Z",
     "iopub.status.idle": "2024-08-21T06:08:10.436692Z",
     "shell.execute_reply": "2024-08-21T06:08:10.435569Z"
    },
    "papermill": {
     "duration": 0.019009,
     "end_time": "2024-08-21T06:08:10.439126",
     "exception": false,
     "start_time": "2024-08-21T06:08:10.420117",
     "status": "completed"
    },
    "tags": []
   },
   "outputs": [],
   "source": [
    "#q5.hint()\n",
    "#q5.solution()"
   ]
  },
  {
   "cell_type": "markdown",
   "id": "7f922323",
   "metadata": {
    "papermill": {
     "duration": 0.01139,
     "end_time": "2024-08-21T06:08:10.460980",
     "exception": false,
     "start_time": "2024-08-21T06:08:10.449590",
     "status": "completed"
    },
    "tags": []
   },
   "source": [
    "# Keep going\n",
    "\n",
    "Move on to learn about **[indexing, selecting and assigning](https://www.kaggle.com/residentmario/indexing-selecting-assigning)**."
   ]
  },
  {
   "cell_type": "markdown",
   "id": "c24c568b",
   "metadata": {
    "papermill": {
     "duration": 0.012649,
     "end_time": "2024-08-21T06:08:10.484624",
     "exception": false,
     "start_time": "2024-08-21T06:08:10.471975",
     "status": "completed"
    },
    "tags": []
   },
   "source": [
    "---\n",
    "\n",
    "\n",
    "\n",
    "\n",
    "*Have questions or comments? Visit the [course discussion forum](https://www.kaggle.com/learn/pandas/discussion) to chat with other learners.*"
   ]
  }
 ],
 "metadata": {
  "kaggle": {
   "accelerator": "none",
   "dataSources": [
    {
     "datasetId": 655,
     "sourceId": 1252,
     "sourceType": "datasetVersion"
    },
    {
     "datasetId": 2321,
     "sourceId": 3919,
     "sourceType": "datasetVersion"
    },
    {
     "datasetId": 2894,
     "sourceId": 4877,
     "sourceType": "datasetVersion"
    },
    {
     "datasetId": 3491,
     "sourceId": 5624,
     "sourceType": "datasetVersion"
    },
    {
     "datasetId": 1442,
     "sourceId": 8172,
     "sourceType": "datasetVersion"
    },
    {
     "datasetId": 9366,
     "sourceId": 13206,
     "sourceType": "datasetVersion"
    },
    {
     "datasetId": 179555,
     "sourceId": 403916,
     "sourceType": "datasetVersion"
    },
    {
     "datasetId": 4549,
     "sourceId": 466349,
     "sourceType": "datasetVersion"
    },
    {
     "datasetId": 2478,
     "sourceId": 1151655,
     "sourceType": "datasetVersion"
    },
    {
     "datasetId": 10128,
     "sourceId": 5438389,
     "sourceType": "datasetVersion"
    }
   ],
   "isGpuEnabled": false,
   "isInternetEnabled": false,
   "language": "python",
   "sourceType": "notebook"
  },
  "kernelspec": {
   "display_name": "Python 3",
   "language": "python",
   "name": "python3"
  },
  "language_info": {
   "codemirror_mode": {
    "name": "ipython",
    "version": 3
   },
   "file_extension": ".py",
   "mimetype": "text/x-python",
   "name": "python",
   "nbconvert_exporter": "python",
   "pygments_lexer": "ipython3",
   "version": "3.10.13"
  },
  "papermill": {
   "default_parameters": {},
   "duration": 6.884926,
   "end_time": "2024-08-21T06:08:11.017840",
   "environment_variables": {},
   "exception": null,
   "input_path": "__notebook__.ipynb",
   "output_path": "__notebook__.ipynb",
   "parameters": {},
   "start_time": "2024-08-21T06:08:04.132914",
   "version": "2.5.0"
  }
 },
 "nbformat": 4,
 "nbformat_minor": 5
}
